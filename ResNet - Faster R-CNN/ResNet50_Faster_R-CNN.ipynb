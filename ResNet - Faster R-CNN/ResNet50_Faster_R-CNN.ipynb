{
  "cells": [
    {
      "cell_type": "markdown",
      "id": "c5b21869",
      "metadata": {
        "id": "c5b21869",
        "papermill": {
          "duration": 0.027823,
          "end_time": "2022-01-24T17:28:38.411484",
          "exception": false,
          "start_time": "2022-01-24T17:28:38.383661",
          "status": "completed"
        },
        "tags": []
      },
      "source": [
        "# Object Detection with Faster RCNN\n",
        "\n",
        "Code is for the following video: https://www.youtube.com/watch?v=Uc90rr5jbA4&t=71s\n",
        "\n",
        "Do give this notebook a thumbs-up if you liked it. Thanks!"
      ]
    },
    {
      "cell_type": "markdown",
      "id": "A7p4U200vps-",
      "metadata": {
        "id": "A7p4U200vps-"
      },
      "source": [
        "## imports"
      ]
    },
    {
      "cell_type": "code",
      "execution_count": null,
      "id": "4f7mUcVEDFJ7",
      "metadata": {
        "colab": {
          "base_uri": "https://localhost:8080/"
        },
        "id": "4f7mUcVEDFJ7",
        "outputId": "0f8f763f-12d0-4b46-fe22-4a02b8e73c72"
      },
      "outputs": [],
      "source": [
        "from google.colab import drive\n",
        "drive.mount('/content/drive')"
      ]
    },
    {
      "cell_type": "code",
      "execution_count": 8,
      "id": "426252c5",
      "metadata": {
        "_cell_guid": "b1076dfc-b9ad-4769-8c92-a6c4dae69d19",
        "_uuid": "8f2839f25d086af736a60e9eeb907d3b93b6e0e5",
        "execution": {
          "iopub.execute_input": "2022-01-24T17:28:38.475849Z",
          "iopub.status.busy": "2022-01-24T17:28:38.474298Z",
          "iopub.status.idle": "2022-01-24T17:28:38.483266Z",
          "shell.execute_reply": "2022-01-24T17:28:38.483651Z",
          "shell.execute_reply.started": "2022-01-19T20:42:19.026643Z"
        },
        "id": "426252c5",
        "papermill": {
          "duration": 0.043297,
          "end_time": "2022-01-24T17:28:38.483883",
          "exception": false,
          "start_time": "2022-01-24T17:28:38.440586",
          "status": "completed"
        },
        "tags": []
      },
      "outputs": [],
      "source": [
        "import numpy as np # linear algebra\n",
        "import pandas as pd # data processing, CSV file I/O (e.g. pd.read_csv)\n",
        "import os"
      ]
    },
    {
      "cell_type": "markdown",
      "id": "619ce77e",
      "metadata": {
        "id": "619ce77e",
        "papermill": {
          "duration": 0.027095,
          "end_time": "2022-01-24T17:28:38.538092",
          "exception": false,
          "start_time": "2022-01-24T17:28:38.510997",
          "status": "completed"
        },
        "tags": []
      },
      "source": [
        "We require the latest version of torchvision"
      ]
    },
    {
      "cell_type": "code",
      "execution_count": null,
      "id": "2f00fada",
      "metadata": {
        "colab": {
          "base_uri": "https://localhost:8080/"
        },
        "execution": {
          "iopub.execute_input": "2022-01-24T17:28:38.599119Z",
          "iopub.status.busy": "2022-01-24T17:28:38.598510Z",
          "iopub.status.idle": "2022-01-24T17:30:10.286087Z",
          "shell.execute_reply": "2022-01-24T17:30:10.285564Z",
          "shell.execute_reply.started": "2022-01-19T20:42:33.608429Z"
        },
        "id": "2f00fada",
        "outputId": "f4cc8e00-ea64-43f9-f3ba-c5e8223ee963",
        "papermill": {
          "duration": 91.720198,
          "end_time": "2022-01-24T17:30:10.286225",
          "exception": false,
          "start_time": "2022-01-24T17:28:38.566027",
          "status": "completed"
        },
        "tags": []
      },
      "outputs": [],
      "source": [
        "!pip install -U torchvision # We need a new versino of torchvision for this project"
      ]
    },
    {
      "cell_type": "markdown",
      "id": "24ff267d",
      "metadata": {
        "id": "24ff267d",
        "papermill": {
          "duration": 0.3151,
          "end_time": "2022-01-24T17:30:10.928193",
          "exception": false,
          "start_time": "2022-01-24T17:30:10.613093",
          "status": "completed"
        },
        "tags": []
      },
      "source": [
        "Here are all the necessary libraries"
      ]
    },
    {
      "cell_type": "code",
      "execution_count": 6,
      "id": "65ac85aa",
      "metadata": {
        "execution": {
          "iopub.execute_input": "2022-01-24T17:30:11.587977Z",
          "iopub.status.busy": "2022-01-24T17:30:11.587096Z",
          "iopub.status.idle": "2022-01-24T17:30:14.298829Z",
          "shell.execute_reply": "2022-01-24T17:30:14.297935Z",
          "shell.execute_reply.started": "2022-01-19T20:44:19.986322Z"
        },
        "id": "65ac85aa",
        "papermill": {
          "duration": 3.053539,
          "end_time": "2022-01-24T17:30:14.298997",
          "exception": false,
          "start_time": "2022-01-24T17:30:11.245458",
          "status": "completed"
        },
        "tags": []
      },
      "outputs": [],
      "source": [
        "import torch\n",
        "import torchvision\n",
        "from torchvision import datasets, models\n",
        "from torchvision.transforms import functional as FT\n",
        "from torchvision import transforms as T\n",
        "from torch import nn, optim\n",
        "from torch.nn import functional as F\n",
        "from torch.utils.data import DataLoader, sampler, random_split, Dataset\n",
        "import copy\n",
        "import math\n",
        "from PIL import Image\n",
        "import cv2\n",
        "import albumentations as A  # our data augmentation library\n",
        "\n",
        "import matplotlib.pyplot as plt\n",
        "%matplotlib inline"
      ]
    },
    {
      "cell_type": "code",
      "execution_count": 7,
      "id": "2a5cfa88",
      "metadata": {
        "execution": {
          "iopub.execute_input": "2022-01-24T17:30:14.969371Z",
          "iopub.status.busy": "2022-01-24T17:30:14.968472Z",
          "iopub.status.idle": "2022-01-24T17:30:14.970351Z",
          "shell.execute_reply": "2022-01-24T17:30:14.970748Z",
          "shell.execute_reply.started": "2022-01-19T20:45:20.528354Z"
        },
        "id": "2a5cfa88",
        "papermill": {
          "duration": 0.332311,
          "end_time": "2022-01-24T17:30:14.970878",
          "exception": false,
          "start_time": "2022-01-24T17:30:14.638567",
          "status": "completed"
        },
        "tags": []
      },
      "outputs": [],
      "source": [
        "# remove arnings (optional)\n",
        "import warnings\n",
        "warnings.filterwarnings(\"ignore\")\n",
        "from collections import defaultdict, deque\n",
        "import datetime\n",
        "import time\n",
        "from tqdm import tqdm # progress bar\n",
        "from torchvision.utils import draw_bounding_boxes"
      ]
    },
    {
      "cell_type": "code",
      "execution_count": null,
      "id": "7daa2e58",
      "metadata": {
        "colab": {
          "base_uri": "https://localhost:8080/"
        },
        "execution": {
          "iopub.execute_input": "2022-01-24T17:30:15.618933Z",
          "iopub.status.busy": "2022-01-24T17:30:15.618316Z",
          "iopub.status.idle": "2022-01-24T17:30:15.622211Z",
          "shell.execute_reply": "2022-01-24T17:30:15.621481Z",
          "shell.execute_reply.started": "2022-01-19T20:45:31.111053Z"
        },
        "id": "7daa2e58",
        "outputId": "06e9c566-1d2c-43e9-bb33-841c151c0e26",
        "papermill": {
          "duration": 0.330906,
          "end_time": "2022-01-24T17:30:15.622372",
          "exception": false,
          "start_time": "2022-01-24T17:30:15.291466",
          "status": "completed"
        },
        "tags": []
      },
      "outputs": [],
      "source": [
        "print(torch.__version__)\n",
        "print(torchvision.__version__)"
      ]
    },
    {
      "cell_type": "markdown",
      "id": "6211d13f",
      "metadata": {
        "id": "6211d13f",
        "papermill": {
          "duration": 0.324233,
          "end_time": "2022-01-24T17:30:16.283049",
          "exception": false,
          "start_time": "2022-01-24T17:30:15.958816",
          "status": "completed"
        },
        "tags": []
      },
      "source": [
        "PyCOCOTools provides many utilities for dealing with datasets in the COCO format, and if you wanted, you could evaluate the model's performance on the dataset with some of the utilities provided with this library.\n",
        "\n",
        "That is out of scope for this notebook, however."
      ]
    },
    {
      "cell_type": "code",
      "execution_count": null,
      "id": "235caa0b",
      "metadata": {
        "colab": {
          "base_uri": "https://localhost:8080/"
        },
        "execution": {
          "iopub.execute_input": "2022-01-24T17:30:16.929340Z",
          "iopub.status.busy": "2022-01-24T17:30:16.928581Z",
          "iopub.status.idle": "2022-01-24T17:30:47.930537Z",
          "shell.execute_reply": "2022-01-24T17:30:47.930060Z",
          "shell.execute_reply.started": "2022-01-19T20:45:56.724268Z"
        },
        "id": "235caa0b",
        "outputId": "acbe3354-7549-4758-99a9-ad225c8e142d",
        "papermill": {
          "duration": 31.32777,
          "end_time": "2022-01-24T17:30:47.930664",
          "exception": false,
          "start_time": "2022-01-24T17:30:16.602894",
          "status": "completed"
        },
        "tags": []
      },
      "outputs": [],
      "source": [
        "# our dataset is in cocoformat, we will need pypcoco tools\n",
        "!pip install pycocotools\n",
        "from pycocotools.coco import COCO"
      ]
    },
    {
      "cell_type": "code",
      "execution_count": 16,
      "id": "3f46612e",
      "metadata": {
        "execution": {
          "iopub.execute_input": "2022-01-24T17:30:48.583174Z",
          "iopub.status.busy": "2022-01-24T17:30:48.582354Z",
          "iopub.status.idle": "2022-01-24T17:30:48.587402Z",
          "shell.execute_reply": "2022-01-24T17:30:48.586899Z",
          "shell.execute_reply.started": "2022-01-19T20:46:26.594887Z"
        },
        "id": "3f46612e",
        "papermill": {
          "duration": 0.335021,
          "end_time": "2022-01-24T17:30:48.587521",
          "exception": false,
          "start_time": "2022-01-24T17:30:48.252500",
          "status": "completed"
        },
        "tags": []
      },
      "outputs": [],
      "source": [
        "# Now, we will define our transforms\n",
        "from albumentations.pytorch import ToTensorV2"
      ]
    },
    {
      "cell_type": "markdown",
      "id": "42e357b7",
      "metadata": {
        "id": "42e357b7",
        "papermill": {
          "duration": 0.325704,
          "end_time": "2022-01-24T17:30:49.235380",
          "exception": false,
          "start_time": "2022-01-24T17:30:48.909676",
          "status": "completed"
        },
        "tags": []
      },
      "source": [
        "We use albumentations as our data augmentation library due to its capability to deal with bounding boxes in multiple formats"
      ]
    },
    {
      "cell_type": "code",
      "execution_count": 5,
      "id": "1a2f8eaf",
      "metadata": {
        "execution": {
          "iopub.execute_input": "2022-01-24T17:30:49.919031Z",
          "iopub.status.busy": "2022-01-24T17:30:49.917980Z",
          "iopub.status.idle": "2022-01-24T17:30:49.919758Z",
          "shell.execute_reply": "2022-01-24T17:30:49.920188Z",
          "shell.execute_reply.started": "2022-01-19T20:47:58.801183Z"
        },
        "id": "1a2f8eaf",
        "papermill": {
          "duration": 0.342053,
          "end_time": "2022-01-24T17:30:49.920332",
          "exception": false,
          "start_time": "2022-01-24T17:30:49.578279",
          "status": "completed"
        },
        "tags": []
      },
      "outputs": [],
      "source": [
        "def get_transforms(train=False):\n",
        "    if train:\n",
        "        transform = A.Compose([\n",
        "            A.Resize(600, 600), # our input size can be 600px\n",
        "            A.HorizontalFlip(p=0.3),\n",
        "            A.VerticalFlip(p=0.3),\n",
        "            A.RandomBrightnessContrast(p=0.1),\n",
        "            A.ColorJitter(p=0.1),\n",
        "            ToTensorV2()\n",
        "        ], bbox_params=A.BboxParams(format='coco'))\n",
        "    else:\n",
        "        transform = A.Compose([\n",
        "            A.Resize(600, 600), # our input size can be 600px\n",
        "            ToTensorV2()\n",
        "        ], bbox_params=A.BboxParams(format='coco'))\n",
        "    return transform"
      ]
    },
    {
      "cell_type": "markdown",
      "id": "c1004621",
      "metadata": {
        "id": "c1004621",
        "papermill": {
          "duration": 0.332129,
          "end_time": "2022-01-24T17:30:50.591883",
          "exception": false,
          "start_time": "2022-01-24T17:30:50.259754",
          "status": "completed"
        },
        "tags": []
      },
      "source": [
        "## Dataset\n",
        "\n",
        "This is our dataset class. It loads all the necessary files and it processes the data so that it can be fed into the model."
      ]
    },
    {
      "cell_type": "code",
      "execution_count": 9,
      "id": "5f145641",
      "metadata": {
        "execution": {
          "iopub.execute_input": "2022-01-24T17:30:51.734778Z",
          "iopub.status.busy": "2022-01-24T17:30:51.733928Z",
          "iopub.status.idle": "2022-01-24T17:30:51.763968Z",
          "shell.execute_reply": "2022-01-24T17:30:51.764593Z",
          "shell.execute_reply.started": "2022-01-19T20:59:21.323926Z"
        },
        "id": "5f145641",
        "papermill": {
          "duration": 0.703455,
          "end_time": "2022-01-24T17:30:51.764806",
          "exception": false,
          "start_time": "2022-01-24T17:30:51.061351",
          "status": "completed"
        },
        "tags": []
      },
      "outputs": [],
      "source": [
        "class SalatkopfDetection(datasets.VisionDataset):\n",
        "    def __init__(self, root, split='train', transform=None, target_transform=None, transforms=None):\n",
        "        # the 3 transform parameters are reuqired for datasets.VisionDataset\n",
        "        super().__init__(root, transforms, transform, target_transform)\n",
        "        self.split = split #train, valid, test\n",
        "        self.coco = COCO(os.path.join(root, split, \"_coco_annotations.json\")) # annotatiosn stored here\n",
        "        self.ids = list(sorted(self.coco.imgs.keys()))\n",
        "        self.ids = [id for id in self.ids if (len(self._load_target(id)) > 0)]\n",
        "    \n",
        "    def _load_image(self, id: int):\n",
        "        path = self.coco.loadImgs(id)[0]['file_name']\n",
        "        image = cv2.imread(os.path.join(self.root, self.split, path))\n",
        "        image = cv2.cvtColor(image, cv2.COLOR_BGR2RGB)\n",
        "        return image\n",
        "    def _load_target(self, id):\n",
        "        return self.coco.loadAnns(self.coco.getAnnIds(id))\n",
        "    \n",
        "    def __getitem__(self, index):\n",
        "        id = self.ids[index]\n",
        "        image = self._load_image(id)\n",
        "        target = self._load_target(id)\n",
        "        target = copy.deepcopy(self._load_target(id))\n",
        "        \n",
        "        boxes = [t['bbox'] + [t['category_id']] for t in target] # required annotation format for albumentations\n",
        "        if self.transforms is not None:\n",
        "            transformed = self.transforms(image=image, bboxes=boxes)\n",
        "        \n",
        "        image = transformed['image']\n",
        "        boxes = transformed['bboxes']\n",
        "        \n",
        "        new_boxes = [] # convert from xywh to xyxy\n",
        "        for box in boxes:\n",
        "            xmin = box[0]\n",
        "            xmax = xmin + box[2]\n",
        "            ymin = box[1]\n",
        "            ymax = ymin + box[3]\n",
        "            new_boxes.append([xmin, ymin, xmax, ymax])\n",
        "\n",
        "            # print(xmin, ymin, xmax, ymax)\n",
        "        \n",
        "        boxes = torch.tensor(new_boxes, dtype=torch.float32)\n",
        "        \n",
        "        targ = {} # here is our transformed target\n",
        "        targ['boxes'] = boxes\n",
        "        targ['labels'] = torch.tensor([t['category_id'] for t in target], dtype=torch.int64)\n",
        "        targ['image_id'] = torch.tensor([t['image_id'] for t in target])\n",
        "        targ['area'] = (boxes[:, 3] - boxes[:, 1]) * (boxes[:, 2] - boxes[:, 0]) # we have a different area\n",
        "        targ['iscrowd'] = torch.tensor([t['iscrowd'] for t in target], dtype=torch.int64)\n",
        "        return image.div(255), targ # scale images\n",
        "    def __len__(self):\n",
        "        return len(self.ids)"
      ]
    },
    {
      "cell_type": "code",
      "execution_count": 11,
      "id": "d58fde75",
      "metadata": {
        "execution": {
          "iopub.execute_input": "2022-01-24T17:30:52.688233Z",
          "iopub.status.busy": "2022-01-24T17:30:52.687146Z",
          "iopub.status.idle": "2022-01-24T17:30:52.688790Z",
          "shell.execute_reply": "2022-01-24T17:30:52.689344Z",
          "shell.execute_reply.started": "2022-01-19T20:59:21.429272Z"
        },
        "id": "d58fde75",
        "papermill": {
          "duration": 0.336778,
          "end_time": "2022-01-24T17:30:52.689489",
          "exception": false,
          "start_time": "2022-01-24T17:30:52.352711",
          "status": "completed"
        },
        "tags": []
      },
      "outputs": [],
      "source": [
        "dataset_path_green = \"/content/drive/MyDrive/faster_r-cnn/data/green\""
      ]
    },
    {
      "cell_type": "code",
      "execution_count": 12,
      "id": "VAz2s-hFp_tP",
      "metadata": {
        "id": "VAz2s-hFp_tP"
      },
      "outputs": [],
      "source": [
        "dataset_path_black = \"/content/drive/MyDrive/faster_r-cnn/data/black\""
      ]
    },
    {
      "cell_type": "code",
      "execution_count": 13,
      "id": "h2iFG0qqqApf",
      "metadata": {
        "id": "h2iFG0qqqApf"
      },
      "outputs": [],
      "source": [
        "dataset_path_normal = \"/content/drive/MyDrive/faster_r-cnn/data/normal\""
      ]
    },
    {
      "cell_type": "code",
      "execution_count": null,
      "id": "d657fd55",
      "metadata": {
        "colab": {
          "base_uri": "https://localhost:8080/"
        },
        "execution": {
          "iopub.execute_input": "2022-01-24T17:30:53.429136Z",
          "iopub.status.busy": "2022-01-24T17:30:53.428557Z",
          "iopub.status.idle": "2022-01-24T17:30:53.479549Z",
          "shell.execute_reply": "2022-01-24T17:30:53.480278Z",
          "shell.execute_reply.started": "2022-01-19T20:59:21.562223Z"
        },
        "id": "d657fd55",
        "outputId": "c3a257e8-d3ff-488e-985a-92e780905f33",
        "papermill": {
          "duration": 0.385897,
          "end_time": "2022-01-24T17:30:53.480486",
          "exception": false,
          "start_time": "2022-01-24T17:30:53.094589",
          "status": "completed"
        },
        "tags": []
      },
      "outputs": [],
      "source": [
        "#load classes\n",
        "coco = COCO(os.path.join(dataset_path_normal, \"train\", \"_coco_annotations.json\"))\n",
        "categories = coco.cats\n",
        "n_classes = len(categories.keys())\n",
        "categories"
      ]
    },
    {
      "cell_type": "markdown",
      "id": "f5148041",
      "metadata": {
        "id": "f5148041",
        "papermill": {
          "duration": 0.355239,
          "end_time": "2022-01-24T17:30:54.158391",
          "exception": false,
          "start_time": "2022-01-24T17:30:53.803152",
          "status": "completed"
        },
        "tags": []
      },
      "source": [
        "This code just gets a list of classes"
      ]
    },
    {
      "cell_type": "code",
      "execution_count": null,
      "id": "173c78f2",
      "metadata": {
        "colab": {
          "base_uri": "https://localhost:8080/"
        },
        "execution": {
          "iopub.execute_input": "2022-01-24T17:30:54.836659Z",
          "iopub.status.busy": "2022-01-24T17:30:54.835693Z",
          "iopub.status.idle": "2022-01-24T17:30:54.838685Z",
          "shell.execute_reply": "2022-01-24T17:30:54.838235Z",
          "shell.execute_reply.started": "2022-01-19T20:59:21.694851Z"
        },
        "id": "173c78f2",
        "outputId": "2756740e-dcbf-4429-8dba-59356358a562",
        "papermill": {
          "duration": 0.336091,
          "end_time": "2022-01-24T17:30:54.838811",
          "exception": false,
          "start_time": "2022-01-24T17:30:54.502720",
          "status": "completed"
        },
        "tags": []
      },
      "outputs": [],
      "source": [
        "classes = [i[1]['name'] for i in categories.items()]\n",
        "classes"
      ]
    },
    {
      "cell_type": "code",
      "execution_count": null,
      "id": "4b06a085",
      "metadata": {
        "colab": {
          "base_uri": "https://localhost:8080/"
        },
        "execution": {
          "iopub.execute_input": "2022-01-24T17:30:55.510368Z",
          "iopub.status.busy": "2022-01-24T17:30:55.509431Z",
          "iopub.status.idle": "2022-01-24T17:30:55.534317Z",
          "shell.execute_reply": "2022-01-24T17:30:55.533600Z",
          "shell.execute_reply.started": "2022-01-19T20:59:22.883345Z"
        },
        "id": "4b06a085",
        "outputId": "6919526b-8f96-4104-c12a-350bf3a48756",
        "papermill": {
          "duration": 0.373744,
          "end_time": "2022-01-24T17:30:55.534491",
          "exception": false,
          "start_time": "2022-01-24T17:30:55.160747",
          "status": "completed"
        },
        "tags": []
      },
      "outputs": [],
      "source": [
        "train_dataset_normal = SalatkopfDetection(root=dataset_path_normal, transforms=get_transforms(True))"
      ]
    },
    {
      "cell_type": "code",
      "execution_count": null,
      "id": "sLEOimrEqTEw",
      "metadata": {
        "colab": {
          "base_uri": "https://localhost:8080/"
        },
        "id": "sLEOimrEqTEw",
        "outputId": "c6521df8-f62f-4ba4-825a-67c6d65633f1"
      },
      "outputs": [],
      "source": [
        "train_dataset_black = SalatkopfDetection(root=dataset_path_black, transforms=get_transforms(True))"
      ]
    },
    {
      "cell_type": "code",
      "execution_count": null,
      "id": "YKspQLX5qWky",
      "metadata": {
        "colab": {
          "base_uri": "https://localhost:8080/"
        },
        "id": "YKspQLX5qWky",
        "outputId": "2098272e-6e17-4708-c526-21190304ae3b"
      },
      "outputs": [],
      "source": [
        "train_dataset_green = SalatkopfDetection(root=dataset_path_green, transforms=get_transforms(True))"
      ]
    },
    {
      "cell_type": "markdown",
      "id": "64aabdae",
      "metadata": {
        "id": "64aabdae",
        "papermill": {
          "duration": 0.324323,
          "end_time": "2022-01-24T17:30:56.206744",
          "exception": false,
          "start_time": "2022-01-24T17:30:55.882421",
          "status": "completed"
        },
        "tags": []
      },
      "source": [
        "This is a sample image and its bounding boxes, this code does not get the model's output"
      ]
    },
    {
      "cell_type": "code",
      "execution_count": null,
      "id": "1f5eefe0",
      "metadata": {
        "colab": {
          "base_uri": "https://localhost:8080/",
          "height": 286
        },
        "execution": {
          "iopub.execute_input": "2022-01-24T17:30:56.869345Z",
          "iopub.status.busy": "2022-01-24T17:30:56.867783Z",
          "iopub.status.idle": "2022-01-24T17:30:57.234877Z",
          "shell.execute_reply": "2022-01-24T17:30:57.235326Z",
          "shell.execute_reply.started": "2022-01-19T20:59:30.028081Z"
        },
        "id": "1f5eefe0",
        "outputId": "fa510c70-6e11-4854-8ca0-42d8ded1e6a6",
        "papermill": {
          "duration": 0.697999,
          "end_time": "2022-01-24T17:30:57.235485",
          "exception": false,
          "start_time": "2022-01-24T17:30:56.537486",
          "status": "completed"
        },
        "tags": []
      },
      "outputs": [],
      "source": [
        "# Lets view a sample\n",
        "sample = train_dataset_normal[0]\n",
        "img_int = torch.tensor(sample[0] * 255, dtype=torch.uint8)\n",
        "plt.imshow(draw_bounding_boxes(\n",
        "    img_int, sample[1]['boxes'], [classes[i] for i in sample[1]['labels']], width=4\n",
        ").permute(1, 2, 0))"
      ]
    },
    {
      "cell_type": "code",
      "execution_count": null,
      "id": "9GQYEGgtqeYt",
      "metadata": {
        "colab": {
          "base_uri": "https://localhost:8080/",
          "height": 286
        },
        "id": "9GQYEGgtqeYt",
        "outputId": "9b841ad4-b4a8-4d94-dd72-28b93d93b558"
      },
      "outputs": [],
      "source": [
        "# Lets view a sample\n",
        "sample = train_dataset_black[0]\n",
        "img_int = torch.tensor(sample[0] * 255, dtype=torch.uint8)\n",
        "plt.imshow(draw_bounding_boxes(\n",
        "    img_int, sample[1]['boxes'], [classes[i] for i in sample[1]['labels']], width=4\n",
        ").permute(1, 2, 0))"
      ]
    },
    {
      "cell_type": "code",
      "execution_count": null,
      "id": "59AhY-1_qhRe",
      "metadata": {
        "colab": {
          "base_uri": "https://localhost:8080/",
          "height": 286
        },
        "id": "59AhY-1_qhRe",
        "outputId": "bce4c60c-f9d6-4a72-f181-125827735f1d"
      },
      "outputs": [],
      "source": [
        "# Lets view a sample\n",
        "sample = train_dataset_green[0]\n",
        "img_int = torch.tensor(sample[0] * 255, dtype=torch.uint8)\n",
        "plt.imshow(draw_bounding_boxes(\n",
        "    img_int, sample[1]['boxes'], [classes[i] for i in sample[1]['labels']], width=4\n",
        ").permute(1, 2, 0))"
      ]
    },
    {
      "cell_type": "code",
      "execution_count": null,
      "id": "9438380f",
      "metadata": {
        "colab": {
          "base_uri": "https://localhost:8080/"
        },
        "execution": {
          "iopub.execute_input": "2022-01-24T17:30:57.921725Z",
          "iopub.status.busy": "2022-01-24T17:30:57.920661Z",
          "iopub.status.idle": "2022-01-24T17:30:57.924541Z",
          "shell.execute_reply": "2022-01-24T17:30:57.924138Z",
          "shell.execute_reply.started": "2022-01-19T20:59:42.689795Z"
        },
        "id": "9438380f",
        "outputId": "27f4711e-ed4a-4451-953a-24b2f2527044",
        "papermill": {
          "duration": 0.341441,
          "end_time": "2022-01-24T17:30:57.924657",
          "exception": false,
          "start_time": "2022-01-24T17:30:57.583216",
          "status": "completed"
        },
        "tags": []
      },
      "outputs": [],
      "source": [
        "len(train_dataset_normal)"
      ]
    },
    {
      "cell_type": "markdown",
      "id": "f7a11e4b",
      "metadata": {
        "id": "f7a11e4b",
        "papermill": {
          "duration": 0.334692,
          "end_time": "2022-01-24T17:30:58.705959",
          "exception": false,
          "start_time": "2022-01-24T17:30:58.371267",
          "status": "completed"
        },
        "tags": []
      },
      "source": [
        "## Model\n",
        "\n",
        "Our model is FasterRCNN with a backbone of `MobileNetV3-Large`. We need to change the output layers because we have just 7 classes but this model was trained on 90 classes."
      ]
    },
    {
      "cell_type": "code",
      "execution_count": 23,
      "id": "8c5006a2",
      "metadata": {
        "execution": {
          "iopub.execute_input": "2022-01-24T17:30:59.378663Z",
          "iopub.status.busy": "2022-01-24T17:30:59.377686Z",
          "iopub.status.idle": "2022-01-24T17:31:00.265846Z",
          "shell.execute_reply": "2022-01-24T17:31:00.266289Z",
          "shell.execute_reply.started": "2022-01-19T21:16:42.698728Z"
        },
        "id": "8c5006a2",
        "papermill": {
          "duration": 1.22997,
          "end_time": "2022-01-24T17:31:00.266453",
          "exception": false,
          "start_time": "2022-01-24T17:30:59.036483",
          "status": "completed"
        },
        "tags": []
      },
      "outputs": [],
      "source": [
        "# lets load the faster rcnn model\n",
        "def get_model():\n",
        "  model = models.detection.fasterrcnn_resnet50_fpn_v2(pretrained=True)\n",
        "  in_features = model.roi_heads.box_predictor.cls_score.in_features # we need to change the head\n",
        "  model.roi_heads.box_predictor = models.detection.faster_rcnn.FastRCNNPredictor(in_features, n_classes)\n",
        "  return model"
      ]
    },
    {
      "cell_type": "markdown",
      "id": "10aac7cb",
      "metadata": {
        "id": "10aac7cb",
        "papermill": {
          "duration": 0.328574,
          "end_time": "2022-01-24T17:31:00.925099",
          "exception": false,
          "start_time": "2022-01-24T17:31:00.596525",
          "status": "completed"
        },
        "tags": []
      },
      "source": [
        "This is our collating function for the train dataloader, it allows us to create batches of data that can be easily pass into the model"
      ]
    },
    {
      "cell_type": "code",
      "execution_count": 24,
      "id": "ee7df4db",
      "metadata": {
        "execution": {
          "iopub.execute_input": "2022-01-24T17:31:01.676004Z",
          "iopub.status.busy": "2022-01-24T17:31:01.675239Z",
          "iopub.status.idle": "2022-01-24T17:31:01.676895Z",
          "shell.execute_reply": "2022-01-24T17:31:01.676474Z",
          "shell.execute_reply.started": "2022-01-19T21:16:45.876065Z"
        },
        "id": "ee7df4db",
        "papermill": {
          "duration": 0.345662,
          "end_time": "2022-01-24T17:31:01.677020",
          "exception": false,
          "start_time": "2022-01-24T17:31:01.331358",
          "status": "completed"
        },
        "tags": []
      },
      "outputs": [],
      "source": [
        "def collate_fn(batch):\n",
        "    return tuple(zip(*batch))"
      ]
    },
    {
      "cell_type": "code",
      "execution_count": 25,
      "id": "a2e2a99b",
      "metadata": {
        "execution": {
          "iopub.execute_input": "2022-01-24T17:31:02.340920Z",
          "iopub.status.busy": "2022-01-24T17:31:02.340238Z",
          "iopub.status.idle": "2022-01-24T17:31:02.341957Z",
          "shell.execute_reply": "2022-01-24T17:31:02.341468Z",
          "shell.execute_reply.started": "2022-01-19T21:16:45.99376Z"
        },
        "id": "a2e2a99b",
        "papermill": {
          "duration": 0.338944,
          "end_time": "2022-01-24T17:31:02.342079",
          "exception": false,
          "start_time": "2022-01-24T17:31:02.003135",
          "status": "completed"
        },
        "tags": []
      },
      "outputs": [],
      "source": [
        "train_loader_normal_4 = DataLoader(train_dataset_normal, batch_size=4, shuffle=True, num_workers=4, collate_fn=collate_fn)"
      ]
    },
    {
      "cell_type": "code",
      "execution_count": 50,
      "id": "8CnohmiRrkmK",
      "metadata": {
        "id": "8CnohmiRrkmK"
      },
      "outputs": [],
      "source": [
        "train_loader_normal_2 = DataLoader(train_dataset_normal, batch_size=2, shuffle=True, num_workers=4, collate_fn=collate_fn)"
      ]
    },
    {
      "cell_type": "code",
      "execution_count": 27,
      "id": "n_prGiLUqoSy",
      "metadata": {
        "id": "n_prGiLUqoSy"
      },
      "outputs": [],
      "source": [
        "train_loader_black_4 = DataLoader(train_dataset_black, batch_size=4, shuffle=True, num_workers=4, collate_fn=collate_fn)"
      ]
    },
    {
      "cell_type": "code",
      "execution_count": 51,
      "id": "KDu10EHgro1j",
      "metadata": {
        "id": "KDu10EHgro1j"
      },
      "outputs": [],
      "source": [
        "train_loader_black_2 = DataLoader(train_dataset_black, batch_size=2, shuffle=True, num_workers=4, collate_fn=collate_fn)"
      ]
    },
    {
      "cell_type": "code",
      "execution_count": 29,
      "id": "D7N_HfOyqrAD",
      "metadata": {
        "id": "D7N_HfOyqrAD"
      },
      "outputs": [],
      "source": [
        "train_loader_green_4 = DataLoader(train_dataset_green, batch_size=4, shuffle=True, num_workers=4, collate_fn=collate_fn)"
      ]
    },
    {
      "cell_type": "code",
      "execution_count": 52,
      "id": "sEqPxDZUrrQ0",
      "metadata": {
        "id": "sEqPxDZUrrQ0"
      },
      "outputs": [],
      "source": [
        "train_loader_green_2 = DataLoader(train_dataset_green, batch_size=2, shuffle=True, num_workers=4, collate_fn=collate_fn)"
      ]
    },
    {
      "cell_type": "markdown",
      "id": "c0d8edc9",
      "metadata": {
        "id": "c0d8edc9",
        "papermill": {
          "duration": 0.424029,
          "end_time": "2022-01-24T17:31:03.251649",
          "exception": false,
          "start_time": "2022-01-24T17:31:02.827620",
          "status": "completed"
        },
        "tags": []
      },
      "source": [
        "The following blocks ensures that the model can take in the data and that it will not crash during training"
      ]
    },
    {
      "cell_type": "code",
      "execution_count": 31,
      "id": "dAgZ8bbnsJMs",
      "metadata": {
        "id": "dAgZ8bbnsJMs"
      },
      "outputs": [],
      "source": [
        "model = get_model()"
      ]
    },
    {
      "cell_type": "code",
      "execution_count": 33,
      "id": "05e5ea86",
      "metadata": {
        "execution": {
          "iopub.execute_input": "2022-01-24T17:31:04.288061Z",
          "iopub.status.busy": "2022-01-24T17:31:04.287179Z",
          "iopub.status.idle": "2022-01-24T17:31:08.301902Z",
          "shell.execute_reply": "2022-01-24T17:31:08.301431Z",
          "shell.execute_reply.started": "2022-01-19T21:16:47.32738Z"
        },
        "id": "05e5ea86",
        "papermill": {
          "duration": 4.351228,
          "end_time": "2022-01-24T17:31:08.302066",
          "exception": false,
          "start_time": "2022-01-24T17:31:03.950838",
          "status": "completed"
        },
        "tags": []
      },
      "outputs": [],
      "source": [
        "images,targets = next(iter(train_loader_normal_4))\n",
        "images = list(image for image in images)\n",
        "targets = [{k:v for k, v in t.items()} for t in targets]\n",
        "output = model(images, targets) # just make sure this runs without error"
      ]
    },
    {
      "cell_type": "code",
      "execution_count": 34,
      "id": "1EhYrs9VrAtH",
      "metadata": {
        "id": "1EhYrs9VrAtH"
      },
      "outputs": [],
      "source": [
        "images,targets = next(iter(train_loader_black_4))\n",
        "images = list(image for image in images)\n",
        "targets = [{k:v for k, v in t.items()} for t in targets]\n",
        "output = model(images, targets) # just make sure this runs without error"
      ]
    },
    {
      "cell_type": "code",
      "execution_count": 35,
      "id": "CzdL_m2BrAhn",
      "metadata": {
        "id": "CzdL_m2BrAhn"
      },
      "outputs": [],
      "source": [
        "images,targets = next(iter(train_loader_green_4))\n",
        "images = list(image for image in images)\n",
        "targets = [{k:v for k, v in t.items()} for t in targets]\n",
        "output = model(images, targets) # just make sure this runs without error"
      ]
    },
    {
      "cell_type": "code",
      "execution_count": 20,
      "id": "22c4e788",
      "metadata": {
        "execution": {
          "iopub.execute_input": "2022-01-24T17:31:09.009628Z",
          "iopub.status.busy": "2022-01-24T17:31:09.008766Z",
          "iopub.status.idle": "2022-01-24T17:31:09.010617Z",
          "shell.execute_reply": "2022-01-24T17:31:09.011032Z",
          "shell.execute_reply.started": "2022-01-19T21:16:51.529527Z"
        },
        "id": "22c4e788",
        "papermill": {
          "duration": 0.336734,
          "end_time": "2022-01-24T17:31:09.011174",
          "exception": false,
          "start_time": "2022-01-24T17:31:08.674440",
          "status": "completed"
        },
        "tags": []
      },
      "outputs": [],
      "source": [
        "device = torch.device(\"cuda\") # use GPU to train"
      ]
    },
    {
      "cell_type": "code",
      "execution_count": 37,
      "id": "a2442fe4",
      "metadata": {
        "execution": {
          "iopub.execute_input": "2022-01-24T17:31:09.686184Z",
          "iopub.status.busy": "2022-01-24T17:31:09.685280Z",
          "iopub.status.idle": "2022-01-24T17:31:12.477024Z",
          "shell.execute_reply": "2022-01-24T17:31:12.476535Z",
          "shell.execute_reply.started": "2022-01-19T21:16:51.537884Z"
        },
        "id": "a2442fe4",
        "papermill": {
          "duration": 3.13958,
          "end_time": "2022-01-24T17:31:12.477159",
          "exception": false,
          "start_time": "2022-01-24T17:31:09.337579",
          "status": "completed"
        },
        "tags": []
      },
      "outputs": [],
      "source": [
        "model = model.to(device)"
      ]
    },
    {
      "cell_type": "markdown",
      "id": "d0fdd838",
      "metadata": {
        "id": "d0fdd838",
        "papermill": {
          "duration": 0.325872,
          "end_time": "2022-01-24T17:31:13.142573",
          "exception": false,
          "start_time": "2022-01-24T17:31:12.816701",
          "status": "completed"
        },
        "tags": []
      },
      "source": [
        "## Optimizer\n",
        "\n",
        "Here, we define the optimizer. If you wish, you can also define the LR Scheduler, but it is not necessary for this notebook since our dataset is so small.\n",
        "\n",
        "> Note, there are a few bugs with the current way `lr_scheduler` is implemented. If you wish to use the scheduler, you will have to fix those bugs"
      ]
    },
    {
      "cell_type": "code",
      "execution_count": 38,
      "id": "1d0a17b2",
      "metadata": {
        "execution": {
          "iopub.execute_input": "2022-01-24T17:31:14.094748Z",
          "iopub.status.busy": "2022-01-24T17:31:14.092985Z",
          "iopub.status.idle": "2022-01-24T17:31:14.095428Z",
          "shell.execute_reply": "2022-01-24T17:31:14.095829Z",
          "shell.execute_reply.started": "2022-01-19T21:16:51.573954Z"
        },
        "id": "1d0a17b2",
        "papermill": {
          "duration": 0.607491,
          "end_time": "2022-01-24T17:31:14.095997",
          "exception": false,
          "start_time": "2022-01-24T17:31:13.488506",
          "status": "completed"
        },
        "tags": []
      },
      "outputs": [],
      "source": [
        "# Now, and optimizer\n",
        "params = [p for p in model.parameters() if p.requires_grad]\n",
        "optimizer = torch.optim.SGD(params, lr=0.01, momentum=0.9, nesterov=True, weight_decay=1e-4)\n",
        "# lr_scheduler = torch.optim.lr_scheduler.MultiStepLR(optimizer, milestones=[16, 22], gamma=0.1) # lr scheduler"
      ]
    },
    {
      "cell_type": "code",
      "execution_count": 39,
      "id": "57f138b2",
      "metadata": {
        "execution": {
          "iopub.execute_input": "2022-01-24T17:31:14.775708Z",
          "iopub.status.busy": "2022-01-24T17:31:14.774877Z",
          "iopub.status.idle": "2022-01-24T17:31:14.776654Z",
          "shell.execute_reply": "2022-01-24T17:31:14.776229Z",
          "shell.execute_reply.started": "2022-01-19T21:16:51.90467Z"
        },
        "id": "57f138b2",
        "papermill": {
          "duration": 0.338348,
          "end_time": "2022-01-24T17:31:14.776765",
          "exception": false,
          "start_time": "2022-01-24T17:31:14.438417",
          "status": "completed"
        },
        "tags": []
      },
      "outputs": [],
      "source": [
        "import sys"
      ]
    },
    {
      "cell_type": "markdown",
      "id": "ae0beee2",
      "metadata": {
        "id": "ae0beee2",
        "papermill": {
          "duration": 0.356549,
          "end_time": "2022-01-24T17:31:15.469287",
          "exception": false,
          "start_time": "2022-01-24T17:31:15.112738",
          "status": "completed"
        },
        "tags": []
      },
      "source": [
        "## Training\n",
        "\n",
        "The following is a function that will train the model for one epoch. Torchvision Object Detections models have a loss function built in, and it will calculate the loss automatically if you pass in the `inputs` and `targets`"
      ]
    },
    {
      "cell_type": "code",
      "execution_count": 40,
      "id": "f14b2849",
      "metadata": {
        "execution": {
          "iopub.execute_input": "2022-01-24T17:31:16.165136Z",
          "iopub.status.busy": "2022-01-24T17:31:16.164404Z",
          "iopub.status.idle": "2022-01-24T17:31:16.167068Z",
          "shell.execute_reply": "2022-01-24T17:31:16.166576Z",
          "shell.execute_reply.started": "2022-01-19T21:17:07.899043Z"
        },
        "id": "f14b2849",
        "papermill": {
          "duration": 0.347589,
          "end_time": "2022-01-24T17:31:16.167249",
          "exception": false,
          "start_time": "2022-01-24T17:31:15.819660",
          "status": "completed"
        },
        "tags": []
      },
      "outputs": [],
      "source": [
        "def train_one_epoch(model, optimizer, loader, device, epoch):\n",
        "    model.to(device)\n",
        "    model.train()\n",
        "    \n",
        "#     lr_scheduler = None\n",
        "#     if epoch == 0:\n",
        "#         warmup_factor = 1.0 / 1000 # do lr warmup\n",
        "#         warmup_iters = min(1000, len(loader) - 1)\n",
        "        \n",
        "#         lr_scheduler = optim.lr_scheduler.LinearLR(optimizer, start_factor = warmup_factor, total_iters=warmup_iters)\n",
        "    \n",
        "    all_losses = []\n",
        "    all_losses_dict = []\n",
        "    \n",
        "    for images, targets in tqdm(loader):\n",
        "        images = list(image.to(device) for image in images)\n",
        "        targets = [{k: torch.tensor(v).to(device) for k, v in t.items()} for t in targets]\n",
        "        \n",
        "        loss_dict = model(images, targets) # the model computes the loss automatically if we pass in targets\n",
        "        losses = sum(loss for loss in loss_dict.values())\n",
        "        loss_dict_append = {k: v.item() for k, v in loss_dict.items()}\n",
        "        loss_value = losses.item()\n",
        "        \n",
        "        all_losses.append(loss_value)\n",
        "        all_losses_dict.append(loss_dict_append)\n",
        "        \n",
        "        if not math.isfinite(loss_value):\n",
        "            print(f\"Loss is {loss_value}, stopping trainig\") # train if loss becomes infinity\n",
        "            print(loss_dict)\n",
        "            sys.exit(1)\n",
        "        \n",
        "        optimizer.zero_grad()\n",
        "        losses.backward()\n",
        "        optimizer.step()\n",
        "        \n",
        "#         if lr_scheduler is not None:\n",
        "#             lr_scheduler.step() # \n",
        "        \n",
        "    all_losses_dict = pd.DataFrame(all_losses_dict) # for printing\n",
        "    print(\"Epoch {}, lr: {:.6f}, loss: {:.6f}, loss_classifier: {:.6f}, loss_box: {:.6f}, loss_rpn_box: {:.6f}, loss_object: {:.6f}\".format(\n",
        "        epoch, optimizer.param_groups[0]['lr'], np.mean(all_losses),\n",
        "        all_losses_dict['loss_classifier'].mean(),\n",
        "        all_losses_dict['loss_box_reg'].mean(),\n",
        "        all_losses_dict['loss_rpn_box_reg'].mean(),\n",
        "        all_losses_dict['loss_objectness'].mean()\n",
        "    ))"
      ]
    },
    {
      "cell_type": "markdown",
      "id": "59aab39a",
      "metadata": {
        "id": "59aab39a",
        "papermill": {
          "duration": 0.328716,
          "end_time": "2022-01-24T17:31:16.821063",
          "exception": false,
          "start_time": "2022-01-24T17:31:16.492347",
          "status": "completed"
        },
        "tags": []
      },
      "source": [
        "10 Epochs should be enough to train this model for a high accuracy"
      ]
    },
    {
      "cell_type": "code",
      "execution_count": null,
      "id": "88c0da70",
      "metadata": {
        "colab": {
          "base_uri": "https://localhost:8080/"
        },
        "execution": {
          "iopub.execute_input": "2022-01-24T17:31:17.500893Z",
          "iopub.status.busy": "2022-01-24T17:31:17.499656Z",
          "iopub.status.idle": "2022-01-24T17:34:19.828669Z",
          "shell.execute_reply": "2022-01-24T17:34:19.828199Z",
          "shell.execute_reply.started": "2022-01-19T21:17:09.340804Z"
        },
        "id": "88c0da70",
        "outputId": "b7f71012-1124-4e79-ddf5-8cc4347396ac",
        "papermill": {
          "duration": 182.678117,
          "end_time": "2022-01-24T17:34:19.828802",
          "exception": false,
          "start_time": "2022-01-24T17:31:17.150685",
          "status": "completed"
        },
        "tags": []
      },
      "outputs": [],
      "source": [
        "num_epochs=100\n",
        "\n",
        "model_normal_4 = get_model()\n",
        "model_normal_4 = model_normal_4.to(device)\n",
        "\n",
        "for epoch in range(num_epochs):\n",
        "    train_one_epoch(model_normal_4, optimizer, train_loader_normal_4, device, epoch)\n",
        "#     lr_scheduler.step()"
      ]
    },
    {
      "cell_type": "code",
      "execution_count": 42,
      "id": "eNaGhrOR3hhp",
      "metadata": {
        "id": "eNaGhrOR3hhp"
      },
      "outputs": [],
      "source": [
        "torch.save(model_normal_4, \"/content/drive/MyDrive/faster_r-cnn/saved_models/resnet50_normal_4_100_epochs.pth\")"
      ]
    },
    {
      "cell_type": "code",
      "execution_count": null,
      "id": "BVu78m6fw7j_",
      "metadata": {
        "colab": {
          "base_uri": "https://localhost:8080/"
        },
        "id": "BVu78m6fw7j_",
        "outputId": "edf66586-1ecd-495c-d938-3f42b3bde0e7"
      },
      "outputs": [],
      "source": [
        "num_epochs=100\n",
        "\n",
        "model_black_4 = get_model()\n",
        "model_black_4 = model_black_4.to(device)\n",
        "\n",
        "for epoch in range(num_epochs):\n",
        "    train_one_epoch(model_black_4, optimizer, train_loader_black_4, device, epoch)\n",
        "#     lr_scheduler.step()"
      ]
    },
    {
      "cell_type": "code",
      "execution_count": 44,
      "id": "wiblSSs_w-9B",
      "metadata": {
        "id": "wiblSSs_w-9B"
      },
      "outputs": [],
      "source": [
        "torch.save(model_black_4, \"/content/drive/MyDrive/faster_r-cnn/saved_models/resnet50_black_4_100_epochs.pth\")"
      ]
    },
    {
      "cell_type": "code",
      "execution_count": null,
      "id": "PH7-a06UxRxD",
      "metadata": {
        "colab": {
          "base_uri": "https://localhost:8080/"
        },
        "id": "PH7-a06UxRxD",
        "outputId": "f52da322-a781-4637-ab81-6b8885ed349e"
      },
      "outputs": [],
      "source": [
        "num_epochs=100\n",
        "\n",
        "model_green_4 = get_model()\n",
        "model_green_4 = model_green_4.to(device)\n",
        "\n",
        "for epoch in range(num_epochs):\n",
        "    train_one_epoch(model_green_4, optimizer, train_loader_green_4, device, epoch)\n",
        "#     lr_scheduler.step()"
      ]
    },
    {
      "cell_type": "code",
      "execution_count": 47,
      "id": "PW20gdHsxYkV",
      "metadata": {
        "id": "PW20gdHsxYkV"
      },
      "outputs": [],
      "source": [
        "torch.save(model_green_4, \"/content/drive/MyDrive/faster_r-cnn/saved_models/resnet50_green_4_100_epochs.pth\")"
      ]
    },
    {
      "cell_type": "code",
      "execution_count": null,
      "id": "J0tqKCM8xuSD",
      "metadata": {
        "colab": {
          "base_uri": "https://localhost:8080/"
        },
        "id": "J0tqKCM8xuSD",
        "outputId": "31fa2422-f81a-4b04-e1bf-cfefaaa7e8e0"
      },
      "outputs": [],
      "source": [
        "num_epochs=100\n",
        "\n",
        "model_normal_2 = get_model()\n",
        "model_normal_2 = model_normal_2.to(device)\n",
        "\n",
        "for epoch in range(num_epochs):\n",
        "    train_one_epoch(model_normal_2, optimizer, train_loader_normal_2, device, epoch)\n",
        "#     lr_scheduler.step()"
      ]
    },
    {
      "cell_type": "code",
      "execution_count": 54,
      "id": "kfrQmOldxxvd",
      "metadata": {
        "id": "kfrQmOldxxvd"
      },
      "outputs": [],
      "source": [
        "torch.save(model_normal_2, \"/content/drive/MyDrive/faster_r-cnn/saved_models/resnet50_normal_2_100_epochs.pth\")"
      ]
    },
    {
      "cell_type": "code",
      "execution_count": null,
      "id": "EiQvS5sSSPa-",
      "metadata": {
        "colab": {
          "base_uri": "https://localhost:8080/"
        },
        "id": "EiQvS5sSSPa-",
        "outputId": "f15663b8-1609-4f57-e1e1-99035c6928bb"
      },
      "outputs": [],
      "source": [
        "num_epochs=100\n",
        "\n",
        "model_black_2 = get_model()\n",
        "model_black_2 = model_black_2.to(device)\n",
        "\n",
        "for epoch in range(num_epochs):\n",
        "    train_one_epoch(model_black_2, optimizer, train_loader_black_2, device, epoch)\n",
        "#     lr_scheduler.step()"
      ]
    },
    {
      "cell_type": "code",
      "execution_count": 57,
      "id": "CQtRU5Dsx2KF",
      "metadata": {
        "id": "CQtRU5Dsx2KF"
      },
      "outputs": [],
      "source": [
        "torch.save(model_black_2, \"/content/drive/MyDrive/faster_r-cnn/saved_models/resnet50_black_2_100_epochs.pth\")"
      ]
    },
    {
      "cell_type": "code",
      "execution_count": null,
      "id": "1yIgvDpZSdjw",
      "metadata": {
        "colab": {
          "base_uri": "https://localhost:8080/"
        },
        "id": "1yIgvDpZSdjw",
        "outputId": "ebecb950-5477-4366-ba45-fdf20d7f4cc1"
      },
      "outputs": [],
      "source": [
        "num_epochs=100\n",
        "\n",
        "model_green_2 = get_model()\n",
        "model_green_2 = model_green_2.to(device)\n",
        "\n",
        "for epoch in range(num_epochs):\n",
        "    train_one_epoch(model_green_2, optimizer, train_loader_green_2, device, epoch)\n",
        "#     lr_scheduler.step()"
      ]
    },
    {
      "cell_type": "code",
      "execution_count": 59,
      "id": "dANlvJl1SjhU",
      "metadata": {
        "id": "dANlvJl1SjhU"
      },
      "outputs": [],
      "source": [
        "torch.save(model_green_2, \"/content/drive/MyDrive/faster_r-cnn/saved_models/resnet50_green_2_100_epochs.pth\")"
      ]
    },
    {
      "cell_type": "code",
      "execution_count": null,
      "id": "Akdgu5EQ_gU-",
      "metadata": {
        "colab": {
          "base_uri": "https://localhost:8080/"
        },
        "id": "Akdgu5EQ_gU-",
        "outputId": "119e4ba2-a4f8-4771-b32b-a7b87f2f7f1f"
      },
      "outputs": [],
      "source": [
        "%tb"
      ]
    },
    {
      "cell_type": "code",
      "execution_count": null,
      "id": "b4e9741f",
      "metadata": {
        "execution": {
          "iopub.execute_input": "2022-01-24T17:34:21.368224Z",
          "iopub.status.busy": "2022-01-24T17:34:21.366614Z",
          "iopub.status.idle": "2022-01-24T17:34:21.368787Z",
          "shell.execute_reply": "2022-01-24T17:34:21.369215Z"
        },
        "id": "b4e9741f",
        "papermill": {
          "duration": 0.873889,
          "end_time": "2022-01-24T17:34:21.369368",
          "exception": false,
          "start_time": "2022-01-24T17:34:20.495479",
          "status": "completed"
        },
        "tags": []
      },
      "outputs": [],
      "source": [
        "# our learning rate was too low, due to a lr scheduler bug. For this task, we wont need a scheudul.er"
      ]
    },
    {
      "cell_type": "markdown",
      "id": "2b9075bb",
      "metadata": {
        "id": "2b9075bb",
        "papermill": {
          "duration": 0.636954,
          "end_time": "2022-01-24T17:34:22.674593",
          "exception": false,
          "start_time": "2022-01-24T17:34:22.037639",
          "status": "completed"
        },
        "tags": []
      },
      "source": [
        "## Trying on sample Images\n",
        "\n",
        "This is the inference code for the model. First, we set the model to evaluation mode and clear the GPU Cache. We also load a test dataset, so that we can use fresh images that the model hasn't seen."
      ]
    },
    {
      "cell_type": "code",
      "execution_count": null,
      "id": "7397dc59",
      "metadata": {
        "execution": {
          "iopub.execute_input": "2022-01-24T17:34:23.973616Z",
          "iopub.status.busy": "2022-01-24T17:34:23.972726Z",
          "iopub.status.idle": "2022-01-24T17:34:23.974773Z",
          "shell.execute_reply": "2022-01-24T17:34:23.975222Z",
          "shell.execute_reply.started": "2022-01-19T21:20:38.284212Z"
        },
        "id": "7397dc59",
        "papermill": {
          "duration": 0.669194,
          "end_time": "2022-01-24T17:34:23.975397",
          "exception": false,
          "start_time": "2022-01-24T17:34:23.306203",
          "status": "completed"
        },
        "tags": []
      },
      "outputs": [],
      "source": [
        "# we will watch first epoich to ensure no errrors\n",
        "# while it is training, lets write code to see the models predictions. lets try again\n",
        "model.eval()\n",
        "torch.cuda.empty_cache()"
      ]
    },
    {
      "cell_type": "code",
      "execution_count": null,
      "id": "39e7f407",
      "metadata": {
        "colab": {
          "base_uri": "https://localhost:8080/"
        },
        "execution": {
          "iopub.execute_input": "2022-01-24T17:34:25.252913Z",
          "iopub.status.busy": "2022-01-24T17:34:25.252376Z",
          "iopub.status.idle": "2022-01-24T17:34:25.271105Z",
          "shell.execute_reply": "2022-01-24T17:34:25.271731Z",
          "shell.execute_reply.started": "2022-01-19T21:20:39.546263Z"
        },
        "id": "39e7f407",
        "outputId": "1995fd8f-c55b-48e2-8865-04e865de03ea",
        "papermill": {
          "duration": 0.663704,
          "end_time": "2022-01-24T17:34:25.271933",
          "exception": false,
          "start_time": "2022-01-24T17:34:24.608229",
          "status": "completed"
        },
        "tags": []
      },
      "outputs": [],
      "source": [
        "test_dataset = AquariumDetection(root=dataset_path, split=\"test\", transforms=get_transforms(False))"
      ]
    },
    {
      "cell_type": "code",
      "execution_count": null,
      "id": "d087a35b",
      "metadata": {
        "execution": {
          "iopub.execute_input": "2022-01-24T17:34:26.659303Z",
          "iopub.status.busy": "2022-01-24T17:34:26.658384Z",
          "iopub.status.idle": "2022-01-24T17:34:26.718843Z",
          "shell.execute_reply": "2022-01-24T17:34:26.719379Z",
          "shell.execute_reply.started": "2022-01-19T21:21:13.617996Z"
        },
        "id": "d087a35b",
        "papermill": {
          "duration": 0.73189,
          "end_time": "2022-01-24T17:34:26.719578",
          "exception": false,
          "start_time": "2022-01-24T17:34:25.987688",
          "status": "completed"
        },
        "tags": []
      },
      "outputs": [],
      "source": [
        "img, _ = test_dataset[2]\n",
        "img_int = torch.tensor(img*255, dtype=torch.uint8)\n",
        "with torch.no_grad():\n",
        "    prediction = model([img.to(device)])\n",
        "    pred = prediction[0]"
      ]
    },
    {
      "cell_type": "code",
      "execution_count": null,
      "id": "20cc11bf",
      "metadata": {
        "execution": {
          "iopub.execute_input": "2022-01-24T17:34:28.038469Z",
          "iopub.status.busy": "2022-01-24T17:34:28.037497Z",
          "iopub.status.idle": "2022-01-24T17:34:28.039895Z",
          "shell.execute_reply": "2022-01-24T17:34:28.039366Z",
          "shell.execute_reply.started": "2022-01-19T21:21:13.729953Z"
        },
        "id": "20cc11bf",
        "papermill": {
          "duration": 0.689231,
          "end_time": "2022-01-24T17:34:28.040051",
          "exception": false,
          "start_time": "2022-01-24T17:34:27.350820",
          "status": "completed"
        },
        "tags": []
      },
      "outputs": [],
      "source": [
        "# it did learn"
      ]
    },
    {
      "cell_type": "code",
      "execution_count": null,
      "id": "4SlHxRIx3Hkl",
      "metadata": {
        "colab": {
          "base_uri": "https://localhost:8080/"
        },
        "id": "4SlHxRIx3Hkl",
        "outputId": "764c3e62-4920-448d-ddc0-3114c682fba9"
      },
      "outputs": [],
      "source": [
        "prediction"
      ]
    },
    {
      "cell_type": "code",
      "execution_count": null,
      "id": "76454ced",
      "metadata": {
        "colab": {
          "base_uri": "https://localhost:8080/",
          "height": 612
        },
        "execution": {
          "iopub.execute_input": "2022-01-24T17:34:29.373107Z",
          "iopub.status.busy": "2022-01-24T17:34:29.372195Z",
          "iopub.status.idle": "2022-01-24T17:34:29.840156Z",
          "shell.execute_reply": "2022-01-24T17:34:29.840579Z",
          "shell.execute_reply.started": "2022-01-19T21:21:13.850307Z"
        },
        "id": "76454ced",
        "outputId": "0f355e19-1911-4d75-874f-d1cd11e9fe09",
        "papermill": {
          "duration": 1.169655,
          "end_time": "2022-01-24T17:34:29.840728",
          "exception": false,
          "start_time": "2022-01-24T17:34:28.671073",
          "status": "completed"
        },
        "tags": []
      },
      "outputs": [],
      "source": [
        "fig = plt.figure(figsize=(14, 10))\n",
        "plt.imshow(draw_bounding_boxes(img_int,\n",
        "    pred['boxes'][pred['scores'] > 0.8],\n",
        "    [classes[i] for i in pred['labels'][pred['scores'] > 0.8].tolist()], width=4\n",
        ").permute(1, 2, 0))"
      ]
    }
  ],
  "metadata": {
    "accelerator": "GPU",
    "colab": {
      "collapsed_sections": [],
      "name": "object_detection_fasterrcnn_tutorial.ipynb",
      "provenance": []
    },
    "gpuClass": "standard",
    "kernelspec": {
      "display_name": "Python 3",
      "language": "python",
      "name": "python3"
    },
    "language_info": {
      "codemirror_mode": {
        "name": "ipython",
        "version": 3
      },
      "file_extension": ".py",
      "mimetype": "text/x-python",
      "name": "python",
      "nbconvert_exporter": "python",
      "pygments_lexer": "ipython3",
      "version": "3.7.12"
    },
    "papermill": {
      "default_parameters": {},
      "duration": 361.810684,
      "end_time": "2022-01-24T17:34:31.817483",
      "environment_variables": {},
      "exception": null,
      "input_path": "__notebook__.ipynb",
      "output_path": "__notebook__.ipynb",
      "parameters": {},
      "start_time": "2022-01-24T17:28:30.006799",
      "version": "2.3.3"
    }
  },
  "nbformat": 4,
  "nbformat_minor": 5
}
