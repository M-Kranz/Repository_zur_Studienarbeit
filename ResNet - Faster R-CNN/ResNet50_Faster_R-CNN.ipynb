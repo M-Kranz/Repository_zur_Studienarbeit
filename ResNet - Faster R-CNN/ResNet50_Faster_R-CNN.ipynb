{
  "cells": [
    {
      "cell_type": "code",
      "source": [
        "%cd /content/drive/MyDrive/faster_r-cnn/data\n",
        "!unzip /content/drive/MyDrive/faster_r-cnn/data/black.zip\n",
        "!unzip /content/drive/MyDrive/faster_r-cnn/data/green.zip"
      ],
      "metadata": {
        "colab": {
          "base_uri": "https://localhost:8080/"
        },
        "id": "vsr_HOHYYxWx",
        "outputId": "53d655f6-2b48-4459-9c11-de9cdfd6053d"
      },
      "id": "vsr_HOHYYxWx",
      "execution_count": 3,
      "outputs": [
        {
          "output_type": "stream",
          "name": "stdout",
          "text": [
            "/content/drive/MyDrive/faster_r-cnn/data\n",
            "Archive:  /content/drive/MyDrive/faster_r-cnn/data/black.zip\n",
            "   creating: black/test/\n",
            "  inflating: black/test/_coco_annotations.json  \n",
            "  inflating: black/test/20220616_131603329_iOS.jpg  \n",
            "  inflating: black/test/20220616_131606681_iOS.jpg  \n",
            "  inflating: black/test/20220616_131645556_iOS.jpg  \n",
            "  inflating: black/test/20220616_131654028_iOS.jpg  \n",
            "  inflating: black/test/20220616_131656079_iOS.jpg  \n",
            "  inflating: black/test/20220616_131709047_iOS.jpg  \n",
            "  inflating: black/test/20220616_131742632_iOS.jpg  \n",
            "  inflating: black/test/20220616_131754007_iOS.jpg  \n",
            "  inflating: black/test/20220616_131800940_iOS.jpg  \n",
            "  inflating: black/test/20220616_131808521_iOS.jpg  \n",
            "  inflating: black/test/20220616_131818873_iOS.jpg  \n",
            "  inflating: black/test/20220616_131959666_iOS.jpg  \n",
            "  inflating: black/test/20220616_132007620_iOS.jpg  \n",
            "  inflating: black/test/20220616_132026209_iOS.jpg  \n",
            "  inflating: black/test/20220616_132029884_iOS.jpg  \n",
            "  inflating: black/test/20220616_132046962_iOS.jpg  \n",
            "  inflating: black/test/20220616_132051878_iOS.jpg  \n",
            "  inflating: black/test/20220616_132356675_iOS.jpg  \n",
            "  inflating: black/test/20220616_132406893_iOS.jpg  \n",
            "  inflating: black/test/20220616_132409540_iOS.jpg  \n",
            "  inflating: black/test/20220616_132420035_iOS.jpg  \n",
            "  inflating: black/test/20220616_132424615_iOS.jpg  \n",
            "  inflating: black/test/20220616_132435187_iOS.jpg  \n",
            "  inflating: black/test/20220616_133653954_iOS.jpg  \n",
            "  inflating: black/test/20220616_133709353_iOS.jpg  \n",
            "  inflating: black/test/20220616_133713504_iOS.jpg  \n",
            "  inflating: black/test/20220616_133722320_iOS.jpg  \n",
            "  inflating: black/test/20220616_133753823_iOS.jpg  \n",
            "  inflating: black/test/20220616_133800108_iOS.jpg  \n",
            "  inflating: black/test/20220616_133807150_iOS.jpg  \n",
            "  inflating: black/test/20220616_133813375_iOS.jpg  \n",
            "  inflating: black/test/20220616_133819949_iOS.jpg  \n",
            "  inflating: black/test/20220616_133911103_iOS.jpg  \n",
            "  inflating: black/test/20220616_133915697_iOS.jpg  \n",
            "  inflating: black/test/20220616_133920337_iOS.jpg  \n",
            "   creating: black/train/\n",
            "  inflating: black/train/_coco_annotations.json  \n",
            "  inflating: black/train/20220616_131458522_iOS.jpg  \n",
            "  inflating: black/train/20220616_131502275_iOS.jpg  \n",
            "  inflating: black/train/20220616_131503692_iOS.jpg  \n",
            "  inflating: black/train/20220616_131507925_iOS.jpg  \n",
            "  inflating: black/train/20220616_131513746_iOS.jpg  \n",
            "  inflating: black/train/20220616_131519812_iOS.jpg  \n",
            "  inflating: black/train/20220616_131524505_iOS.jpg  \n",
            "  inflating: black/train/20220616_131540654_iOS.jpg  \n",
            "  inflating: black/train/20220616_131554674_iOS.jpg  \n",
            "  inflating: black/train/20220616_131557092_iOS.jpg  \n",
            "  inflating: black/train/20220616_131558877_iOS.jpg  \n",
            "  inflating: black/train/20220616_131559927_iOS.jpg  \n",
            "  inflating: black/train/20220616_131602178_iOS.jpg  \n",
            "  inflating: black/train/20220616_131640802_iOS.jpg  \n",
            "  inflating: black/train/20220616_131651443_iOS.jpg  \n",
            "  inflating: black/train/20220616_131657597_iOS.jpg  \n",
            "  inflating: black/train/20220616_131658413_iOS.jpg  \n",
            "  inflating: black/train/20220616_131711299_iOS.jpg  \n",
            "  inflating: black/train/20220616_131745116_iOS.jpg  \n",
            "  inflating: black/train/20220616_131756358_iOS.jpg  \n",
            "  inflating: black/train/20220616_131806270_iOS.jpg  \n",
            "  inflating: black/train/20220616_131812218_iOS.jpg  \n",
            "  inflating: black/train/20220616_131846867_iOS.jpg  \n",
            "  inflating: black/train/20220616_131848719_iOS.jpg  \n",
            "  inflating: black/train/20220616_131853606_iOS.jpg  \n",
            "  inflating: black/train/20220616_131900895_iOS.jpg  \n",
            "  inflating: black/train/20220616_131907167_iOS.jpg  \n",
            "  inflating: black/train/20220616_131910519_iOS.jpg  \n",
            "  inflating: black/train/20220616_131949235_iOS.jpg  \n",
            "  inflating: black/train/20220616_131952136_iOS.jpg  \n",
            "  inflating: black/train/20220616_131954119_iOS.jpg  \n",
            "  inflating: black/train/20220616_131956060_iOS.jpg  \n",
            "  inflating: black/train/20220616_132001014_iOS.jpg  \n",
            "  inflating: black/train/20220616_132027833_iOS.jpg  \n",
            "  inflating: black/train/20220616_132042484_iOS.jpg  \n",
            "  inflating: black/train/20220616_132101037_iOS.jpg  \n",
            "  inflating: black/train/20220616_132122341_iOS.jpg  \n",
            "  inflating: black/train/20220616_132127168_iOS.jpg  \n",
            "  inflating: black/train/20220616_132132120_iOS.jpg  \n",
            "  inflating: black/train/20220616_132134953_iOS.jpg  \n",
            "  inflating: black/train/20220616_132138198_iOS.jpg  \n",
            "  inflating: black/train/20220616_132144587_iOS.jpg  \n",
            "  inflating: black/train/20220616_132149373_iOS.jpg  \n",
            "  inflating: black/train/20220616_132157226_iOS.jpg  \n",
            "  inflating: black/train/20220616_132206308_iOS.jpg  \n",
            "  inflating: black/train/20220616_132254765_iOS.jpg  \n",
            "  inflating: black/train/20220616_132256913_iOS.jpg  \n",
            "  inflating: black/train/20220616_132302513_iOS.jpg  \n",
            "  inflating: black/train/20220616_132304232_iOS.jpg  \n",
            "  inflating: black/train/20220616_132308353_iOS.jpg  \n",
            "  inflating: black/train/20220616_132310241_iOS.jpg  \n",
            "  inflating: black/train/20220616_132312528_iOS.jpg  \n",
            "  inflating: black/train/20220616_132317816_iOS.jpg  \n",
            "  inflating: black/train/20220616_132328016_iOS.jpg  \n",
            "  inflating: black/train/20220616_132330113_iOS.jpg  \n",
            "  inflating: black/train/20220616_132332799_iOS.jpg  \n",
            "  inflating: black/train/20220616_132335283_iOS.jpg  \n",
            "  inflating: black/train/20220616_132343100_iOS.jpg  \n",
            "  inflating: black/train/20220616_132347620_iOS.jpg  \n",
            "  inflating: black/train/20220616_132354584_iOS.jpg  \n",
            "  inflating: black/train/20220616_132357000_iOS.jpg  \n",
            "  inflating: black/train/20220616_132407181_iOS.jpg  \n",
            "  inflating: black/train/20220616_132411907_iOS.jpg  \n",
            "  inflating: black/train/20220616_132431600_iOS.jpg  \n",
            "  inflating: black/train/20220616_133649084_iOS.jpg  \n",
            "  inflating: black/train/20220616_133707376_iOS.jpg  \n",
            "  inflating: black/train/20220616_133715481_iOS.jpg  \n",
            "  inflating: black/train/20220616_133716987_iOS.jpg  \n",
            "  inflating: black/train/20220616_133751241_iOS.jpg  \n",
            "  inflating: black/train/20220616_133755975_iOS.jpg  \n",
            "  inflating: black/train/20220616_133804645_iOS.jpg  \n",
            "  inflating: black/train/20220616_133811114_iOS.jpg  \n",
            "  inflating: black/train/20220616_133815345_iOS.jpg  \n",
            "  inflating: black/train/20220616_133821626_iOS.jpg  \n",
            "  inflating: black/train/20220616_133823307_iOS.jpg  \n",
            "  inflating: black/train/20220616_133827008_iOS.jpg  \n",
            "  inflating: black/train/20220616_133828885_iOS.jpg  \n",
            "  inflating: black/train/20220616_133831544_iOS.jpg  \n",
            "  inflating: black/train/20220616_133835476_iOS.jpg  \n",
            "  inflating: black/train/20220616_133900632_iOS.jpg  \n",
            "  inflating: black/train/20220616_133902531_iOS.jpg  \n",
            "  inflating: black/train/20220616_133905335_iOS.jpg  \n",
            "  inflating: black/train/20220616_133907596_iOS.jpg  \n",
            "  inflating: black/train/20220616_133909059_iOS.jpg  \n",
            "  inflating: black/train/20220616_133913798_iOS.jpg  \n",
            "  inflating: black/train/20220616_133918356_iOS.jpg  \n",
            "  inflating: black/train/20220616_133922680_iOS.jpg  \n",
            "Archive:  /content/drive/MyDrive/faster_r-cnn/data/green.zip\n",
            "   creating: green/test/\n",
            "  inflating: green/test/_coco_annotations.json  \n",
            "  inflating: green/test/20220616_131603329_iOS.jpg  \n",
            "  inflating: green/test/20220616_131606681_iOS.jpg  \n",
            "  inflating: green/test/20220616_131645556_iOS.jpg  \n",
            "  inflating: green/test/20220616_131654028_iOS.jpg  \n",
            "  inflating: green/test/20220616_131656079_iOS.jpg  \n",
            "  inflating: green/test/20220616_131709047_iOS.jpg  \n",
            "  inflating: green/test/20220616_131742632_iOS.jpg  \n",
            "  inflating: green/test/20220616_131754007_iOS.jpg  \n",
            "  inflating: green/test/20220616_131800940_iOS.jpg  \n",
            "  inflating: green/test/20220616_131808521_iOS.jpg  \n",
            "  inflating: green/test/20220616_131818873_iOS.jpg  \n",
            "  inflating: green/test/20220616_131959666_iOS.jpg  \n",
            "  inflating: green/test/20220616_132007620_iOS.jpg  \n",
            "  inflating: green/test/20220616_132026209_iOS.jpg  \n",
            "  inflating: green/test/20220616_132029884_iOS.jpg  \n",
            "  inflating: green/test/20220616_132046962_iOS.jpg  \n",
            "  inflating: green/test/20220616_132051878_iOS.jpg  \n",
            "  inflating: green/test/20220616_132356675_iOS.jpg  \n",
            "  inflating: green/test/20220616_132406893_iOS.jpg  \n",
            "  inflating: green/test/20220616_132409540_iOS.jpg  \n",
            "  inflating: green/test/20220616_132420035_iOS.jpg  \n",
            "  inflating: green/test/20220616_132424615_iOS.jpg  \n",
            "  inflating: green/test/20220616_132435187_iOS.jpg  \n",
            "  inflating: green/test/20220616_133653954_iOS.jpg  \n",
            "  inflating: green/test/20220616_133709353_iOS.jpg  \n",
            "  inflating: green/test/20220616_133713504_iOS.jpg  \n",
            "  inflating: green/test/20220616_133722320_iOS.jpg  \n",
            "  inflating: green/test/20220616_133753823_iOS.jpg  \n",
            "  inflating: green/test/20220616_133800108_iOS.jpg  \n",
            "  inflating: green/test/20220616_133807150_iOS.jpg  \n",
            "  inflating: green/test/20220616_133813375_iOS.jpg  \n",
            "  inflating: green/test/20220616_133819949_iOS.jpg  \n",
            "  inflating: green/test/20220616_133911103_iOS.jpg  \n",
            "  inflating: green/test/20220616_133915697_iOS.jpg  \n",
            "  inflating: green/test/20220616_133920337_iOS.jpg  \n",
            "   creating: green/train/\n",
            "  inflating: green/train/_coco_annotations.json  \n",
            "  inflating: green/train/20220616_131458522_iOS.jpg  \n",
            "  inflating: green/train/20220616_131502275_iOS.jpg  \n",
            "  inflating: green/train/20220616_131503692_iOS.jpg  \n",
            "  inflating: green/train/20220616_131507925_iOS.jpg  \n",
            "  inflating: green/train/20220616_131513746_iOS.jpg  \n",
            "  inflating: green/train/20220616_131519812_iOS.jpg  \n",
            "  inflating: green/train/20220616_131524505_iOS.jpg  \n",
            "  inflating: green/train/20220616_131540654_iOS.jpg  \n",
            "  inflating: green/train/20220616_131554674_iOS.jpg  \n",
            "  inflating: green/train/20220616_131557092_iOS.jpg  \n",
            "  inflating: green/train/20220616_131558877_iOS.jpg  \n",
            "  inflating: green/train/20220616_131559927_iOS.jpg  \n",
            "  inflating: green/train/20220616_131602178_iOS.jpg  \n",
            "  inflating: green/train/20220616_131640802_iOS.jpg  \n",
            "  inflating: green/train/20220616_131651443_iOS.jpg  \n",
            "  inflating: green/train/20220616_131657597_iOS.jpg  \n",
            "  inflating: green/train/20220616_131658413_iOS.jpg  \n",
            "  inflating: green/train/20220616_131711299_iOS.jpg  \n",
            "  inflating: green/train/20220616_131745116_iOS.jpg  \n",
            "  inflating: green/train/20220616_131756358_iOS.jpg  \n",
            "  inflating: green/train/20220616_131806270_iOS.jpg  \n",
            "  inflating: green/train/20220616_131812218_iOS.jpg  \n",
            "  inflating: green/train/20220616_131846867_iOS.jpg  \n",
            "  inflating: green/train/20220616_131848719_iOS.jpg  \n",
            "  inflating: green/train/20220616_131853606_iOS.jpg  \n",
            "  inflating: green/train/20220616_131900895_iOS.jpg  \n",
            "  inflating: green/train/20220616_131907167_iOS.jpg  \n",
            "  inflating: green/train/20220616_131910519_iOS.jpg  \n",
            "  inflating: green/train/20220616_131949235_iOS.jpg  \n",
            "  inflating: green/train/20220616_131952136_iOS.jpg  \n",
            "  inflating: green/train/20220616_131954119_iOS.jpg  \n",
            "  inflating: green/train/20220616_131956060_iOS.jpg  \n",
            "  inflating: green/train/20220616_132001014_iOS.jpg  \n",
            "  inflating: green/train/20220616_132027833_iOS.jpg  \n",
            "  inflating: green/train/20220616_132042484_iOS.jpg  \n",
            "  inflating: green/train/20220616_132101037_iOS.jpg  \n",
            "  inflating: green/train/20220616_132122341_iOS.jpg  \n",
            "  inflating: green/train/20220616_132127168_iOS.jpg  \n",
            "  inflating: green/train/20220616_132132120_iOS.jpg  \n",
            "  inflating: green/train/20220616_132134953_iOS.jpg  \n",
            "  inflating: green/train/20220616_132138198_iOS.jpg  \n",
            "  inflating: green/train/20220616_132144587_iOS.jpg  \n",
            "  inflating: green/train/20220616_132149373_iOS.jpg  \n",
            "  inflating: green/train/20220616_132157226_iOS.jpg  \n",
            "  inflating: green/train/20220616_132206308_iOS.jpg  \n",
            "  inflating: green/train/20220616_132254765_iOS.jpg  \n",
            "  inflating: green/train/20220616_132256913_iOS.jpg  \n",
            "  inflating: green/train/20220616_132302513_iOS.jpg  \n",
            "  inflating: green/train/20220616_132304232_iOS.jpg  \n",
            "  inflating: green/train/20220616_132308353_iOS.jpg  \n",
            "  inflating: green/train/20220616_132310241_iOS.jpg  \n",
            "  inflating: green/train/20220616_132312528_iOS.jpg  \n",
            "  inflating: green/train/20220616_132317816_iOS.jpg  \n",
            "  inflating: green/train/20220616_132328016_iOS.jpg  \n",
            "  inflating: green/train/20220616_132330113_iOS.jpg  \n",
            "  inflating: green/train/20220616_132332799_iOS.jpg  \n",
            "  inflating: green/train/20220616_132335283_iOS.jpg  \n",
            "  inflating: green/train/20220616_132343100_iOS.jpg  \n",
            "  inflating: green/train/20220616_132347620_iOS.jpg  \n",
            "  inflating: green/train/20220616_132354584_iOS.jpg  \n",
            "  inflating: green/train/20220616_132357000_iOS.jpg  \n",
            "  inflating: green/train/20220616_132407181_iOS.jpg  \n",
            "  inflating: green/train/20220616_132411907_iOS.jpg  \n",
            "  inflating: green/train/20220616_132431600_iOS.jpg  \n",
            "  inflating: green/train/20220616_133649084_iOS.jpg  \n",
            "  inflating: green/train/20220616_133707376_iOS.jpg  \n",
            "  inflating: green/train/20220616_133715481_iOS.jpg  \n",
            "  inflating: green/train/20220616_133716987_iOS.jpg  \n",
            "  inflating: green/train/20220616_133751241_iOS.jpg  \n",
            "  inflating: green/train/20220616_133755975_iOS.jpg  \n",
            "  inflating: green/train/20220616_133804645_iOS.jpg  \n",
            "  inflating: green/train/20220616_133811114_iOS.jpg  \n",
            "  inflating: green/train/20220616_133815345_iOS.jpg  \n",
            "  inflating: green/train/20220616_133821626_iOS.jpg  \n",
            "  inflating: green/train/20220616_133823307_iOS.jpg  \n",
            "  inflating: green/train/20220616_133827008_iOS.jpg  \n",
            "  inflating: green/train/20220616_133828885_iOS.jpg  \n",
            "  inflating: green/train/20220616_133831544_iOS.jpg  \n",
            "  inflating: green/train/20220616_133835476_iOS.jpg  \n",
            "  inflating: green/train/20220616_133900632_iOS.jpg  \n",
            "  inflating: green/train/20220616_133902531_iOS.jpg  \n",
            "  inflating: green/train/20220616_133905335_iOS.jpg  \n",
            "  inflating: green/train/20220616_133907596_iOS.jpg  \n",
            "  inflating: green/train/20220616_133909059_iOS.jpg  \n",
            "  inflating: green/train/20220616_133913798_iOS.jpg  \n",
            "  inflating: green/train/20220616_133918356_iOS.jpg  \n",
            "  inflating: green/train/20220616_133922680_iOS.jpg  \n"
          ]
        }
      ]
    },
    {
      "cell_type": "code",
      "source": [
        "%cd /content/drive/MyDrive/faster_r-cnn/green\n",
        "!unzip /content/drive/MyDrive/faster_r-cnn/green/test_green_faster_r-cnn.zip\n",
        "!unzip /content/drive/MyDrive/faster_r-cnn/green/train_green_faster_r-cnn.zip"
      ],
      "metadata": {
        "id": "atqzsvuoY65E"
      },
      "id": "atqzsvuoY65E",
      "execution_count": null,
      "outputs": []
    },
    {
      "cell_type": "code",
      "source": [
        "%cd /content/drive/MyDrive/faster_r-cnn/black\n",
        "!unzip /content/drive/MyDrive/faster_r-cnn/black/test_gray_faster_r-cnn.zip\n",
        "!unzip /content/drive/MyDrive/faster_r-cnn/black/train_gray_faster_r-cnn.zip"
      ],
      "metadata": {
        "id": "aGL9WR0ZZBV3"
      },
      "id": "aGL9WR0ZZBV3",
      "execution_count": null,
      "outputs": []
    },
    {
      "cell_type": "markdown",
      "id": "c5b21869",
      "metadata": {
        "papermill": {
          "duration": 0.027823,
          "end_time": "2022-01-24T17:28:38.411484",
          "exception": false,
          "start_time": "2022-01-24T17:28:38.383661",
          "status": "completed"
        },
        "tags": [],
        "id": "c5b21869"
      },
      "source": [
        "# Object Detection with Faster RCNN\n",
        "\n",
        "Code is for the following video: https://www.youtube.com/watch?v=Uc90rr5jbA4&t=71s\n",
        "\n",
        "Do give this notebook a thumbs-up if you liked it. Thanks!"
      ]
    },
    {
      "cell_type": "code",
      "source": [
        "from google.colab import drive\n",
        "drive.mount('/content/drive')"
      ],
      "metadata": {
        "colab": {
          "base_uri": "https://localhost:8080/"
        },
        "id": "4f7mUcVEDFJ7",
        "outputId": "edea1ed5-ba4d-4546-cc49-da914e1dfb9e"
      },
      "id": "4f7mUcVEDFJ7",
      "execution_count": 2,
      "outputs": [
        {
          "output_type": "stream",
          "name": "stdout",
          "text": [
            "Mounted at /content/drive\n"
          ]
        }
      ]
    },
    {
      "cell_type": "code",
      "execution_count": 4,
      "id": "426252c5",
      "metadata": {
        "_cell_guid": "b1076dfc-b9ad-4769-8c92-a6c4dae69d19",
        "_uuid": "8f2839f25d086af736a60e9eeb907d3b93b6e0e5",
        "execution": {
          "iopub.execute_input": "2022-01-24T17:28:38.475849Z",
          "iopub.status.busy": "2022-01-24T17:28:38.474298Z",
          "iopub.status.idle": "2022-01-24T17:28:38.483266Z",
          "shell.execute_reply": "2022-01-24T17:28:38.483651Z",
          "shell.execute_reply.started": "2022-01-19T20:42:19.026643Z"
        },
        "papermill": {
          "duration": 0.043297,
          "end_time": "2022-01-24T17:28:38.483883",
          "exception": false,
          "start_time": "2022-01-24T17:28:38.440586",
          "status": "completed"
        },
        "tags": [],
        "id": "426252c5"
      },
      "outputs": [],
      "source": [
        "import numpy as np # linear algebra\n",
        "import pandas as pd # data processing, CSV file I/O (e.g. pd.read_csv)\n",
        "import os"
      ]
    },
    {
      "cell_type": "markdown",
      "id": "619ce77e",
      "metadata": {
        "papermill": {
          "duration": 0.027095,
          "end_time": "2022-01-24T17:28:38.538092",
          "exception": false,
          "start_time": "2022-01-24T17:28:38.510997",
          "status": "completed"
        },
        "tags": [],
        "id": "619ce77e"
      },
      "source": [
        "We require the latest version of torchvision"
      ]
    },
    {
      "cell_type": "code",
      "execution_count": 9,
      "id": "2f00fada",
      "metadata": {
        "execution": {
          "iopub.execute_input": "2022-01-24T17:28:38.599119Z",
          "iopub.status.busy": "2022-01-24T17:28:38.598510Z",
          "iopub.status.idle": "2022-01-24T17:30:10.286087Z",
          "shell.execute_reply": "2022-01-24T17:30:10.285564Z",
          "shell.execute_reply.started": "2022-01-19T20:42:33.608429Z"
        },
        "papermill": {
          "duration": 91.720198,
          "end_time": "2022-01-24T17:30:10.286225",
          "exception": false,
          "start_time": "2022-01-24T17:28:38.566027",
          "status": "completed"
        },
        "tags": [],
        "colab": {
          "base_uri": "https://localhost:8080/"
        },
        "id": "2f00fada",
        "outputId": "2225b330-27cf-48f7-90ff-4d506df22ddf"
      },
      "outputs": [
        {
          "output_type": "stream",
          "name": "stdout",
          "text": [
            "Looking in indexes: https://pypi.org/simple, https://us-python.pkg.dev/colab-wheels/public/simple/\n",
            "Requirement already satisfied: torchvision in /usr/local/lib/python3.7/dist-packages (0.13.1+cu113)\n",
            "Requirement already satisfied: numpy in /usr/local/lib/python3.7/dist-packages (from torchvision) (1.21.6)\n",
            "Requirement already satisfied: pillow!=8.3.*,>=5.3.0 in /usr/local/lib/python3.7/dist-packages (from torchvision) (7.1.2)\n",
            "Requirement already satisfied: torch==1.12.1 in /usr/local/lib/python3.7/dist-packages (from torchvision) (1.12.1+cu113)\n",
            "Requirement already satisfied: requests in /usr/local/lib/python3.7/dist-packages (from torchvision) (2.23.0)\n",
            "Requirement already satisfied: typing-extensions in /usr/local/lib/python3.7/dist-packages (from torchvision) (4.1.1)\n",
            "Requirement already satisfied: idna<3,>=2.5 in /usr/local/lib/python3.7/dist-packages (from requests->torchvision) (2.10)\n",
            "Requirement already satisfied: certifi>=2017.4.17 in /usr/local/lib/python3.7/dist-packages (from requests->torchvision) (2022.6.15)\n",
            "Requirement already satisfied: chardet<4,>=3.0.2 in /usr/local/lib/python3.7/dist-packages (from requests->torchvision) (3.0.4)\n",
            "Requirement already satisfied: urllib3!=1.25.0,!=1.25.1,<1.26,>=1.21.1 in /usr/local/lib/python3.7/dist-packages (from requests->torchvision) (1.24.3)\n"
          ]
        }
      ],
      "source": [
        "!pip install -U torchvision # We need a new versino of torchvision for this project"
      ]
    },
    {
      "cell_type": "markdown",
      "id": "24ff267d",
      "metadata": {
        "papermill": {
          "duration": 0.3151,
          "end_time": "2022-01-24T17:30:10.928193",
          "exception": false,
          "start_time": "2022-01-24T17:30:10.613093",
          "status": "completed"
        },
        "tags": [],
        "id": "24ff267d"
      },
      "source": [
        "Here are all the necessary libraries"
      ]
    },
    {
      "cell_type": "code",
      "execution_count": 5,
      "id": "65ac85aa",
      "metadata": {
        "execution": {
          "iopub.execute_input": "2022-01-24T17:30:11.587977Z",
          "iopub.status.busy": "2022-01-24T17:30:11.587096Z",
          "iopub.status.idle": "2022-01-24T17:30:14.298829Z",
          "shell.execute_reply": "2022-01-24T17:30:14.297935Z",
          "shell.execute_reply.started": "2022-01-19T20:44:19.986322Z"
        },
        "papermill": {
          "duration": 3.053539,
          "end_time": "2022-01-24T17:30:14.298997",
          "exception": false,
          "start_time": "2022-01-24T17:30:11.245458",
          "status": "completed"
        },
        "tags": [],
        "id": "65ac85aa"
      },
      "outputs": [],
      "source": [
        "import torch\n",
        "import torchvision\n",
        "from torchvision import datasets, models\n",
        "from torchvision.transforms import functional as FT\n",
        "from torchvision import transforms as T\n",
        "from torch import nn, optim\n",
        "from torch.nn import functional as F\n",
        "from torch.utils.data import DataLoader, sampler, random_split, Dataset\n",
        "import copy\n",
        "import math\n",
        "from PIL import Image\n",
        "import cv2\n",
        "import albumentations as A  # our data augmentation library\n",
        "\n",
        "import matplotlib.pyplot as plt\n",
        "%matplotlib inline"
      ]
    },
    {
      "cell_type": "code",
      "execution_count": 6,
      "id": "2a5cfa88",
      "metadata": {
        "execution": {
          "iopub.execute_input": "2022-01-24T17:30:14.969371Z",
          "iopub.status.busy": "2022-01-24T17:30:14.968472Z",
          "iopub.status.idle": "2022-01-24T17:30:14.970351Z",
          "shell.execute_reply": "2022-01-24T17:30:14.970748Z",
          "shell.execute_reply.started": "2022-01-19T20:45:20.528354Z"
        },
        "papermill": {
          "duration": 0.332311,
          "end_time": "2022-01-24T17:30:14.970878",
          "exception": false,
          "start_time": "2022-01-24T17:30:14.638567",
          "status": "completed"
        },
        "tags": [],
        "id": "2a5cfa88"
      },
      "outputs": [],
      "source": [
        "# remove arnings (optional)\n",
        "import warnings\n",
        "warnings.filterwarnings(\"ignore\")\n",
        "from collections import defaultdict, deque\n",
        "import datetime\n",
        "import time\n",
        "from tqdm import tqdm # progress bar\n",
        "from torchvision.utils import draw_bounding_boxes"
      ]
    },
    {
      "cell_type": "code",
      "execution_count": 7,
      "id": "7daa2e58",
      "metadata": {
        "execution": {
          "iopub.execute_input": "2022-01-24T17:30:15.618933Z",
          "iopub.status.busy": "2022-01-24T17:30:15.618316Z",
          "iopub.status.idle": "2022-01-24T17:30:15.622211Z",
          "shell.execute_reply": "2022-01-24T17:30:15.621481Z",
          "shell.execute_reply.started": "2022-01-19T20:45:31.111053Z"
        },
        "papermill": {
          "duration": 0.330906,
          "end_time": "2022-01-24T17:30:15.622372",
          "exception": false,
          "start_time": "2022-01-24T17:30:15.291466",
          "status": "completed"
        },
        "tags": [],
        "colab": {
          "base_uri": "https://localhost:8080/"
        },
        "id": "7daa2e58",
        "outputId": "dd3a0aaf-32d0-4b97-a444-17d1da38e318"
      },
      "outputs": [
        {
          "output_type": "stream",
          "name": "stdout",
          "text": [
            "1.12.1+cu113\n",
            "0.13.1+cu113\n"
          ]
        }
      ],
      "source": [
        "print(torch.__version__)\n",
        "print(torchvision.__version__)"
      ]
    },
    {
      "cell_type": "markdown",
      "id": "6211d13f",
      "metadata": {
        "papermill": {
          "duration": 0.324233,
          "end_time": "2022-01-24T17:30:16.283049",
          "exception": false,
          "start_time": "2022-01-24T17:30:15.958816",
          "status": "completed"
        },
        "tags": [],
        "id": "6211d13f"
      },
      "source": [
        "PyCOCOTools provides many utilities for dealing with datasets in the COCO format, and if you wanted, you could evaluate the model's performance on the dataset with some of the utilities provided with this library.\n",
        "\n",
        "That is out of scope for this notebook, however."
      ]
    },
    {
      "cell_type": "code",
      "execution_count": 8,
      "id": "235caa0b",
      "metadata": {
        "execution": {
          "iopub.execute_input": "2022-01-24T17:30:16.929340Z",
          "iopub.status.busy": "2022-01-24T17:30:16.928581Z",
          "iopub.status.idle": "2022-01-24T17:30:47.930537Z",
          "shell.execute_reply": "2022-01-24T17:30:47.930060Z",
          "shell.execute_reply.started": "2022-01-19T20:45:56.724268Z"
        },
        "papermill": {
          "duration": 31.32777,
          "end_time": "2022-01-24T17:30:47.930664",
          "exception": false,
          "start_time": "2022-01-24T17:30:16.602894",
          "status": "completed"
        },
        "tags": [],
        "colab": {
          "base_uri": "https://localhost:8080/"
        },
        "id": "235caa0b",
        "outputId": "1af41ec1-463c-4de4-982e-a389b4b90d88"
      },
      "outputs": [
        {
          "output_type": "stream",
          "name": "stdout",
          "text": [
            "Looking in indexes: https://pypi.org/simple, https://us-python.pkg.dev/colab-wheels/public/simple/\n",
            "Requirement already satisfied: pycocotools in /usr/local/lib/python3.7/dist-packages (2.0.4)\n",
            "Requirement already satisfied: numpy in /usr/local/lib/python3.7/dist-packages (from pycocotools) (1.21.6)\n",
            "Requirement already satisfied: matplotlib>=2.1.0 in /usr/local/lib/python3.7/dist-packages (from pycocotools) (3.2.2)\n",
            "Requirement already satisfied: pyparsing!=2.0.4,!=2.1.2,!=2.1.6,>=2.0.1 in /usr/local/lib/python3.7/dist-packages (from matplotlib>=2.1.0->pycocotools) (3.0.9)\n",
            "Requirement already satisfied: python-dateutil>=2.1 in /usr/local/lib/python3.7/dist-packages (from matplotlib>=2.1.0->pycocotools) (2.8.2)\n",
            "Requirement already satisfied: cycler>=0.10 in /usr/local/lib/python3.7/dist-packages (from matplotlib>=2.1.0->pycocotools) (0.11.0)\n",
            "Requirement already satisfied: kiwisolver>=1.0.1 in /usr/local/lib/python3.7/dist-packages (from matplotlib>=2.1.0->pycocotools) (1.4.4)\n",
            "Requirement already satisfied: typing-extensions in /usr/local/lib/python3.7/dist-packages (from kiwisolver>=1.0.1->matplotlib>=2.1.0->pycocotools) (4.1.1)\n",
            "Requirement already satisfied: six>=1.5 in /usr/local/lib/python3.7/dist-packages (from python-dateutil>=2.1->matplotlib>=2.1.0->pycocotools) (1.15.0)\n"
          ]
        }
      ],
      "source": [
        "# our dataset is in cocoformat, we will need pypcoco tools\n",
        "!pip install pycocotools\n",
        "from pycocotools.coco import COCO"
      ]
    },
    {
      "cell_type": "code",
      "execution_count": 9,
      "id": "3f46612e",
      "metadata": {
        "execution": {
          "iopub.execute_input": "2022-01-24T17:30:48.583174Z",
          "iopub.status.busy": "2022-01-24T17:30:48.582354Z",
          "iopub.status.idle": "2022-01-24T17:30:48.587402Z",
          "shell.execute_reply": "2022-01-24T17:30:48.586899Z",
          "shell.execute_reply.started": "2022-01-19T20:46:26.594887Z"
        },
        "papermill": {
          "duration": 0.335021,
          "end_time": "2022-01-24T17:30:48.587521",
          "exception": false,
          "start_time": "2022-01-24T17:30:48.252500",
          "status": "completed"
        },
        "tags": [],
        "id": "3f46612e"
      },
      "outputs": [],
      "source": [
        "# Now, we will define our transforms\n",
        "from albumentations.pytorch import ToTensorV2"
      ]
    },
    {
      "cell_type": "markdown",
      "id": "42e357b7",
      "metadata": {
        "papermill": {
          "duration": 0.325704,
          "end_time": "2022-01-24T17:30:49.235380",
          "exception": false,
          "start_time": "2022-01-24T17:30:48.909676",
          "status": "completed"
        },
        "tags": [],
        "id": "42e357b7"
      },
      "source": [
        "We use albumentations as our data augmentation library due to its capability to deal with bounding boxes in multiple formats"
      ]
    },
    {
      "cell_type": "code",
      "execution_count": 10,
      "id": "1a2f8eaf",
      "metadata": {
        "execution": {
          "iopub.execute_input": "2022-01-24T17:30:49.919031Z",
          "iopub.status.busy": "2022-01-24T17:30:49.917980Z",
          "iopub.status.idle": "2022-01-24T17:30:49.919758Z",
          "shell.execute_reply": "2022-01-24T17:30:49.920188Z",
          "shell.execute_reply.started": "2022-01-19T20:47:58.801183Z"
        },
        "papermill": {
          "duration": 0.342053,
          "end_time": "2022-01-24T17:30:49.920332",
          "exception": false,
          "start_time": "2022-01-24T17:30:49.578279",
          "status": "completed"
        },
        "tags": [],
        "id": "1a2f8eaf"
      },
      "outputs": [],
      "source": [
        "def get_transforms(train=False):\n",
        "    if train:\n",
        "        transform = A.Compose([\n",
        "            A.Resize(600, 600), # our input size can be 600px\n",
        "            A.HorizontalFlip(p=0.3),\n",
        "            A.VerticalFlip(p=0.3),\n",
        "            A.RandomBrightnessContrast(p=0.1),\n",
        "            A.ColorJitter(p=0.1),\n",
        "            ToTensorV2()\n",
        "        ], bbox_params=A.BboxParams(format='coco'))\n",
        "    else:\n",
        "        transform = A.Compose([\n",
        "            A.Resize(600, 600), # our input size can be 600px\n",
        "            ToTensorV2()\n",
        "        ], bbox_params=A.BboxParams(format='coco'))\n",
        "    return transform"
      ]
    },
    {
      "cell_type": "markdown",
      "id": "c1004621",
      "metadata": {
        "papermill": {
          "duration": 0.332129,
          "end_time": "2022-01-24T17:30:50.591883",
          "exception": false,
          "start_time": "2022-01-24T17:30:50.259754",
          "status": "completed"
        },
        "tags": [],
        "id": "c1004621"
      },
      "source": [
        "## Dataset\n",
        "\n",
        "This is our dataset class. It loads all the necessary files and it processes the data so that it can be fed into the model."
      ]
    },
    {
      "cell_type": "code",
      "execution_count": 11,
      "id": "5f145641",
      "metadata": {
        "execution": {
          "iopub.execute_input": "2022-01-24T17:30:51.734778Z",
          "iopub.status.busy": "2022-01-24T17:30:51.733928Z",
          "iopub.status.idle": "2022-01-24T17:30:51.763968Z",
          "shell.execute_reply": "2022-01-24T17:30:51.764593Z",
          "shell.execute_reply.started": "2022-01-19T20:59:21.323926Z"
        },
        "papermill": {
          "duration": 0.703455,
          "end_time": "2022-01-24T17:30:51.764806",
          "exception": false,
          "start_time": "2022-01-24T17:30:51.061351",
          "status": "completed"
        },
        "tags": [],
        "id": "5f145641"
      },
      "outputs": [],
      "source": [
        "class AquariumDetection(datasets.VisionDataset):\n",
        "    def __init__(self, root, split='train', transform=None, target_transform=None, transforms=None):\n",
        "        # the 3 transform parameters are reuqired for datasets.VisionDataset\n",
        "        super().__init__(root, transforms, transform, target_transform)\n",
        "        self.split = split #train, valid, test\n",
        "        self.coco = COCO(os.path.join(root, split, \"_coco_annotations.json\")) # annotatiosn stored here\n",
        "        self.ids = list(sorted(self.coco.imgs.keys()))\n",
        "        self.ids = [id for id in self.ids if (len(self._load_target(id)) > 0)]\n",
        "    \n",
        "    def _load_image(self, id: int):\n",
        "        path = self.coco.loadImgs(id)[0]['file_name']\n",
        "        image = cv2.imread(os.path.join(self.root, self.split, path))\n",
        "        image = cv2.cvtColor(image, cv2.COLOR_BGR2RGB)\n",
        "        return image\n",
        "    def _load_target(self, id):\n",
        "        return self.coco.loadAnns(self.coco.getAnnIds(id))\n",
        "    \n",
        "    def __getitem__(self, index):\n",
        "        id = self.ids[index]\n",
        "        image = self._load_image(id)\n",
        "        target = self._load_target(id)\n",
        "        target = copy.deepcopy(self._load_target(id))\n",
        "        \n",
        "        boxes = [t['bbox'] + [t['category_id']] for t in target] # required annotation format for albumentations\n",
        "        if self.transforms is not None:\n",
        "            transformed = self.transforms(image=image, bboxes=boxes)\n",
        "        \n",
        "        image = transformed['image']\n",
        "        boxes = transformed['bboxes']\n",
        "        \n",
        "        new_boxes = [] # convert from xywh to xyxy\n",
        "        for box in boxes:\n",
        "            xmin = box[0]\n",
        "            xmax = xmin + box[2]\n",
        "            ymin = box[1]\n",
        "            ymax = ymin + box[3]\n",
        "            new_boxes.append([xmin, ymin, xmax, ymax])\n",
        "\n",
        "            # print(xmin, ymin, xmax, ymax)\n",
        "        \n",
        "        boxes = torch.tensor(new_boxes, dtype=torch.float32)\n",
        "        \n",
        "        targ = {} # here is our transformed target\n",
        "        targ['boxes'] = boxes\n",
        "        targ['labels'] = torch.tensor([t['category_id'] for t in target], dtype=torch.int64)\n",
        "        targ['image_id'] = torch.tensor([t['image_id'] for t in target])\n",
        "        targ['area'] = (boxes[:, 3] - boxes[:, 1]) * (boxes[:, 2] - boxes[:, 0]) # we have a different area\n",
        "        targ['iscrowd'] = torch.tensor([t['iscrowd'] for t in target], dtype=torch.int64)\n",
        "        return image.div(255), targ # scale images\n",
        "    def __len__(self):\n",
        "        return len(self.ids)"
      ]
    },
    {
      "cell_type": "code",
      "execution_count": 61,
      "id": "d58fde75",
      "metadata": {
        "execution": {
          "iopub.execute_input": "2022-01-24T17:30:52.688233Z",
          "iopub.status.busy": "2022-01-24T17:30:52.687146Z",
          "iopub.status.idle": "2022-01-24T17:30:52.688790Z",
          "shell.execute_reply": "2022-01-24T17:30:52.689344Z",
          "shell.execute_reply.started": "2022-01-19T20:59:21.429272Z"
        },
        "papermill": {
          "duration": 0.336778,
          "end_time": "2022-01-24T17:30:52.689489",
          "exception": false,
          "start_time": "2022-01-24T17:30:52.352711",
          "status": "completed"
        },
        "tags": [],
        "id": "d58fde75"
      },
      "outputs": [],
      "source": [
        "dataset_path = \"/content/drive/MyDrive/faster_r-cnn/data/green\""
      ]
    },
    {
      "cell_type": "code",
      "execution_count": 62,
      "id": "d657fd55",
      "metadata": {
        "execution": {
          "iopub.execute_input": "2022-01-24T17:30:53.429136Z",
          "iopub.status.busy": "2022-01-24T17:30:53.428557Z",
          "iopub.status.idle": "2022-01-24T17:30:53.479549Z",
          "shell.execute_reply": "2022-01-24T17:30:53.480278Z",
          "shell.execute_reply.started": "2022-01-19T20:59:21.562223Z"
        },
        "papermill": {
          "duration": 0.385897,
          "end_time": "2022-01-24T17:30:53.480486",
          "exception": false,
          "start_time": "2022-01-24T17:30:53.094589",
          "status": "completed"
        },
        "tags": [],
        "colab": {
          "base_uri": "https://localhost:8080/"
        },
        "id": "d657fd55",
        "outputId": "8b62e145-6e89-45ef-9c18-4da4e8f4d6ad"
      },
      "outputs": [
        {
          "output_type": "stream",
          "name": "stdout",
          "text": [
            "loading annotations into memory...\n",
            "Done (t=0.00s)\n",
            "creating index...\n",
            "index created!\n"
          ]
        },
        {
          "output_type": "execute_result",
          "data": {
            "text/plain": [
              "{0: {'id': 0, 'name': 'Eingepackter_Salatkopf', 'supercategory': 'Salat'},\n",
              " 1: {'id': 1, 'name': 'Eisbergsalatkopf', 'supercategory': 'Salat'},\n",
              " 2: {'id': 2, 'name': 'Kopfsalatkopf', 'supercategory': 'Salat'}}"
            ]
          },
          "metadata": {},
          "execution_count": 62
        }
      ],
      "source": [
        "#load classes\n",
        "coco = COCO(os.path.join(dataset_path, \"train\", \"_coco_annotations.json\"))\n",
        "categories = coco.cats\n",
        "n_classes = len(categories.keys())\n",
        "categories"
      ]
    },
    {
      "cell_type": "markdown",
      "id": "f5148041",
      "metadata": {
        "papermill": {
          "duration": 0.355239,
          "end_time": "2022-01-24T17:30:54.158391",
          "exception": false,
          "start_time": "2022-01-24T17:30:53.803152",
          "status": "completed"
        },
        "tags": [],
        "id": "f5148041"
      },
      "source": [
        "This code just gets a list of classes"
      ]
    },
    {
      "cell_type": "code",
      "execution_count": 63,
      "id": "173c78f2",
      "metadata": {
        "execution": {
          "iopub.execute_input": "2022-01-24T17:30:54.836659Z",
          "iopub.status.busy": "2022-01-24T17:30:54.835693Z",
          "iopub.status.idle": "2022-01-24T17:30:54.838685Z",
          "shell.execute_reply": "2022-01-24T17:30:54.838235Z",
          "shell.execute_reply.started": "2022-01-19T20:59:21.694851Z"
        },
        "papermill": {
          "duration": 0.336091,
          "end_time": "2022-01-24T17:30:54.838811",
          "exception": false,
          "start_time": "2022-01-24T17:30:54.502720",
          "status": "completed"
        },
        "tags": [],
        "colab": {
          "base_uri": "https://localhost:8080/"
        },
        "id": "173c78f2",
        "outputId": "870488f2-9d54-4c1b-9fe5-9d35bcab4400"
      },
      "outputs": [
        {
          "output_type": "execute_result",
          "data": {
            "text/plain": [
              "['Eingepackter_Salatkopf', 'Eisbergsalatkopf', 'Kopfsalatkopf']"
            ]
          },
          "metadata": {},
          "execution_count": 63
        }
      ],
      "source": [
        "classes = [i[1]['name'] for i in categories.items()]\n",
        "classes"
      ]
    },
    {
      "cell_type": "code",
      "execution_count": 64,
      "id": "4b06a085",
      "metadata": {
        "execution": {
          "iopub.execute_input": "2022-01-24T17:30:55.510368Z",
          "iopub.status.busy": "2022-01-24T17:30:55.509431Z",
          "iopub.status.idle": "2022-01-24T17:30:55.534317Z",
          "shell.execute_reply": "2022-01-24T17:30:55.533600Z",
          "shell.execute_reply.started": "2022-01-19T20:59:22.883345Z"
        },
        "papermill": {
          "duration": 0.373744,
          "end_time": "2022-01-24T17:30:55.534491",
          "exception": false,
          "start_time": "2022-01-24T17:30:55.160747",
          "status": "completed"
        },
        "tags": [],
        "colab": {
          "base_uri": "https://localhost:8080/"
        },
        "id": "4b06a085",
        "outputId": "9be4bf6f-8d27-4e12-f254-fcfb07f5b6d1"
      },
      "outputs": [
        {
          "output_type": "stream",
          "name": "stdout",
          "text": [
            "loading annotations into memory...\n",
            "Done (t=0.01s)\n",
            "creating index...\n",
            "index created!\n"
          ]
        }
      ],
      "source": [
        "train_dataset = AquariumDetection(root=dataset_path, transforms=get_transforms(True))"
      ]
    },
    {
      "cell_type": "markdown",
      "id": "64aabdae",
      "metadata": {
        "papermill": {
          "duration": 0.324323,
          "end_time": "2022-01-24T17:30:56.206744",
          "exception": false,
          "start_time": "2022-01-24T17:30:55.882421",
          "status": "completed"
        },
        "tags": [],
        "id": "64aabdae"
      },
      "source": [
        "This is a sample image and its bounding boxes, this code does not get the model's output"
      ]
    },
    {
      "cell_type": "code",
      "execution_count": 65,
      "id": "1f5eefe0",
      "metadata": {
        "execution": {
          "iopub.execute_input": "2022-01-24T17:30:56.869345Z",
          "iopub.status.busy": "2022-01-24T17:30:56.867783Z",
          "iopub.status.idle": "2022-01-24T17:30:57.234877Z",
          "shell.execute_reply": "2022-01-24T17:30:57.235326Z",
          "shell.execute_reply.started": "2022-01-19T20:59:30.028081Z"
        },
        "papermill": {
          "duration": 0.697999,
          "end_time": "2022-01-24T17:30:57.235485",
          "exception": false,
          "start_time": "2022-01-24T17:30:56.537486",
          "status": "completed"
        },
        "tags": [],
        "colab": {
          "base_uri": "https://localhost:8080/",
          "height": 286
        },
        "id": "1f5eefe0",
        "outputId": "8a16ee3c-818e-440f-9390-6557ae6a1df1"
      },
      "outputs": [
        {
          "output_type": "execute_result",
          "data": {
            "text/plain": [
              "<matplotlib.image.AxesImage at 0x7fe024829890>"
            ]
          },
          "metadata": {},
          "execution_count": 65
        },
        {
          "output_type": "display_data",
          "data": {
            "text/plain": [
              "<Figure size 432x288 with 1 Axes>"
            ],
            "image/png": "[encoded data removed]"
          },
          "metadata": {
            "needs_background": "light"
          }
        }
      ],
      "source": [
        "# Lets view a sample\n",
        "sample = train_dataset[0]\n",
        "img_int = torch.tensor(sample[0] * 255, dtype=torch.uint8)\n",
        "plt.imshow(draw_bounding_boxes(\n",
        "    img_int, sample[1]['boxes'], [classes[i] for i in sample[1]['labels']], width=4\n",
        ").permute(1, 2, 0))"
      ]
    },
    {
      "cell_type": "code",
      "execution_count": 66,
      "id": "9438380f",
      "metadata": {
        "execution": {
          "iopub.execute_input": "2022-01-24T17:30:57.921725Z",
          "iopub.status.busy": "2022-01-24T17:30:57.920661Z",
          "iopub.status.idle": "2022-01-24T17:30:57.924541Z",
          "shell.execute_reply": "2022-01-24T17:30:57.924138Z",
          "shell.execute_reply.started": "2022-01-19T20:59:42.689795Z"
        },
        "papermill": {
          "duration": 0.341441,
          "end_time": "2022-01-24T17:30:57.924657",
          "exception": false,
          "start_time": "2022-01-24T17:30:57.583216",
          "status": "completed"
        },
        "tags": [],
        "colab": {
          "base_uri": "https://localhost:8080/"
        },
        "id": "9438380f",
        "outputId": "30482817-bc63-4efa-d9f4-3a1787c53612"
      },
      "outputs": [
        {
          "output_type": "execute_result",
          "data": {
            "text/plain": [
              "87"
            ]
          },
          "metadata": {},
          "execution_count": 66
        }
      ],
      "source": [
        "len(train_dataset)"
      ]
    },
    {
      "cell_type": "markdown",
      "id": "f7a11e4b",
      "metadata": {
        "papermill": {
          "duration": 0.334692,
          "end_time": "2022-01-24T17:30:58.705959",
          "exception": false,
          "start_time": "2022-01-24T17:30:58.371267",
          "status": "completed"
        },
        "tags": [],
        "id": "f7a11e4b"
      },
      "source": [
        "## Model\n",
        "\n",
        "Our model is FasterRCNN with a backbone of `MobileNetV3-Large`. We need to change the output layers because we have just 7 classes but this model was trained on 90 classes."
      ]
    },
    {
      "cell_type": "code",
      "execution_count": 86,
      "id": "8c5006a2",
      "metadata": {
        "execution": {
          "iopub.execute_input": "2022-01-24T17:30:59.378663Z",
          "iopub.status.busy": "2022-01-24T17:30:59.377686Z",
          "iopub.status.idle": "2022-01-24T17:31:00.265846Z",
          "shell.execute_reply": "2022-01-24T17:31:00.266289Z",
          "shell.execute_reply.started": "2022-01-19T21:16:42.698728Z"
        },
        "papermill": {
          "duration": 1.22997,
          "end_time": "2022-01-24T17:31:00.266453",
          "exception": false,
          "start_time": "2022-01-24T17:30:59.036483",
          "status": "completed"
        },
        "tags": [],
        "id": "8c5006a2"
      },
      "outputs": [],
      "source": [
        "# lets load the faster rcnn model\n",
        "model = models.detection.fasterrcnn_resnet50_fpn_v2(pretrained=True)\n",
        "in_features = model.roi_heads.box_predictor.cls_score.in_features # we need to change the head\n",
        "model.roi_heads.box_predictor = models.detection.faster_rcnn.FastRCNNPredictor(in_features, n_classes)"
      ]
    },
    {
      "cell_type": "markdown",
      "id": "10aac7cb",
      "metadata": {
        "papermill": {
          "duration": 0.328574,
          "end_time": "2022-01-24T17:31:00.925099",
          "exception": false,
          "start_time": "2022-01-24T17:31:00.596525",
          "status": "completed"
        },
        "tags": [],
        "id": "10aac7cb"
      },
      "source": [
        "This is our collating function for the train dataloader, it allows us to create batches of data that can be easily pass into the model"
      ]
    },
    {
      "cell_type": "code",
      "execution_count": 87,
      "id": "ee7df4db",
      "metadata": {
        "execution": {
          "iopub.execute_input": "2022-01-24T17:31:01.676004Z",
          "iopub.status.busy": "2022-01-24T17:31:01.675239Z",
          "iopub.status.idle": "2022-01-24T17:31:01.676895Z",
          "shell.execute_reply": "2022-01-24T17:31:01.676474Z",
          "shell.execute_reply.started": "2022-01-19T21:16:45.876065Z"
        },
        "papermill": {
          "duration": 0.345662,
          "end_time": "2022-01-24T17:31:01.677020",
          "exception": false,
          "start_time": "2022-01-24T17:31:01.331358",
          "status": "completed"
        },
        "tags": [],
        "id": "ee7df4db"
      },
      "outputs": [],
      "source": [
        "def collate_fn(batch):\n",
        "    return tuple(zip(*batch))"
      ]
    },
    {
      "cell_type": "code",
      "execution_count": 88,
      "id": "a2e2a99b",
      "metadata": {
        "execution": {
          "iopub.execute_input": "2022-01-24T17:31:02.340920Z",
          "iopub.status.busy": "2022-01-24T17:31:02.340238Z",
          "iopub.status.idle": "2022-01-24T17:31:02.341957Z",
          "shell.execute_reply": "2022-01-24T17:31:02.341468Z",
          "shell.execute_reply.started": "2022-01-19T21:16:45.99376Z"
        },
        "papermill": {
          "duration": 0.338944,
          "end_time": "2022-01-24T17:31:02.342079",
          "exception": false,
          "start_time": "2022-01-24T17:31:02.003135",
          "status": "completed"
        },
        "tags": [],
        "id": "a2e2a99b"
      },
      "outputs": [],
      "source": [
        "train_loader = DataLoader(train_dataset, batch_size=4, shuffle=True, num_workers=4, collate_fn=collate_fn)"
      ]
    },
    {
      "cell_type": "markdown",
      "id": "c0d8edc9",
      "metadata": {
        "papermill": {
          "duration": 0.424029,
          "end_time": "2022-01-24T17:31:03.251649",
          "exception": false,
          "start_time": "2022-01-24T17:31:02.827620",
          "status": "completed"
        },
        "tags": [],
        "id": "c0d8edc9"
      },
      "source": [
        "The following blocks ensures that the model can take in the data and that it will not crash during training"
      ]
    },
    {
      "cell_type": "code",
      "execution_count": 89,
      "id": "05e5ea86",
      "metadata": {
        "execution": {
          "iopub.execute_input": "2022-01-24T17:31:04.288061Z",
          "iopub.status.busy": "2022-01-24T17:31:04.287179Z",
          "iopub.status.idle": "2022-01-24T17:31:08.301902Z",
          "shell.execute_reply": "2022-01-24T17:31:08.301431Z",
          "shell.execute_reply.started": "2022-01-19T21:16:47.32738Z"
        },
        "papermill": {
          "duration": 4.351228,
          "end_time": "2022-01-24T17:31:08.302066",
          "exception": false,
          "start_time": "2022-01-24T17:31:03.950838",
          "status": "completed"
        },
        "tags": [],
        "id": "05e5ea86"
      },
      "outputs": [],
      "source": [
        "images,targets = next(iter(train_loader))\n",
        "images = list(image for image in images)\n",
        "targets = [{k:v for k, v in t.items()} for t in targets]\n",
        "output = model(images, targets) # just make sure this runs without error"
      ]
    },
    {
      "cell_type": "code",
      "execution_count": 90,
      "id": "22c4e788",
      "metadata": {
        "execution": {
          "iopub.execute_input": "2022-01-24T17:31:09.009628Z",
          "iopub.status.busy": "2022-01-24T17:31:09.008766Z",
          "iopub.status.idle": "2022-01-24T17:31:09.010617Z",
          "shell.execute_reply": "2022-01-24T17:31:09.011032Z",
          "shell.execute_reply.started": "2022-01-19T21:16:51.529527Z"
        },
        "papermill": {
          "duration": 0.336734,
          "end_time": "2022-01-24T17:31:09.011174",
          "exception": false,
          "start_time": "2022-01-24T17:31:08.674440",
          "status": "completed"
        },
        "tags": [],
        "id": "22c4e788"
      },
      "outputs": [],
      "source": [
        "device = torch.device(\"cuda\") # use GPU to train"
      ]
    },
    {
      "cell_type": "code",
      "execution_count": 91,
      "id": "a2442fe4",
      "metadata": {
        "execution": {
          "iopub.execute_input": "2022-01-24T17:31:09.686184Z",
          "iopub.status.busy": "2022-01-24T17:31:09.685280Z",
          "iopub.status.idle": "2022-01-24T17:31:12.477024Z",
          "shell.execute_reply": "2022-01-24T17:31:12.476535Z",
          "shell.execute_reply.started": "2022-01-19T21:16:51.537884Z"
        },
        "papermill": {
          "duration": 3.13958,
          "end_time": "2022-01-24T17:31:12.477159",
          "exception": false,
          "start_time": "2022-01-24T17:31:09.337579",
          "status": "completed"
        },
        "tags": [],
        "id": "a2442fe4"
      },
      "outputs": [],
      "source": [
        "model = model.to(device)"
      ]
    },
    {
      "cell_type": "markdown",
      "id": "d0fdd838",
      "metadata": {
        "papermill": {
          "duration": 0.325872,
          "end_time": "2022-01-24T17:31:13.142573",
          "exception": false,
          "start_time": "2022-01-24T17:31:12.816701",
          "status": "completed"
        },
        "tags": [],
        "id": "d0fdd838"
      },
      "source": [
        "## Optimizer\n",
        "\n",
        "Here, we define the optimizer. If you wish, you can also define the LR Scheduler, but it is not necessary for this notebook since our dataset is so small.\n",
        "\n",
        "> Note, there are a few bugs with the current way `lr_scheduler` is implemented. If you wish to use the scheduler, you will have to fix those bugs"
      ]
    },
    {
      "cell_type": "code",
      "execution_count": 92,
      "id": "1d0a17b2",
      "metadata": {
        "execution": {
          "iopub.execute_input": "2022-01-24T17:31:14.094748Z",
          "iopub.status.busy": "2022-01-24T17:31:14.092985Z",
          "iopub.status.idle": "2022-01-24T17:31:14.095428Z",
          "shell.execute_reply": "2022-01-24T17:31:14.095829Z",
          "shell.execute_reply.started": "2022-01-19T21:16:51.573954Z"
        },
        "papermill": {
          "duration": 0.607491,
          "end_time": "2022-01-24T17:31:14.095997",
          "exception": false,
          "start_time": "2022-01-24T17:31:13.488506",
          "status": "completed"
        },
        "tags": [],
        "id": "1d0a17b2"
      },
      "outputs": [],
      "source": [
        "# Now, and optimizer\n",
        "params = [p for p in model.parameters() if p.requires_grad]\n",
        "optimizer = torch.optim.SGD(params, lr=0.01, momentum=0.9, nesterov=True, weight_decay=1e-4)\n",
        "# lr_scheduler = torch.optim.lr_scheduler.MultiStepLR(optimizer, milestones=[16, 22], gamma=0.1) # lr scheduler"
      ]
    },
    {
      "cell_type": "code",
      "execution_count": 93,
      "id": "57f138b2",
      "metadata": {
        "execution": {
          "iopub.execute_input": "2022-01-24T17:31:14.775708Z",
          "iopub.status.busy": "2022-01-24T17:31:14.774877Z",
          "iopub.status.idle": "2022-01-24T17:31:14.776654Z",
          "shell.execute_reply": "2022-01-24T17:31:14.776229Z",
          "shell.execute_reply.started": "2022-01-19T21:16:51.90467Z"
        },
        "papermill": {
          "duration": 0.338348,
          "end_time": "2022-01-24T17:31:14.776765",
          "exception": false,
          "start_time": "2022-01-24T17:31:14.438417",
          "status": "completed"
        },
        "tags": [],
        "id": "57f138b2"
      },
      "outputs": [],
      "source": [
        "import sys"
      ]
    },
    {
      "cell_type": "markdown",
      "id": "ae0beee2",
      "metadata": {
        "papermill": {
          "duration": 0.356549,
          "end_time": "2022-01-24T17:31:15.469287",
          "exception": false,
          "start_time": "2022-01-24T17:31:15.112738",
          "status": "completed"
        },
        "tags": [],
        "id": "ae0beee2"
      },
      "source": [
        "## Training\n",
        "\n",
        "The following is a function that will train the model for one epoch. Torchvision Object Detections models have a loss function built in, and it will calculate the loss automatically if you pass in the `inputs` and `targets`"
      ]
    },
    {
      "cell_type": "code",
      "execution_count": 94,
      "id": "f14b2849",
      "metadata": {
        "execution": {
          "iopub.execute_input": "2022-01-24T17:31:16.165136Z",
          "iopub.status.busy": "2022-01-24T17:31:16.164404Z",
          "iopub.status.idle": "2022-01-24T17:31:16.167068Z",
          "shell.execute_reply": "2022-01-24T17:31:16.166576Z",
          "shell.execute_reply.started": "2022-01-19T21:17:07.899043Z"
        },
        "papermill": {
          "duration": 0.347589,
          "end_time": "2022-01-24T17:31:16.167249",
          "exception": false,
          "start_time": "2022-01-24T17:31:15.819660",
          "status": "completed"
        },
        "tags": [],
        "id": "f14b2849"
      },
      "outputs": [],
      "source": [
        "def train_one_epoch(model, optimizer, loader, device, epoch):\n",
        "    model.to(device)\n",
        "    model.train()\n",
        "    \n",
        "#     lr_scheduler = None\n",
        "#     if epoch == 0:\n",
        "#         warmup_factor = 1.0 / 1000 # do lr warmup\n",
        "#         warmup_iters = min(1000, len(loader) - 1)\n",
        "        \n",
        "#         lr_scheduler = optim.lr_scheduler.LinearLR(optimizer, start_factor = warmup_factor, total_iters=warmup_iters)\n",
        "    \n",
        "    all_losses = []\n",
        "    all_losses_dict = []\n",
        "    \n",
        "    for images, targets in tqdm(loader):\n",
        "        images = list(image.to(device) for image in images)\n",
        "        targets = [{k: torch.tensor(v).to(device) for k, v in t.items()} for t in targets]\n",
        "        \n",
        "        loss_dict = model(images, targets) # the model computes the loss automatically if we pass in targets\n",
        "        losses = sum(loss for loss in loss_dict.values())\n",
        "        loss_dict_append = {k: v.item() for k, v in loss_dict.items()}\n",
        "        loss_value = losses.item()\n",
        "        \n",
        "        all_losses.append(loss_value)\n",
        "        all_losses_dict.append(loss_dict_append)\n",
        "        \n",
        "        if not math.isfinite(loss_value):\n",
        "            print(f\"Loss is {loss_value}, stopping trainig\") # train if loss becomes infinity\n",
        "            print(loss_dict)\n",
        "            sys.exit(1)\n",
        "        \n",
        "        optimizer.zero_grad()\n",
        "        losses.backward()\n",
        "        optimizer.step()\n",
        "        \n",
        "#         if lr_scheduler is not None:\n",
        "#             lr_scheduler.step() # \n",
        "        \n",
        "    all_losses_dict = pd.DataFrame(all_losses_dict) # for printing\n",
        "    print(\"Epoch {}, lr: {:.6f}, loss: {:.6f}, loss_classifier: {:.6f}, loss_box: {:.6f}, loss_rpn_box: {:.6f}, loss_object: {:.6f}\".format(\n",
        "        epoch, optimizer.param_groups[0]['lr'], np.mean(all_losses),\n",
        "        all_losses_dict['loss_classifier'].mean(),\n",
        "        all_losses_dict['loss_box_reg'].mean(),\n",
        "        all_losses_dict['loss_rpn_box_reg'].mean(),\n",
        "        all_losses_dict['loss_objectness'].mean()\n",
        "    ))"
      ]
    },
    {
      "cell_type": "markdown",
      "id": "59aab39a",
      "metadata": {
        "papermill": {
          "duration": 0.328716,
          "end_time": "2022-01-24T17:31:16.821063",
          "exception": false,
          "start_time": "2022-01-24T17:31:16.492347",
          "status": "completed"
        },
        "tags": [],
        "id": "59aab39a"
      },
      "source": [
        "10 Epochs should be enough to train this model for a high accuracy"
      ]
    },
    {
      "cell_type": "code",
      "execution_count": 95,
      "id": "88c0da70",
      "metadata": {
        "execution": {
          "iopub.execute_input": "2022-01-24T17:31:17.500893Z",
          "iopub.status.busy": "2022-01-24T17:31:17.499656Z",
          "iopub.status.idle": "2022-01-24T17:34:19.828669Z",
          "shell.execute_reply": "2022-01-24T17:34:19.828199Z",
          "shell.execute_reply.started": "2022-01-19T21:17:09.340804Z"
        },
        "papermill": {
          "duration": 182.678117,
          "end_time": "2022-01-24T17:34:19.828802",
          "exception": false,
          "start_time": "2022-01-24T17:31:17.150685",
          "status": "completed"
        },
        "tags": [],
        "colab": {
          "base_uri": "https://localhost:8080/"
        },
        "id": "88c0da70",
        "outputId": "d407c9d2-4472-4207-a932-03776875625c"
      },
      "outputs": [
        {
          "output_type": "stream",
          "name": "stderr",
          "text": [
            "100%|██████████| 22/22 [00:34<00:00,  1.57s/it]\n"
          ]
        },
        {
          "output_type": "stream",
          "name": "stdout",
          "text": [
            "Epoch 0, lr: 0.010000, loss: 0.780506, loss_classifier: 0.157076, loss_box: 0.011896, loss_rpn_box: 0.017063, loss_object: 0.594471\n"
          ]
        },
        {
          "output_type": "stream",
          "name": "stderr",
          "text": [
            "100%|██████████| 22/22 [00:34<00:00,  1.58s/it]\n"
          ]
        },
        {
          "output_type": "stream",
          "name": "stdout",
          "text": [
            "Epoch 1, lr: 0.010000, loss: 0.371528, loss_classifier: 0.101991, loss_box: 0.071767, loss_rpn_box: 0.016003, loss_object: 0.181767\n"
          ]
        },
        {
          "output_type": "stream",
          "name": "stderr",
          "text": [
            "100%|██████████| 22/22 [00:32<00:00,  1.46s/it]\n"
          ]
        },
        {
          "output_type": "stream",
          "name": "stdout",
          "text": [
            "Epoch 2, lr: 0.010000, loss: 0.435500, loss_classifier: 0.166281, loss_box: 0.163781, loss_rpn_box: 0.016600, loss_object: 0.088838\n"
          ]
        },
        {
          "output_type": "stream",
          "name": "stderr",
          "text": [
            "100%|██████████| 22/22 [00:32<00:00,  1.48s/it]\n"
          ]
        },
        {
          "output_type": "stream",
          "name": "stdout",
          "text": [
            "Epoch 3, lr: 0.010000, loss: 0.401765, loss_classifier: 0.154757, loss_box: 0.156906, loss_rpn_box: 0.015904, loss_object: 0.074198\n"
          ]
        },
        {
          "output_type": "stream",
          "name": "stderr",
          "text": [
            "100%|██████████| 22/22 [00:32<00:00,  1.46s/it]\n"
          ]
        },
        {
          "output_type": "stream",
          "name": "stdout",
          "text": [
            "Epoch 4, lr: 0.010000, loss: 0.387143, loss_classifier: 0.150475, loss_box: 0.149436, loss_rpn_box: 0.015599, loss_object: 0.071633\n"
          ]
        },
        {
          "output_type": "stream",
          "name": "stderr",
          "text": [
            "100%|██████████| 22/22 [00:32<00:00,  1.48s/it]\n"
          ]
        },
        {
          "output_type": "stream",
          "name": "stdout",
          "text": [
            "Epoch 5, lr: 0.010000, loss: 0.353015, loss_classifier: 0.137501, loss_box: 0.132442, loss_rpn_box: 0.015079, loss_object: 0.067993\n"
          ]
        },
        {
          "output_type": "stream",
          "name": "stderr",
          "text": [
            "100%|██████████| 22/22 [00:32<00:00,  1.49s/it]\n"
          ]
        },
        {
          "output_type": "stream",
          "name": "stdout",
          "text": [
            "Epoch 6, lr: 0.010000, loss: 0.297620, loss_classifier: 0.111491, loss_box: 0.107367, loss_rpn_box: 0.015034, loss_object: 0.063728\n"
          ]
        },
        {
          "output_type": "stream",
          "name": "stderr",
          "text": [
            "100%|██████████| 22/22 [00:32<00:00,  1.47s/it]\n"
          ]
        },
        {
          "output_type": "stream",
          "name": "stdout",
          "text": [
            "Epoch 7, lr: 0.010000, loss: 0.282693, loss_classifier: 0.109301, loss_box: 0.101371, loss_rpn_box: 0.015056, loss_object: 0.056965\n"
          ]
        },
        {
          "output_type": "stream",
          "name": "stderr",
          "text": [
            "100%|██████████| 22/22 [00:32<00:00,  1.48s/it]\n"
          ]
        },
        {
          "output_type": "stream",
          "name": "stdout",
          "text": [
            "Epoch 8, lr: 0.010000, loss: 0.324720, loss_classifier: 0.131269, loss_box: 0.130481, loss_rpn_box: 0.014920, loss_object: 0.048050\n"
          ]
        },
        {
          "output_type": "stream",
          "name": "stderr",
          "text": [
            "100%|██████████| 22/22 [00:33<00:00,  1.52s/it]\n"
          ]
        },
        {
          "output_type": "stream",
          "name": "stdout",
          "text": [
            "Epoch 9, lr: 0.010000, loss: 0.362819, loss_classifier: 0.145349, loss_box: 0.159866, loss_rpn_box: 0.015000, loss_object: 0.042604\n"
          ]
        },
        {
          "output_type": "stream",
          "name": "stderr",
          "text": [
            "100%|██████████| 22/22 [00:32<00:00,  1.48s/it]\n"
          ]
        },
        {
          "output_type": "stream",
          "name": "stdout",
          "text": [
            "Epoch 10, lr: 0.010000, loss: 0.349574, loss_classifier: 0.140837, loss_box: 0.153557, loss_rpn_box: 0.014931, loss_object: 0.040250\n"
          ]
        },
        {
          "output_type": "stream",
          "name": "stderr",
          "text": [
            "100%|██████████| 22/22 [00:32<00:00,  1.49s/it]\n"
          ]
        },
        {
          "output_type": "stream",
          "name": "stdout",
          "text": [
            "Epoch 11, lr: 0.010000, loss: 0.343939, loss_classifier: 0.136178, loss_box: 0.147741, loss_rpn_box: 0.015280, loss_object: 0.044740\n"
          ]
        },
        {
          "output_type": "stream",
          "name": "stderr",
          "text": [
            "100%|██████████| 22/22 [00:32<00:00,  1.47s/it]\n"
          ]
        },
        {
          "output_type": "stream",
          "name": "stdout",
          "text": [
            "Epoch 12, lr: 0.010000, loss: 0.321693, loss_classifier: 0.132858, loss_box: 0.133214, loss_rpn_box: 0.014362, loss_object: 0.041259\n"
          ]
        },
        {
          "output_type": "stream",
          "name": "stderr",
          "text": [
            "100%|██████████| 22/22 [00:32<00:00,  1.47s/it]\n"
          ]
        },
        {
          "output_type": "stream",
          "name": "stdout",
          "text": [
            "Epoch 13, lr: 0.010000, loss: 0.342170, loss_classifier: 0.135745, loss_box: 0.152426, loss_rpn_box: 0.014243, loss_object: 0.039756\n"
          ]
        },
        {
          "output_type": "stream",
          "name": "stderr",
          "text": [
            "100%|██████████| 22/22 [00:32<00:00,  1.47s/it]\n"
          ]
        },
        {
          "output_type": "stream",
          "name": "stdout",
          "text": [
            "Epoch 14, lr: 0.010000, loss: 0.349831, loss_classifier: 0.137161, loss_box: 0.159590, loss_rpn_box: 0.013667, loss_object: 0.039412\n"
          ]
        },
        {
          "output_type": "stream",
          "name": "stderr",
          "text": [
            "100%|██████████| 22/22 [00:32<00:00,  1.47s/it]\n"
          ]
        },
        {
          "output_type": "stream",
          "name": "stdout",
          "text": [
            "Epoch 15, lr: 0.010000, loss: 0.366986, loss_classifier: 0.149221, loss_box: 0.167138, loss_rpn_box: 0.014107, loss_object: 0.036519\n"
          ]
        },
        {
          "output_type": "stream",
          "name": "stderr",
          "text": [
            "100%|██████████| 22/22 [00:32<00:00,  1.49s/it]\n"
          ]
        },
        {
          "output_type": "stream",
          "name": "stdout",
          "text": [
            "Epoch 16, lr: 0.010000, loss: 0.316672, loss_classifier: 0.124348, loss_box: 0.142248, loss_rpn_box: 0.013758, loss_object: 0.036318\n"
          ]
        },
        {
          "output_type": "stream",
          "name": "stderr",
          "text": [
            "100%|██████████| 22/22 [00:32<00:00,  1.48s/it]\n"
          ]
        },
        {
          "output_type": "stream",
          "name": "stdout",
          "text": [
            "Epoch 17, lr: 0.010000, loss: 0.351719, loss_classifier: 0.136125, loss_box: 0.164636, loss_rpn_box: 0.013324, loss_object: 0.037634\n"
          ]
        },
        {
          "output_type": "stream",
          "name": "stderr",
          "text": [
            "100%|██████████| 22/22 [00:32<00:00,  1.47s/it]\n"
          ]
        },
        {
          "output_type": "stream",
          "name": "stdout",
          "text": [
            "Epoch 18, lr: 0.010000, loss: 0.329425, loss_classifier: 0.129606, loss_box: 0.149642, loss_rpn_box: 0.013732, loss_object: 0.036445\n"
          ]
        },
        {
          "output_type": "stream",
          "name": "stderr",
          "text": [
            "100%|██████████| 22/22 [00:32<00:00,  1.46s/it]\n"
          ]
        },
        {
          "output_type": "stream",
          "name": "stdout",
          "text": [
            "Epoch 19, lr: 0.010000, loss: 0.336868, loss_classifier: 0.131711, loss_box: 0.155504, loss_rpn_box: 0.013479, loss_object: 0.036175\n"
          ]
        },
        {
          "output_type": "stream",
          "name": "stderr",
          "text": [
            "100%|██████████| 22/22 [00:32<00:00,  1.47s/it]\n"
          ]
        },
        {
          "output_type": "stream",
          "name": "stdout",
          "text": [
            "Epoch 20, lr: 0.010000, loss: 0.326518, loss_classifier: 0.132600, loss_box: 0.145773, loss_rpn_box: 0.013655, loss_object: 0.034490\n"
          ]
        },
        {
          "output_type": "stream",
          "name": "stderr",
          "text": [
            "100%|██████████| 22/22 [00:32<00:00,  1.50s/it]\n"
          ]
        },
        {
          "output_type": "stream",
          "name": "stdout",
          "text": [
            "Epoch 21, lr: 0.010000, loss: 0.296357, loss_classifier: 0.119633, loss_box: 0.131929, loss_rpn_box: 0.012968, loss_object: 0.031826\n"
          ]
        },
        {
          "output_type": "stream",
          "name": "stderr",
          "text": [
            "100%|██████████| 22/22 [00:33<00:00,  1.50s/it]\n"
          ]
        },
        {
          "output_type": "stream",
          "name": "stdout",
          "text": [
            "Epoch 22, lr: 0.010000, loss: 0.317307, loss_classifier: 0.122654, loss_box: 0.151211, loss_rpn_box: 0.012702, loss_object: 0.030740\n"
          ]
        },
        {
          "output_type": "stream",
          "name": "stderr",
          "text": [
            "100%|██████████| 22/22 [00:32<00:00,  1.48s/it]\n"
          ]
        },
        {
          "output_type": "stream",
          "name": "stdout",
          "text": [
            "Epoch 23, lr: 0.010000, loss: 0.280221, loss_classifier: 0.107444, loss_box: 0.128395, loss_rpn_box: 0.013163, loss_object: 0.031220\n"
          ]
        },
        {
          "output_type": "stream",
          "name": "stderr",
          "text": [
            "100%|██████████| 22/22 [00:32<00:00,  1.47s/it]\n"
          ]
        },
        {
          "output_type": "stream",
          "name": "stdout",
          "text": [
            "Epoch 24, lr: 0.010000, loss: 0.318623, loss_classifier: 0.126384, loss_box: 0.145839, loss_rpn_box: 0.012857, loss_object: 0.033543\n"
          ]
        },
        {
          "output_type": "stream",
          "name": "stderr",
          "text": [
            "100%|██████████| 22/22 [00:32<00:00,  1.47s/it]\n"
          ]
        },
        {
          "output_type": "stream",
          "name": "stdout",
          "text": [
            "Epoch 25, lr: 0.010000, loss: 0.287376, loss_classifier: 0.110047, loss_box: 0.134844, loss_rpn_box: 0.012886, loss_object: 0.029599\n"
          ]
        },
        {
          "output_type": "stream",
          "name": "stderr",
          "text": [
            "100%|██████████| 22/22 [00:32<00:00,  1.46s/it]\n"
          ]
        },
        {
          "output_type": "stream",
          "name": "stdout",
          "text": [
            "Epoch 26, lr: 0.010000, loss: 0.277364, loss_classifier: 0.103108, loss_box: 0.132576, loss_rpn_box: 0.012279, loss_object: 0.029402\n"
          ]
        },
        {
          "output_type": "stream",
          "name": "stderr",
          "text": [
            "100%|██████████| 22/22 [00:32<00:00,  1.50s/it]\n"
          ]
        },
        {
          "output_type": "stream",
          "name": "stdout",
          "text": [
            "Epoch 27, lr: 0.010000, loss: 0.295161, loss_classifier: 0.113492, loss_box: 0.142476, loss_rpn_box: 0.012039, loss_object: 0.027154\n"
          ]
        },
        {
          "output_type": "stream",
          "name": "stderr",
          "text": [
            "100%|██████████| 22/22 [00:32<00:00,  1.48s/it]\n"
          ]
        },
        {
          "output_type": "stream",
          "name": "stdout",
          "text": [
            "Epoch 28, lr: 0.010000, loss: 0.313441, loss_classifier: 0.120866, loss_box: 0.154597, loss_rpn_box: 0.012798, loss_object: 0.025180\n"
          ]
        },
        {
          "output_type": "stream",
          "name": "stderr",
          "text": [
            "100%|██████████| 22/22 [00:32<00:00,  1.48s/it]\n"
          ]
        },
        {
          "output_type": "stream",
          "name": "stdout",
          "text": [
            "Epoch 29, lr: 0.010000, loss: 0.287400, loss_classifier: 0.112952, loss_box: 0.136759, loss_rpn_box: 0.012105, loss_object: 0.025584\n"
          ]
        },
        {
          "output_type": "stream",
          "name": "stderr",
          "text": [
            "100%|██████████| 22/22 [00:32<00:00,  1.49s/it]\n"
          ]
        },
        {
          "output_type": "stream",
          "name": "stdout",
          "text": [
            "Epoch 30, lr: 0.010000, loss: 0.271807, loss_classifier: 0.104227, loss_box: 0.128981, loss_rpn_box: 0.012100, loss_object: 0.026500\n"
          ]
        },
        {
          "output_type": "stream",
          "name": "stderr",
          "text": [
            "100%|██████████| 22/22 [00:32<00:00,  1.48s/it]\n"
          ]
        },
        {
          "output_type": "stream",
          "name": "stdout",
          "text": [
            "Epoch 31, lr: 0.010000, loss: 0.291681, loss_classifier: 0.111708, loss_box: 0.141492, loss_rpn_box: 0.012352, loss_object: 0.026128\n"
          ]
        },
        {
          "output_type": "stream",
          "name": "stderr",
          "text": [
            "100%|██████████| 22/22 [00:32<00:00,  1.48s/it]\n"
          ]
        },
        {
          "output_type": "stream",
          "name": "stdout",
          "text": [
            "Epoch 32, lr: 0.010000, loss: 0.282295, loss_classifier: 0.105875, loss_box: 0.139915, loss_rpn_box: 0.011395, loss_object: 0.025110\n"
          ]
        },
        {
          "output_type": "stream",
          "name": "stderr",
          "text": [
            "100%|██████████| 22/22 [00:32<00:00,  1.47s/it]\n"
          ]
        },
        {
          "output_type": "stream",
          "name": "stdout",
          "text": [
            "Epoch 33, lr: 0.010000, loss: 0.296476, loss_classifier: 0.112583, loss_box: 0.148018, loss_rpn_box: 0.011819, loss_object: 0.024055\n"
          ]
        },
        {
          "output_type": "stream",
          "name": "stderr",
          "text": [
            "100%|██████████| 22/22 [00:32<00:00,  1.46s/it]\n"
          ]
        },
        {
          "output_type": "stream",
          "name": "stdout",
          "text": [
            "Epoch 34, lr: 0.010000, loss: 0.260217, loss_classifier: 0.099404, loss_box: 0.130562, loss_rpn_box: 0.011183, loss_object: 0.019068\n"
          ]
        },
        {
          "output_type": "stream",
          "name": "stderr",
          "text": [
            "100%|██████████| 22/22 [00:32<00:00,  1.48s/it]\n"
          ]
        },
        {
          "output_type": "stream",
          "name": "stdout",
          "text": [
            "Epoch 35, lr: 0.010000, loss: 0.259325, loss_classifier: 0.097651, loss_box: 0.126752, loss_rpn_box: 0.011299, loss_object: 0.023623\n"
          ]
        },
        {
          "output_type": "stream",
          "name": "stderr",
          "text": [
            "100%|██████████| 22/22 [00:32<00:00,  1.49s/it]\n"
          ]
        },
        {
          "output_type": "stream",
          "name": "stdout",
          "text": [
            "Epoch 36, lr: 0.010000, loss: 0.243875, loss_classifier: 0.088055, loss_box: 0.123631, loss_rpn_box: 0.010886, loss_object: 0.021303\n"
          ]
        },
        {
          "output_type": "stream",
          "name": "stderr",
          "text": [
            "100%|██████████| 22/22 [00:32<00:00,  1.49s/it]\n"
          ]
        },
        {
          "output_type": "stream",
          "name": "stdout",
          "text": [
            "Epoch 37, lr: 0.010000, loss: 0.253274, loss_classifier: 0.095759, loss_box: 0.125878, loss_rpn_box: 0.011346, loss_object: 0.020291\n"
          ]
        },
        {
          "output_type": "stream",
          "name": "stderr",
          "text": [
            "100%|██████████| 22/22 [00:33<00:00,  1.50s/it]\n"
          ]
        },
        {
          "output_type": "stream",
          "name": "stdout",
          "text": [
            "Epoch 38, lr: 0.010000, loss: 0.255009, loss_classifier: 0.096202, loss_box: 0.125852, loss_rpn_box: 0.010924, loss_object: 0.022030\n"
          ]
        },
        {
          "output_type": "stream",
          "name": "stderr",
          "text": [
            "100%|██████████| 22/22 [00:32<00:00,  1.48s/it]\n"
          ]
        },
        {
          "output_type": "stream",
          "name": "stdout",
          "text": [
            "Epoch 39, lr: 0.010000, loss: 0.240644, loss_classifier: 0.090502, loss_box: 0.119648, loss_rpn_box: 0.010843, loss_object: 0.019651\n"
          ]
        },
        {
          "output_type": "stream",
          "name": "stderr",
          "text": [
            "100%|██████████| 22/22 [00:32<00:00,  1.48s/it]\n"
          ]
        },
        {
          "output_type": "stream",
          "name": "stdout",
          "text": [
            "Epoch 40, lr: 0.010000, loss: 0.253484, loss_classifier: 0.096419, loss_box: 0.126491, loss_rpn_box: 0.011346, loss_object: 0.019228\n"
          ]
        },
        {
          "output_type": "stream",
          "name": "stderr",
          "text": [
            "100%|██████████| 22/22 [00:32<00:00,  1.47s/it]\n"
          ]
        },
        {
          "output_type": "stream",
          "name": "stdout",
          "text": [
            "Epoch 41, lr: 0.010000, loss: 0.214485, loss_classifier: 0.077157, loss_box: 0.108791, loss_rpn_box: 0.010586, loss_object: 0.017950\n"
          ]
        },
        {
          "output_type": "stream",
          "name": "stderr",
          "text": [
            "100%|██████████| 22/22 [00:32<00:00,  1.48s/it]\n"
          ]
        },
        {
          "output_type": "stream",
          "name": "stdout",
          "text": [
            "Epoch 42, lr: 0.010000, loss: 0.228054, loss_classifier: 0.080903, loss_box: 0.117245, loss_rpn_box: 0.010325, loss_object: 0.019581\n"
          ]
        },
        {
          "output_type": "stream",
          "name": "stderr",
          "text": [
            "100%|██████████| 22/22 [00:33<00:00,  1.51s/it]\n"
          ]
        },
        {
          "output_type": "stream",
          "name": "stdout",
          "text": [
            "Epoch 43, lr: 0.010000, loss: 0.211164, loss_classifier: 0.072931, loss_box: 0.107919, loss_rpn_box: 0.010925, loss_object: 0.019388\n"
          ]
        },
        {
          "output_type": "stream",
          "name": "stderr",
          "text": [
            "100%|██████████| 22/22 [00:32<00:00,  1.47s/it]\n"
          ]
        },
        {
          "output_type": "stream",
          "name": "stdout",
          "text": [
            "Epoch 44, lr: 0.010000, loss: 0.201462, loss_classifier: 0.072224, loss_box: 0.100909, loss_rpn_box: 0.010601, loss_object: 0.017728\n"
          ]
        },
        {
          "output_type": "stream",
          "name": "stderr",
          "text": [
            "100%|██████████| 22/22 [00:32<00:00,  1.48s/it]\n"
          ]
        },
        {
          "output_type": "stream",
          "name": "stdout",
          "text": [
            "Epoch 45, lr: 0.010000, loss: 0.189409, loss_classifier: 0.070385, loss_box: 0.093998, loss_rpn_box: 0.010564, loss_object: 0.014461\n"
          ]
        },
        {
          "output_type": "stream",
          "name": "stderr",
          "text": [
            "100%|██████████| 22/22 [00:32<00:00,  1.47s/it]\n"
          ]
        },
        {
          "output_type": "stream",
          "name": "stdout",
          "text": [
            "Epoch 46, lr: 0.010000, loss: 0.211626, loss_classifier: 0.080844, loss_box: 0.105658, loss_rpn_box: 0.010125, loss_object: 0.014999\n"
          ]
        },
        {
          "output_type": "stream",
          "name": "stderr",
          "text": [
            "100%|██████████| 22/22 [00:32<00:00,  1.47s/it]\n"
          ]
        },
        {
          "output_type": "stream",
          "name": "stdout",
          "text": [
            "Epoch 47, lr: 0.010000, loss: 0.208056, loss_classifier: 0.071250, loss_box: 0.110311, loss_rpn_box: 0.010542, loss_object: 0.015952\n"
          ]
        },
        {
          "output_type": "stream",
          "name": "stderr",
          "text": [
            "100%|██████████| 22/22 [00:33<00:00,  1.50s/it]\n"
          ]
        },
        {
          "output_type": "stream",
          "name": "stdout",
          "text": [
            "Epoch 48, lr: 0.010000, loss: 0.184812, loss_classifier: 0.063465, loss_box: 0.094555, loss_rpn_box: 0.010591, loss_object: 0.016201\n"
          ]
        },
        {
          "output_type": "stream",
          "name": "stderr",
          "text": [
            "100%|██████████| 22/22 [00:32<00:00,  1.46s/it]\n"
          ]
        },
        {
          "output_type": "stream",
          "name": "stdout",
          "text": [
            "Epoch 49, lr: 0.010000, loss: 0.188686, loss_classifier: 0.063483, loss_box: 0.100608, loss_rpn_box: 0.009857, loss_object: 0.014738\n"
          ]
        },
        {
          "output_type": "stream",
          "name": "stderr",
          "text": [
            "100%|██████████| 22/22 [00:32<00:00,  1.47s/it]\n"
          ]
        },
        {
          "output_type": "stream",
          "name": "stdout",
          "text": [
            "Epoch 50, lr: 0.010000, loss: 0.182651, loss_classifier: 0.062033, loss_box: 0.098302, loss_rpn_box: 0.009272, loss_object: 0.013044\n"
          ]
        },
        {
          "output_type": "stream",
          "name": "stderr",
          "text": [
            "100%|██████████| 22/22 [00:32<00:00,  1.48s/it]\n"
          ]
        },
        {
          "output_type": "stream",
          "name": "stdout",
          "text": [
            "Epoch 51, lr: 0.010000, loss: 0.179530, loss_classifier: 0.062515, loss_box: 0.093294, loss_rpn_box: 0.009140, loss_object: 0.014581\n"
          ]
        },
        {
          "output_type": "stream",
          "name": "stderr",
          "text": [
            "100%|██████████| 22/22 [00:32<00:00,  1.47s/it]\n"
          ]
        },
        {
          "output_type": "stream",
          "name": "stdout",
          "text": [
            "Epoch 52, lr: 0.010000, loss: 0.193255, loss_classifier: 0.070539, loss_box: 0.096068, loss_rpn_box: 0.008995, loss_object: 0.017654\n"
          ]
        },
        {
          "output_type": "stream",
          "name": "stderr",
          "text": [
            "100%|██████████| 22/22 [00:32<00:00,  1.46s/it]\n"
          ]
        },
        {
          "output_type": "stream",
          "name": "stdout",
          "text": [
            "Epoch 53, lr: 0.010000, loss: 0.184783, loss_classifier: 0.069598, loss_box: 0.092159, loss_rpn_box: 0.009913, loss_object: 0.013112\n"
          ]
        },
        {
          "output_type": "stream",
          "name": "stderr",
          "text": [
            "100%|██████████| 22/22 [00:32<00:00,  1.47s/it]\n"
          ]
        },
        {
          "output_type": "stream",
          "name": "stdout",
          "text": [
            "Epoch 54, lr: 0.010000, loss: 0.193290, loss_classifier: 0.068959, loss_box: 0.100463, loss_rpn_box: 0.009950, loss_object: 0.013917\n"
          ]
        },
        {
          "output_type": "stream",
          "name": "stderr",
          "text": [
            "100%|██████████| 22/22 [00:32<00:00,  1.47s/it]\n"
          ]
        },
        {
          "output_type": "stream",
          "name": "stdout",
          "text": [
            "Epoch 55, lr: 0.010000, loss: 0.195414, loss_classifier: 0.067220, loss_box: 0.102831, loss_rpn_box: 0.009650, loss_object: 0.015713\n"
          ]
        },
        {
          "output_type": "stream",
          "name": "stderr",
          "text": [
            "100%|██████████| 22/22 [00:32<00:00,  1.48s/it]\n"
          ]
        },
        {
          "output_type": "stream",
          "name": "stdout",
          "text": [
            "Epoch 56, lr: 0.010000, loss: 0.177468, loss_classifier: 0.062332, loss_box: 0.091927, loss_rpn_box: 0.009959, loss_object: 0.013250\n"
          ]
        },
        {
          "output_type": "stream",
          "name": "stderr",
          "text": [
            "100%|██████████| 22/22 [00:32<00:00,  1.48s/it]\n"
          ]
        },
        {
          "output_type": "stream",
          "name": "stdout",
          "text": [
            "Epoch 57, lr: 0.010000, loss: 0.176306, loss_classifier: 0.060896, loss_box: 0.094196, loss_rpn_box: 0.009002, loss_object: 0.012211\n"
          ]
        },
        {
          "output_type": "stream",
          "name": "stderr",
          "text": [
            "100%|██████████| 22/22 [00:34<00:00,  1.56s/it]\n"
          ]
        },
        {
          "output_type": "stream",
          "name": "stdout",
          "text": [
            "Epoch 58, lr: 0.010000, loss: 0.169796, loss_classifier: 0.056294, loss_box: 0.091675, loss_rpn_box: 0.008889, loss_object: 0.012938\n"
          ]
        },
        {
          "output_type": "stream",
          "name": "stderr",
          "text": [
            "100%|██████████| 22/22 [00:32<00:00,  1.48s/it]\n"
          ]
        },
        {
          "output_type": "stream",
          "name": "stdout",
          "text": [
            "Epoch 59, lr: 0.010000, loss: 0.151923, loss_classifier: 0.052618, loss_box: 0.080417, loss_rpn_box: 0.008672, loss_object: 0.010216\n"
          ]
        },
        {
          "output_type": "stream",
          "name": "stderr",
          "text": [
            "100%|██████████| 22/22 [00:32<00:00,  1.48s/it]\n"
          ]
        },
        {
          "output_type": "stream",
          "name": "stdout",
          "text": [
            "Epoch 60, lr: 0.010000, loss: 0.136332, loss_classifier: 0.042988, loss_box: 0.074242, loss_rpn_box: 0.008142, loss_object: 0.010960\n"
          ]
        },
        {
          "output_type": "stream",
          "name": "stderr",
          "text": [
            "100%|██████████| 22/22 [00:32<00:00,  1.47s/it]\n"
          ]
        },
        {
          "output_type": "stream",
          "name": "stdout",
          "text": [
            "Epoch 61, lr: 0.010000, loss: 0.161941, loss_classifier: 0.055182, loss_box: 0.084874, loss_rpn_box: 0.008233, loss_object: 0.013653\n"
          ]
        },
        {
          "output_type": "stream",
          "name": "stderr",
          "text": [
            "100%|██████████| 22/22 [00:32<00:00,  1.48s/it]\n"
          ]
        },
        {
          "output_type": "stream",
          "name": "stdout",
          "text": [
            "Epoch 62, lr: 0.010000, loss: 0.145406, loss_classifier: 0.047941, loss_box: 0.077584, loss_rpn_box: 0.009299, loss_object: 0.010581\n"
          ]
        },
        {
          "output_type": "stream",
          "name": "stderr",
          "text": [
            "100%|██████████| 22/22 [00:32<00:00,  1.49s/it]\n"
          ]
        },
        {
          "output_type": "stream",
          "name": "stdout",
          "text": [
            "Epoch 63, lr: 0.010000, loss: 0.154383, loss_classifier: 0.052623, loss_box: 0.082361, loss_rpn_box: 0.008722, loss_object: 0.010677\n"
          ]
        },
        {
          "output_type": "stream",
          "name": "stderr",
          "text": [
            "100%|██████████| 22/22 [00:32<00:00,  1.47s/it]\n"
          ]
        },
        {
          "output_type": "stream",
          "name": "stdout",
          "text": [
            "Epoch 64, lr: 0.010000, loss: 0.135937, loss_classifier: 0.045011, loss_box: 0.073421, loss_rpn_box: 0.007784, loss_object: 0.009721\n"
          ]
        },
        {
          "output_type": "stream",
          "name": "stderr",
          "text": [
            "100%|██████████| 22/22 [00:32<00:00,  1.49s/it]\n"
          ]
        },
        {
          "output_type": "stream",
          "name": "stdout",
          "text": [
            "Epoch 65, lr: 0.010000, loss: 0.138308, loss_classifier: 0.045907, loss_box: 0.075223, loss_rpn_box: 0.008156, loss_object: 0.009021\n"
          ]
        },
        {
          "output_type": "stream",
          "name": "stderr",
          "text": [
            "100%|██████████| 22/22 [00:32<00:00,  1.48s/it]\n"
          ]
        },
        {
          "output_type": "stream",
          "name": "stdout",
          "text": [
            "Epoch 66, lr: 0.010000, loss: 0.148310, loss_classifier: 0.049532, loss_box: 0.079379, loss_rpn_box: 0.007972, loss_object: 0.011427\n"
          ]
        },
        {
          "output_type": "stream",
          "name": "stderr",
          "text": [
            "100%|██████████| 22/22 [00:32<00:00,  1.47s/it]\n"
          ]
        },
        {
          "output_type": "stream",
          "name": "stdout",
          "text": [
            "Epoch 67, lr: 0.010000, loss: 0.142434, loss_classifier: 0.047893, loss_box: 0.078399, loss_rpn_box: 0.007601, loss_object: 0.008541\n"
          ]
        },
        {
          "output_type": "stream",
          "name": "stderr",
          "text": [
            "100%|██████████| 22/22 [00:32<00:00,  1.50s/it]\n"
          ]
        },
        {
          "output_type": "stream",
          "name": "stdout",
          "text": [
            "Epoch 68, lr: 0.010000, loss: 0.131264, loss_classifier: 0.040914, loss_box: 0.072151, loss_rpn_box: 0.007796, loss_object: 0.010404\n"
          ]
        },
        {
          "output_type": "stream",
          "name": "stderr",
          "text": [
            "100%|██████████| 22/22 [00:32<00:00,  1.47s/it]\n"
          ]
        },
        {
          "output_type": "stream",
          "name": "stdout",
          "text": [
            "Epoch 69, lr: 0.010000, loss: 0.139925, loss_classifier: 0.047735, loss_box: 0.075888, loss_rpn_box: 0.007558, loss_object: 0.008743\n"
          ]
        },
        {
          "output_type": "stream",
          "name": "stderr",
          "text": [
            "100%|██████████| 22/22 [00:32<00:00,  1.48s/it]\n"
          ]
        },
        {
          "output_type": "stream",
          "name": "stdout",
          "text": [
            "Epoch 70, lr: 0.010000, loss: 0.125600, loss_classifier: 0.040120, loss_box: 0.070780, loss_rpn_box: 0.007010, loss_object: 0.007690\n"
          ]
        },
        {
          "output_type": "stream",
          "name": "stderr",
          "text": [
            "100%|██████████| 22/22 [00:32<00:00,  1.48s/it]\n"
          ]
        },
        {
          "output_type": "stream",
          "name": "stdout",
          "text": [
            "Epoch 71, lr: 0.010000, loss: 0.137112, loss_classifier: 0.043908, loss_box: 0.076172, loss_rpn_box: 0.007983, loss_object: 0.009050\n"
          ]
        },
        {
          "output_type": "stream",
          "name": "stderr",
          "text": [
            "100%|██████████| 22/22 [00:32<00:00,  1.48s/it]\n"
          ]
        },
        {
          "output_type": "stream",
          "name": "stdout",
          "text": [
            "Epoch 72, lr: 0.010000, loss: 0.120171, loss_classifier: 0.039529, loss_box: 0.064241, loss_rpn_box: 0.007366, loss_object: 0.009035\n"
          ]
        },
        {
          "output_type": "stream",
          "name": "stderr",
          "text": [
            "100%|██████████| 22/22 [00:33<00:00,  1.50s/it]\n"
          ]
        },
        {
          "output_type": "stream",
          "name": "stdout",
          "text": [
            "Epoch 73, lr: 0.010000, loss: 0.129648, loss_classifier: 0.041398, loss_box: 0.071285, loss_rpn_box: 0.007470, loss_object: 0.009494\n"
          ]
        },
        {
          "output_type": "stream",
          "name": "stderr",
          "text": [
            "100%|██████████| 22/22 [00:32<00:00,  1.47s/it]\n"
          ]
        },
        {
          "output_type": "stream",
          "name": "stdout",
          "text": [
            "Epoch 74, lr: 0.010000, loss: 0.122732, loss_classifier: 0.040205, loss_box: 0.063976, loss_rpn_box: 0.007372, loss_object: 0.011179\n"
          ]
        },
        {
          "output_type": "stream",
          "name": "stderr",
          "text": [
            "100%|██████████| 22/22 [00:32<00:00,  1.47s/it]\n"
          ]
        },
        {
          "output_type": "stream",
          "name": "stdout",
          "text": [
            "Epoch 75, lr: 0.010000, loss: 0.124654, loss_classifier: 0.041890, loss_box: 0.064728, loss_rpn_box: 0.007367, loss_object: 0.010668\n"
          ]
        },
        {
          "output_type": "stream",
          "name": "stderr",
          "text": [
            "100%|██████████| 22/22 [00:32<00:00,  1.47s/it]\n"
          ]
        },
        {
          "output_type": "stream",
          "name": "stdout",
          "text": [
            "Epoch 76, lr: 0.010000, loss: 0.108473, loss_classifier: 0.032733, loss_box: 0.059666, loss_rpn_box: 0.007641, loss_object: 0.008432\n"
          ]
        },
        {
          "output_type": "stream",
          "name": "stderr",
          "text": [
            "100%|██████████| 22/22 [00:32<00:00,  1.48s/it]\n"
          ]
        },
        {
          "output_type": "stream",
          "name": "stdout",
          "text": [
            "Epoch 77, lr: 0.010000, loss: 0.102106, loss_classifier: 0.032243, loss_box: 0.056023, loss_rpn_box: 0.007272, loss_object: 0.006569\n"
          ]
        },
        {
          "output_type": "stream",
          "name": "stderr",
          "text": [
            "100%|██████████| 22/22 [00:33<00:00,  1.51s/it]\n"
          ]
        },
        {
          "output_type": "stream",
          "name": "stdout",
          "text": [
            "Epoch 78, lr: 0.010000, loss: 0.100509, loss_classifier: 0.031310, loss_box: 0.055396, loss_rpn_box: 0.006929, loss_object: 0.006874\n"
          ]
        },
        {
          "output_type": "stream",
          "name": "stderr",
          "text": [
            "100%|██████████| 22/22 [00:32<00:00,  1.47s/it]\n"
          ]
        },
        {
          "output_type": "stream",
          "name": "stdout",
          "text": [
            "Epoch 79, lr: 0.010000, loss: 0.115994, loss_classifier: 0.034371, loss_box: 0.064939, loss_rpn_box: 0.007977, loss_object: 0.008706\n"
          ]
        },
        {
          "output_type": "stream",
          "name": "stderr",
          "text": [
            "100%|██████████| 22/22 [00:32<00:00,  1.48s/it]\n"
          ]
        },
        {
          "output_type": "stream",
          "name": "stdout",
          "text": [
            "Epoch 80, lr: 0.010000, loss: 0.104355, loss_classifier: 0.031544, loss_box: 0.059516, loss_rpn_box: 0.006600, loss_object: 0.006695\n"
          ]
        },
        {
          "output_type": "stream",
          "name": "stderr",
          "text": [
            "100%|██████████| 22/22 [00:32<00:00,  1.47s/it]\n"
          ]
        },
        {
          "output_type": "stream",
          "name": "stdout",
          "text": [
            "Epoch 81, lr: 0.010000, loss: 0.102867, loss_classifier: 0.031025, loss_box: 0.059008, loss_rpn_box: 0.006726, loss_object: 0.006108\n"
          ]
        },
        {
          "output_type": "stream",
          "name": "stderr",
          "text": [
            "100%|██████████| 22/22 [00:32<00:00,  1.46s/it]\n"
          ]
        },
        {
          "output_type": "stream",
          "name": "stdout",
          "text": [
            "Epoch 82, lr: 0.010000, loss: 0.105785, loss_classifier: 0.031430, loss_box: 0.058222, loss_rpn_box: 0.007163, loss_object: 0.008969\n"
          ]
        },
        {
          "output_type": "stream",
          "name": "stderr",
          "text": [
            "100%|██████████| 22/22 [00:33<00:00,  1.50s/it]\n"
          ]
        },
        {
          "output_type": "stream",
          "name": "stdout",
          "text": [
            "Epoch 83, lr: 0.010000, loss: 0.112807, loss_classifier: 0.035176, loss_box: 0.063651, loss_rpn_box: 0.007072, loss_object: 0.006907\n"
          ]
        },
        {
          "output_type": "stream",
          "name": "stderr",
          "text": [
            "100%|██████████| 22/22 [00:32<00:00,  1.48s/it]\n"
          ]
        },
        {
          "output_type": "stream",
          "name": "stdout",
          "text": [
            "Epoch 84, lr: 0.010000, loss: 0.098252, loss_classifier: 0.030872, loss_box: 0.055591, loss_rpn_box: 0.006409, loss_object: 0.005380\n"
          ]
        },
        {
          "output_type": "stream",
          "name": "stderr",
          "text": [
            "100%|██████████| 22/22 [00:32<00:00,  1.49s/it]\n"
          ]
        },
        {
          "output_type": "stream",
          "name": "stdout",
          "text": [
            "Epoch 85, lr: 0.010000, loss: 0.105309, loss_classifier: 0.033660, loss_box: 0.059901, loss_rpn_box: 0.006606, loss_object: 0.005142\n"
          ]
        },
        {
          "output_type": "stream",
          "name": "stderr",
          "text": [
            "100%|██████████| 22/22 [00:32<00:00,  1.48s/it]\n"
          ]
        },
        {
          "output_type": "stream",
          "name": "stdout",
          "text": [
            "Epoch 86, lr: 0.010000, loss: 0.095135, loss_classifier: 0.029187, loss_box: 0.053351, loss_rpn_box: 0.006490, loss_object: 0.006107\n"
          ]
        },
        {
          "output_type": "stream",
          "name": "stderr",
          "text": [
            "100%|██████████| 22/22 [00:32<00:00,  1.48s/it]\n"
          ]
        },
        {
          "output_type": "stream",
          "name": "stdout",
          "text": [
            "Epoch 87, lr: 0.010000, loss: 0.098092, loss_classifier: 0.030175, loss_box: 0.053589, loss_rpn_box: 0.006313, loss_object: 0.008015\n"
          ]
        },
        {
          "output_type": "stream",
          "name": "stderr",
          "text": [
            "100%|██████████| 22/22 [00:34<00:00,  1.58s/it]\n"
          ]
        },
        {
          "output_type": "stream",
          "name": "stdout",
          "text": [
            "Epoch 88, lr: 0.010000, loss: 0.097518, loss_classifier: 0.031899, loss_box: 0.051938, loss_rpn_box: 0.006231, loss_object: 0.007451\n"
          ]
        },
        {
          "output_type": "stream",
          "name": "stderr",
          "text": [
            "100%|██████████| 22/22 [00:32<00:00,  1.47s/it]\n"
          ]
        },
        {
          "output_type": "stream",
          "name": "stdout",
          "text": [
            "Epoch 89, lr: 0.010000, loss: 0.099226, loss_classifier: 0.032726, loss_box: 0.052826, loss_rpn_box: 0.006497, loss_object: 0.007178\n"
          ]
        },
        {
          "output_type": "stream",
          "name": "stderr",
          "text": [
            "100%|██████████| 22/22 [00:32<00:00,  1.47s/it]\n"
          ]
        },
        {
          "output_type": "stream",
          "name": "stdout",
          "text": [
            "Epoch 90, lr: 0.010000, loss: 0.093054, loss_classifier: 0.029480, loss_box: 0.051011, loss_rpn_box: 0.006212, loss_object: 0.006352\n"
          ]
        },
        {
          "output_type": "stream",
          "name": "stderr",
          "text": [
            "100%|██████████| 22/22 [00:32<00:00,  1.48s/it]\n"
          ]
        },
        {
          "output_type": "stream",
          "name": "stdout",
          "text": [
            "Epoch 91, lr: 0.010000, loss: 0.095494, loss_classifier: 0.028780, loss_box: 0.054496, loss_rpn_box: 0.006539, loss_object: 0.005679\n"
          ]
        },
        {
          "output_type": "stream",
          "name": "stderr",
          "text": [
            "100%|██████████| 22/22 [00:32<00:00,  1.48s/it]\n"
          ]
        },
        {
          "output_type": "stream",
          "name": "stdout",
          "text": [
            "Epoch 92, lr: 0.010000, loss: 0.102686, loss_classifier: 0.033905, loss_box: 0.054820, loss_rpn_box: 0.006441, loss_object: 0.007519\n"
          ]
        },
        {
          "output_type": "stream",
          "name": "stderr",
          "text": [
            "100%|██████████| 22/22 [00:32<00:00,  1.47s/it]\n"
          ]
        },
        {
          "output_type": "stream",
          "name": "stdout",
          "text": [
            "Epoch 93, lr: 0.010000, loss: 0.091833, loss_classifier: 0.027901, loss_box: 0.051665, loss_rpn_box: 0.005917, loss_object: 0.006350\n"
          ]
        },
        {
          "output_type": "stream",
          "name": "stderr",
          "text": [
            "100%|██████████| 22/22 [00:32<00:00,  1.48s/it]\n"
          ]
        },
        {
          "output_type": "stream",
          "name": "stdout",
          "text": [
            "Epoch 94, lr: 0.010000, loss: 0.088552, loss_classifier: 0.026233, loss_box: 0.051665, loss_rpn_box: 0.005892, loss_object: 0.004762\n"
          ]
        },
        {
          "output_type": "stream",
          "name": "stderr",
          "text": [
            "100%|██████████| 22/22 [00:32<00:00,  1.48s/it]\n"
          ]
        },
        {
          "output_type": "stream",
          "name": "stdout",
          "text": [
            "Epoch 95, lr: 0.010000, loss: 0.088701, loss_classifier: 0.026039, loss_box: 0.050474, loss_rpn_box: 0.005792, loss_object: 0.006396\n"
          ]
        },
        {
          "output_type": "stream",
          "name": "stderr",
          "text": [
            "100%|██████████| 22/22 [00:32<00:00,  1.47s/it]\n"
          ]
        },
        {
          "output_type": "stream",
          "name": "stdout",
          "text": [
            "Epoch 96, lr: 0.010000, loss: 0.090505, loss_classifier: 0.028440, loss_box: 0.050745, loss_rpn_box: 0.006142, loss_object: 0.005178\n"
          ]
        },
        {
          "output_type": "stream",
          "name": "stderr",
          "text": [
            "100%|██████████| 22/22 [00:32<00:00,  1.48s/it]\n"
          ]
        },
        {
          "output_type": "stream",
          "name": "stdout",
          "text": [
            "Epoch 97, lr: 0.010000, loss: 0.090468, loss_classifier: 0.028012, loss_box: 0.050599, loss_rpn_box: 0.006160, loss_object: 0.005696\n"
          ]
        },
        {
          "output_type": "stream",
          "name": "stderr",
          "text": [
            "100%|██████████| 22/22 [00:32<00:00,  1.46s/it]\n"
          ]
        },
        {
          "output_type": "stream",
          "name": "stdout",
          "text": [
            "Epoch 98, lr: 0.010000, loss: 0.084908, loss_classifier: 0.025566, loss_box: 0.047688, loss_rpn_box: 0.006012, loss_object: 0.005642\n"
          ]
        },
        {
          "output_type": "stream",
          "name": "stderr",
          "text": [
            "100%|██████████| 22/22 [00:32<00:00,  1.48s/it]"
          ]
        },
        {
          "output_type": "stream",
          "name": "stdout",
          "text": [
            "Epoch 99, lr: 0.010000, loss: 0.082327, loss_classifier: 0.023888, loss_box: 0.048699, loss_rpn_box: 0.005701, loss_object: 0.004038\n"
          ]
        },
        {
          "output_type": "stream",
          "name": "stderr",
          "text": [
            "\n"
          ]
        }
      ],
      "source": [
        "num_epochs=100\n",
        "\n",
        "for epoch in range(num_epochs):\n",
        "    train_one_epoch(model, optimizer, train_loader, device, epoch)\n",
        "#     lr_scheduler.step()"
      ]
    },
    {
      "cell_type": "code",
      "source": [
        "%tb"
      ],
      "metadata": {
        "colab": {
          "base_uri": "https://localhost:8080/"
        },
        "id": "Akdgu5EQ_gU-",
        "outputId": "119e4ba2-a4f8-4771-b32b-a7b87f2f7f1f"
      },
      "id": "Akdgu5EQ_gU-",
      "execution_count": 96,
      "outputs": [
        {
          "output_type": "stream",
          "name": "stderr",
          "text": [
            "No traceback available to show.\n"
          ]
        }
      ]
    },
    {
      "cell_type": "code",
      "execution_count": 97,
      "id": "b4e9741f",
      "metadata": {
        "execution": {
          "iopub.execute_input": "2022-01-24T17:34:21.368224Z",
          "iopub.status.busy": "2022-01-24T17:34:21.366614Z",
          "iopub.status.idle": "2022-01-24T17:34:21.368787Z",
          "shell.execute_reply": "2022-01-24T17:34:21.369215Z"
        },
        "papermill": {
          "duration": 0.873889,
          "end_time": "2022-01-24T17:34:21.369368",
          "exception": false,
          "start_time": "2022-01-24T17:34:20.495479",
          "status": "completed"
        },
        "tags": [],
        "id": "b4e9741f"
      },
      "outputs": [],
      "source": [
        "# our learning rate was too low, due to a lr scheduler bug. For this task, we wont need a scheudul.er"
      ]
    },
    {
      "cell_type": "markdown",
      "id": "2b9075bb",
      "metadata": {
        "papermill": {
          "duration": 0.636954,
          "end_time": "2022-01-24T17:34:22.674593",
          "exception": false,
          "start_time": "2022-01-24T17:34:22.037639",
          "status": "completed"
        },
        "tags": [],
        "id": "2b9075bb"
      },
      "source": [
        "## Trying on sample Images\n",
        "\n",
        "This is the inference code for the model. First, we set the model to evaluation mode and clear the GPU Cache. We also load a test dataset, so that we can use fresh images that the model hasn't seen."
      ]
    },
    {
      "cell_type": "code",
      "source": [
        "torch.save(model, \"/content/drive/MyDrive/faster_r-cnn/saved_models/resnet50_green_100_epochs.pth\")"
      ],
      "metadata": {
        "id": "eNaGhrOR3hhp"
      },
      "id": "eNaGhrOR3hhp",
      "execution_count": 98,
      "outputs": []
    },
    {
      "cell_type": "code",
      "execution_count": 99,
      "id": "7397dc59",
      "metadata": {
        "execution": {
          "iopub.execute_input": "2022-01-24T17:34:23.973616Z",
          "iopub.status.busy": "2022-01-24T17:34:23.972726Z",
          "iopub.status.idle": "2022-01-24T17:34:23.974773Z",
          "shell.execute_reply": "2022-01-24T17:34:23.975222Z",
          "shell.execute_reply.started": "2022-01-19T21:20:38.284212Z"
        },
        "papermill": {
          "duration": 0.669194,
          "end_time": "2022-01-24T17:34:23.975397",
          "exception": false,
          "start_time": "2022-01-24T17:34:23.306203",
          "status": "completed"
        },
        "tags": [],
        "id": "7397dc59"
      },
      "outputs": [],
      "source": [
        "# we will watch first epoich to ensure no errrors\n",
        "# while it is training, lets write code to see the models predictions. lets try again\n",
        "model.eval()\n",
        "torch.cuda.empty_cache()"
      ]
    },
    {
      "cell_type": "code",
      "execution_count": 100,
      "id": "39e7f407",
      "metadata": {
        "execution": {
          "iopub.execute_input": "2022-01-24T17:34:25.252913Z",
          "iopub.status.busy": "2022-01-24T17:34:25.252376Z",
          "iopub.status.idle": "2022-01-24T17:34:25.271105Z",
          "shell.execute_reply": "2022-01-24T17:34:25.271731Z",
          "shell.execute_reply.started": "2022-01-19T21:20:39.546263Z"
        },
        "papermill": {
          "duration": 0.663704,
          "end_time": "2022-01-24T17:34:25.271933",
          "exception": false,
          "start_time": "2022-01-24T17:34:24.608229",
          "status": "completed"
        },
        "tags": [],
        "id": "39e7f407",
        "colab": {
          "base_uri": "https://localhost:8080/"
        },
        "outputId": "1995fd8f-c55b-48e2-8865-04e865de03ea"
      },
      "outputs": [
        {
          "output_type": "stream",
          "name": "stdout",
          "text": [
            "loading annotations into memory...\n",
            "Done (t=0.01s)\n",
            "creating index...\n",
            "index created!\n"
          ]
        }
      ],
      "source": [
        "test_dataset = AquariumDetection(root=dataset_path, split=\"test\", transforms=get_transforms(False))"
      ]
    },
    {
      "cell_type": "code",
      "execution_count": 101,
      "id": "d087a35b",
      "metadata": {
        "execution": {
          "iopub.execute_input": "2022-01-24T17:34:26.659303Z",
          "iopub.status.busy": "2022-01-24T17:34:26.658384Z",
          "iopub.status.idle": "2022-01-24T17:34:26.718843Z",
          "shell.execute_reply": "2022-01-24T17:34:26.719379Z",
          "shell.execute_reply.started": "2022-01-19T21:21:13.617996Z"
        },
        "papermill": {
          "duration": 0.73189,
          "end_time": "2022-01-24T17:34:26.719578",
          "exception": false,
          "start_time": "2022-01-24T17:34:25.987688",
          "status": "completed"
        },
        "tags": [],
        "id": "d087a35b"
      },
      "outputs": [],
      "source": [
        "img, _ = test_dataset[2]\n",
        "img_int = torch.tensor(img*255, dtype=torch.uint8)\n",
        "with torch.no_grad():\n",
        "    prediction = model([img.to(device)])\n",
        "    pred = prediction[0]"
      ]
    },
    {
      "cell_type": "code",
      "execution_count": 54,
      "id": "20cc11bf",
      "metadata": {
        "execution": {
          "iopub.execute_input": "2022-01-24T17:34:28.038469Z",
          "iopub.status.busy": "2022-01-24T17:34:28.037497Z",
          "iopub.status.idle": "2022-01-24T17:34:28.039895Z",
          "shell.execute_reply": "2022-01-24T17:34:28.039366Z",
          "shell.execute_reply.started": "2022-01-19T21:21:13.729953Z"
        },
        "papermill": {
          "duration": 0.689231,
          "end_time": "2022-01-24T17:34:28.040051",
          "exception": false,
          "start_time": "2022-01-24T17:34:27.350820",
          "status": "completed"
        },
        "tags": [],
        "id": "20cc11bf"
      },
      "outputs": [],
      "source": [
        "# it did learn"
      ]
    },
    {
      "cell_type": "code",
      "source": [
        "prediction"
      ],
      "metadata": {
        "colab": {
          "base_uri": "https://localhost:8080/"
        },
        "id": "4SlHxRIx3Hkl",
        "outputId": "764c3e62-4920-448d-ddc0-3114c682fba9"
      },
      "id": "4SlHxRIx3Hkl",
      "execution_count": 102,
      "outputs": [
        {
          "output_type": "execute_result",
          "data": {
            "text/plain": [
              "[{'boxes': tensor([[ 42.2231, 240.1285, 273.7455, 382.9669],\n",
              "          [229.2401, 186.3697, 404.9801, 296.9743],\n",
              "          [253.6965, 276.1761, 405.9185, 379.4269],\n",
              "          [342.8807, 241.0555, 401.5960, 288.7566],\n",
              "          [185.4093, 251.0476, 410.0235, 409.4712],\n",
              "          [189.3013, 206.2750, 417.0029, 354.4676],\n",
              "          [223.0470, 191.7033, 403.6611, 282.9039],\n",
              "          [ 14.3666, 464.0072, 210.9199, 583.1743],\n",
              "          [ 29.7310, 243.3209, 275.0747, 367.4411],\n",
              "          [156.2655, 342.4803, 234.9733, 407.8588]], device='cuda:0'),\n",
              "  'labels': tensor([1, 1, 1, 1, 1, 1, 2, 1, 2, 2], device='cuda:0'),\n",
              "  'scores': tensor([0.9894, 0.9614, 0.9494, 0.5282, 0.2341, 0.1209, 0.1176, 0.0694, 0.0592,\n",
              "          0.0505], device='cuda:0')}]"
            ]
          },
          "metadata": {},
          "execution_count": 102
        }
      ]
    },
    {
      "cell_type": "code",
      "execution_count": 105,
      "id": "76454ced",
      "metadata": {
        "execution": {
          "iopub.execute_input": "2022-01-24T17:34:29.373107Z",
          "iopub.status.busy": "2022-01-24T17:34:29.372195Z",
          "iopub.status.idle": "2022-01-24T17:34:29.840156Z",
          "shell.execute_reply": "2022-01-24T17:34:29.840579Z",
          "shell.execute_reply.started": "2022-01-19T21:21:13.850307Z"
        },
        "papermill": {
          "duration": 1.169655,
          "end_time": "2022-01-24T17:34:29.840728",
          "exception": false,
          "start_time": "2022-01-24T17:34:28.671073",
          "status": "completed"
        },
        "tags": [],
        "id": "76454ced",
        "colab": {
          "base_uri": "https://localhost:8080/",
          "height": 612
        },
        "outputId": "0f355e19-1911-4d75-874f-d1cd11e9fe09"
      },
      "outputs": [
        {
          "output_type": "execute_result",
          "data": {
            "text/plain": [
              "<matplotlib.image.AxesImage at 0x7fe01fb76f10>"
            ]
          },
          "metadata": {},
          "execution_count": 105
        },
        {
          "output_type": "display_data",
          "data": {
            "text/plain": [
              "<Figure size 1008x720 with 1 Axes>"
            ],
            "image/png": "[encoded data removed]"
          },
          "metadata": {
            "needs_background": "light"
          }
        }
      ],
      "source": [
        "fig = plt.figure(figsize=(14, 10))\n",
        "plt.imshow(draw_bounding_boxes(img_int,\n",
        "    pred['boxes'][pred['scores'] > 0.8],\n",
        "    [classes[i] for i in pred['labels'][pred['scores'] > 0.8].tolist()], width=4\n",
        ").permute(1, 2, 0))"
      ]
    }
  ],
  "metadata": {
    "kernelspec": {
      "display_name": "Python 3",
      "language": "python",
      "name": "python3"
    },
    "language_info": {
      "codemirror_mode": {
        "name": "ipython",
        "version": 3
      },
      "file_extension": ".py",
      "mimetype": "text/x-python",
      "name": "python",
      "nbconvert_exporter": "python",
      "pygments_lexer": "ipython3",
      "version": "3.7.12"
    },
    "papermill": {
      "default_parameters": {},
      "duration": 361.810684,
      "end_time": "2022-01-24T17:34:31.817483",
      "environment_variables": {},
      "exception": null,
      "input_path": "__notebook__.ipynb",
      "output_path": "__notebook__.ipynb",
      "parameters": {},
      "start_time": "2022-01-24T17:28:30.006799",
      "version": "2.3.3"
    },
    "colab": {
      "name": "object-detection-fasterrcnn-tutorial.ipynb",
      "provenance": [],
      "collapsed_sections": []
    },
    "gpuClass": "standard",
    "accelerator": "GPU"
  },
  "nbformat": 4,
  "nbformat_minor": 5
}