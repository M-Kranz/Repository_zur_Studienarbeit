{
  "nbformat": 4,
  "nbformat_minor": 0,
  "metadata": {
    "colab": {
      "name": "YOLOv7.ipynb",
      "provenance": [],
      "collapsed_sections": []
    },
    "kernelspec": {
      "name": "python3",
      "display_name": "Python 3"
    },
    "language_info": {
      "name": "python"
    },
    "accelerator": "GPU",
    "gpuClass": "standard"
  },
  "cells": [
    {
      "cell_type": "code",
      "source": [
        "%cd /content/drive/MyDrive/YOLOv7/Model/yolov7/data/normal/labels\n",
        "!unzip /content/drive/MyDrive/YOLOv7/Model/yolov7/data/normal/labels/test-20220821T182551Z-001.zip\n",
        "!unzip /content/drive/MyDrive/YOLOv7/Model/yolov7/data/normal/labels/train-20220821T182550Z-001.zip"
      ],
      "metadata": {
        "id": "GvPL6GSgf122"
      },
      "execution_count": null,
      "outputs": []
    },
    {
      "cell_type": "code",
      "source": [
        "from google.colab import drive\n",
        "drive.mount('/content/drive')"
      ],
      "metadata": {
        "colab": {
          "base_uri": "https://localhost:8080/"
        },
        "id": "D_lEbWN_eUJc",
        "outputId": "87b6bbac-5048-4ec2-b406-2140339b4424"
      },
      "execution_count": 2,
      "outputs": [
        {
          "output_type": "stream",
          "name": "stdout",
          "text": [
            "Mounted at /content/drive\n",
            "Drive already mounted at /content/drive; to attempt to forcibly remount, call drive.mount(\"/content/drive\", force_remount=True).\n"
          ]
        }
      ]
    },
    {
      "cell_type": "markdown",
      "source": [
        "### YOLOv7"
      ],
      "metadata": {
        "id": "Yz2nCYssf1CG"
      }
    },
    {
      "cell_type": "code",
      "source": [
        "%cd /content/drive/MyDrive/YOLOv7"
      ],
      "metadata": {
        "id": "fwO8-EYrC775",
        "colab": {
          "base_uri": "https://localhost:8080/"
        },
        "outputId": "3aa99775-1171-4275-8a1d-fe7cbdd0e096"
      },
      "execution_count": 3,
      "outputs": [
        {
          "output_type": "stream",
          "name": "stdout",
          "text": [
            "/content/drive/MyDrive/YOLOv7\n"
          ]
        }
      ]
    },
    {
      "cell_type": "code",
      "source": [
        "!git clone https://github.com/WongKinYiu/yolov7.git"
      ],
      "metadata": {
        "id": "5nTLgeFICoAf",
        "colab": {
          "base_uri": "https://localhost:8080/"
        },
        "outputId": "cb565b7d-0f82-4cd9-b1d4-000b51834466"
      },
      "execution_count": 4,
      "outputs": [
        {
          "output_type": "stream",
          "name": "stdout",
          "text": [
            "Cloning into 'yolov7'...\n",
            "remote: Enumerating objects: 749, done.\u001b[K\n",
            "remote: Total 749 (delta 0), reused 0 (delta 0), pack-reused 749\u001b[K\n",
            "Receiving objects: 100% (749/749), 67.46 MiB | 15.95 MiB/s, done.\n",
            "Resolving deltas: 100% (375/375), done.\n",
            "Checking out files: 100% (103/103), done.\n"
          ]
        }
      ]
    },
    {
      "cell_type": "code",
      "source": [
        "%cd /content/drive/MyDrive/YOLOv7/yolov7"
      ],
      "metadata": {
        "id": "mgU4adQOPTEV",
        "colab": {
          "base_uri": "https://localhost:8080/"
        },
        "outputId": "b8df5e84-f39a-4d27-bbdc-f44cd8165362"
      },
      "execution_count": 6,
      "outputs": [
        {
          "output_type": "stream",
          "name": "stdout",
          "text": [
            "/content/drive/MyDrive/YOLOv7/yolov7\n"
          ]
        }
      ]
    },
    {
      "cell_type": "code",
      "source": [
        "!pip install -r requirements.txt"
      ],
      "metadata": {
        "id": "aIt_3JiDDKfY",
        "colab": {
          "base_uri": "https://localhost:8080/"
        },
        "outputId": "224ceab4-da27-44e8-90da-f62cbe4d64ff"
      },
      "execution_count": 7,
      "outputs": [
        {
          "output_type": "stream",
          "name": "stdout",
          "text": [
            "Looking in indexes: https://pypi.org/simple, https://us-python.pkg.dev/colab-wheels/public/simple/\n",
            "Requirement already satisfied: matplotlib>=3.2.2 in /usr/local/lib/python3.7/dist-packages (from -r requirements.txt (line 4)) (3.2.2)\n",
            "Requirement already satisfied: numpy>=1.18.5 in /usr/local/lib/python3.7/dist-packages (from -r requirements.txt (line 5)) (1.21.6)\n",
            "Requirement already satisfied: opencv-python>=4.1.1 in /usr/local/lib/python3.7/dist-packages (from -r requirements.txt (line 6)) (4.6.0.66)\n",
            "Requirement already satisfied: Pillow>=7.1.2 in /usr/local/lib/python3.7/dist-packages (from -r requirements.txt (line 7)) (7.1.2)\n",
            "Requirement already satisfied: PyYAML>=5.3.1 in /usr/local/lib/python3.7/dist-packages (from -r requirements.txt (line 8)) (6.0)\n",
            "Requirement already satisfied: requests>=2.23.0 in /usr/local/lib/python3.7/dist-packages (from -r requirements.txt (line 9)) (2.23.0)\n",
            "Requirement already satisfied: scipy>=1.4.1 in /usr/local/lib/python3.7/dist-packages (from -r requirements.txt (line 10)) (1.7.3)\n",
            "Requirement already satisfied: torch!=1.12.0,>=1.7.0 in /usr/local/lib/python3.7/dist-packages (from -r requirements.txt (line 11)) (1.12.1+cu113)\n",
            "Requirement already satisfied: torchvision!=0.13.0,>=0.8.1 in /usr/local/lib/python3.7/dist-packages (from -r requirements.txt (line 12)) (0.13.1+cu113)\n",
            "Requirement already satisfied: tqdm>=4.41.0 in /usr/local/lib/python3.7/dist-packages (from -r requirements.txt (line 13)) (4.64.0)\n",
            "Requirement already satisfied: protobuf<4.21.3 in /usr/local/lib/python3.7/dist-packages (from -r requirements.txt (line 14)) (3.17.3)\n",
            "Requirement already satisfied: tensorboard>=2.4.1 in /usr/local/lib/python3.7/dist-packages (from -r requirements.txt (line 17)) (2.8.0)\n",
            "Requirement already satisfied: pandas>=1.1.4 in /usr/local/lib/python3.7/dist-packages (from -r requirements.txt (line 21)) (1.3.5)\n",
            "Requirement already satisfied: seaborn>=0.11.0 in /usr/local/lib/python3.7/dist-packages (from -r requirements.txt (line 22)) (0.11.2)\n",
            "Requirement already satisfied: ipython in /usr/local/lib/python3.7/dist-packages (from -r requirements.txt (line 34)) (7.9.0)\n",
            "Requirement already satisfied: psutil in /usr/local/lib/python3.7/dist-packages (from -r requirements.txt (line 35)) (5.4.8)\n",
            "Collecting thop\n",
            "  Downloading thop-0.1.1.post2207130030-py3-none-any.whl (15 kB)\n",
            "Requirement already satisfied: python-dateutil>=2.1 in /usr/local/lib/python3.7/dist-packages (from matplotlib>=3.2.2->-r requirements.txt (line 4)) (2.8.2)\n",
            "Requirement already satisfied: pyparsing!=2.0.4,!=2.1.2,!=2.1.6,>=2.0.1 in /usr/local/lib/python3.7/dist-packages (from matplotlib>=3.2.2->-r requirements.txt (line 4)) (3.0.9)\n",
            "Requirement already satisfied: kiwisolver>=1.0.1 in /usr/local/lib/python3.7/dist-packages (from matplotlib>=3.2.2->-r requirements.txt (line 4)) (1.4.4)\n",
            "Requirement already satisfied: cycler>=0.10 in /usr/local/lib/python3.7/dist-packages (from matplotlib>=3.2.2->-r requirements.txt (line 4)) (0.11.0)\n",
            "Requirement already satisfied: certifi>=2017.4.17 in /usr/local/lib/python3.7/dist-packages (from requests>=2.23.0->-r requirements.txt (line 9)) (2022.6.15)\n",
            "Requirement already satisfied: chardet<4,>=3.0.2 in /usr/local/lib/python3.7/dist-packages (from requests>=2.23.0->-r requirements.txt (line 9)) (3.0.4)\n",
            "Requirement already satisfied: urllib3!=1.25.0,!=1.25.1,<1.26,>=1.21.1 in /usr/local/lib/python3.7/dist-packages (from requests>=2.23.0->-r requirements.txt (line 9)) (1.24.3)\n",
            "Requirement already satisfied: idna<3,>=2.5 in /usr/local/lib/python3.7/dist-packages (from requests>=2.23.0->-r requirements.txt (line 9)) (2.10)\n",
            "Requirement already satisfied: typing-extensions in /usr/local/lib/python3.7/dist-packages (from torch!=1.12.0,>=1.7.0->-r requirements.txt (line 11)) (4.1.1)\n",
            "Requirement already satisfied: six>=1.9 in /usr/local/lib/python3.7/dist-packages (from protobuf<4.21.3->-r requirements.txt (line 14)) (1.15.0)\n",
            "Requirement already satisfied: markdown>=2.6.8 in /usr/local/lib/python3.7/dist-packages (from tensorboard>=2.4.1->-r requirements.txt (line 17)) (3.4.1)\n",
            "Requirement already satisfied: grpcio>=1.24.3 in /usr/local/lib/python3.7/dist-packages (from tensorboard>=2.4.1->-r requirements.txt (line 17)) (1.47.0)\n",
            "Requirement already satisfied: google-auth-oauthlib<0.5,>=0.4.1 in /usr/local/lib/python3.7/dist-packages (from tensorboard>=2.4.1->-r requirements.txt (line 17)) (0.4.6)\n",
            "Requirement already satisfied: wheel>=0.26 in /usr/local/lib/python3.7/dist-packages (from tensorboard>=2.4.1->-r requirements.txt (line 17)) (0.37.1)\n",
            "Requirement already satisfied: tensorboard-plugin-wit>=1.6.0 in /usr/local/lib/python3.7/dist-packages (from tensorboard>=2.4.1->-r requirements.txt (line 17)) (1.8.1)\n",
            "Requirement already satisfied: tensorboard-data-server<0.7.0,>=0.6.0 in /usr/local/lib/python3.7/dist-packages (from tensorboard>=2.4.1->-r requirements.txt (line 17)) (0.6.1)\n",
            "Requirement already satisfied: absl-py>=0.4 in /usr/local/lib/python3.7/dist-packages (from tensorboard>=2.4.1->-r requirements.txt (line 17)) (1.2.0)\n",
            "Requirement already satisfied: google-auth<3,>=1.6.3 in /usr/local/lib/python3.7/dist-packages (from tensorboard>=2.4.1->-r requirements.txt (line 17)) (1.35.0)\n",
            "Requirement already satisfied: werkzeug>=0.11.15 in /usr/local/lib/python3.7/dist-packages (from tensorboard>=2.4.1->-r requirements.txt (line 17)) (1.0.1)\n",
            "Requirement already satisfied: setuptools>=41.0.0 in /usr/local/lib/python3.7/dist-packages (from tensorboard>=2.4.1->-r requirements.txt (line 17)) (57.4.0)\n",
            "Requirement already satisfied: pytz>=2017.3 in /usr/local/lib/python3.7/dist-packages (from pandas>=1.1.4->-r requirements.txt (line 21)) (2022.2.1)\n",
            "Requirement already satisfied: cachetools<5.0,>=2.0.0 in /usr/local/lib/python3.7/dist-packages (from google-auth<3,>=1.6.3->tensorboard>=2.4.1->-r requirements.txt (line 17)) (4.2.4)\n",
            "Requirement already satisfied: rsa<5,>=3.1.4 in /usr/local/lib/python3.7/dist-packages (from google-auth<3,>=1.6.3->tensorboard>=2.4.1->-r requirements.txt (line 17)) (4.9)\n",
            "Requirement already satisfied: pyasn1-modules>=0.2.1 in /usr/local/lib/python3.7/dist-packages (from google-auth<3,>=1.6.3->tensorboard>=2.4.1->-r requirements.txt (line 17)) (0.2.8)\n",
            "Requirement already satisfied: requests-oauthlib>=0.7.0 in /usr/local/lib/python3.7/dist-packages (from google-auth-oauthlib<0.5,>=0.4.1->tensorboard>=2.4.1->-r requirements.txt (line 17)) (1.3.1)\n",
            "Requirement already satisfied: importlib-metadata>=4.4 in /usr/local/lib/python3.7/dist-packages (from markdown>=2.6.8->tensorboard>=2.4.1->-r requirements.txt (line 17)) (4.12.0)\n",
            "Requirement already satisfied: zipp>=0.5 in /usr/local/lib/python3.7/dist-packages (from importlib-metadata>=4.4->markdown>=2.6.8->tensorboard>=2.4.1->-r requirements.txt (line 17)) (3.8.1)\n",
            "Requirement already satisfied: pyasn1<0.5.0,>=0.4.6 in /usr/local/lib/python3.7/dist-packages (from pyasn1-modules>=0.2.1->google-auth<3,>=1.6.3->tensorboard>=2.4.1->-r requirements.txt (line 17)) (0.4.8)\n",
            "Requirement already satisfied: oauthlib>=3.0.0 in /usr/local/lib/python3.7/dist-packages (from requests-oauthlib>=0.7.0->google-auth-oauthlib<0.5,>=0.4.1->tensorboard>=2.4.1->-r requirements.txt (line 17)) (3.2.0)\n",
            "Requirement already satisfied: decorator in /usr/local/lib/python3.7/dist-packages (from ipython->-r requirements.txt (line 34)) (4.4.2)\n",
            "Requirement already satisfied: backcall in /usr/local/lib/python3.7/dist-packages (from ipython->-r requirements.txt (line 34)) (0.2.0)\n",
            "Collecting jedi>=0.10\n",
            "  Downloading jedi-0.18.1-py2.py3-none-any.whl (1.6 MB)\n",
            "\u001b[K     |████████████████████████████████| 1.6 MB 39.6 MB/s \n",
            "\u001b[?25hRequirement already satisfied: pygments in /usr/local/lib/python3.7/dist-packages (from ipython->-r requirements.txt (line 34)) (2.6.1)\n",
            "Requirement already satisfied: pexpect in /usr/local/lib/python3.7/dist-packages (from ipython->-r requirements.txt (line 34)) (4.8.0)\n",
            "Requirement already satisfied: prompt-toolkit<2.1.0,>=2.0.0 in /usr/local/lib/python3.7/dist-packages (from ipython->-r requirements.txt (line 34)) (2.0.10)\n",
            "Requirement already satisfied: pickleshare in /usr/local/lib/python3.7/dist-packages (from ipython->-r requirements.txt (line 34)) (0.7.5)\n",
            "Requirement already satisfied: traitlets>=4.2 in /usr/local/lib/python3.7/dist-packages (from ipython->-r requirements.txt (line 34)) (5.1.1)\n",
            "Requirement already satisfied: parso<0.9.0,>=0.8.0 in /usr/local/lib/python3.7/dist-packages (from jedi>=0.10->ipython->-r requirements.txt (line 34)) (0.8.3)\n",
            "Requirement already satisfied: wcwidth in /usr/local/lib/python3.7/dist-packages (from prompt-toolkit<2.1.0,>=2.0.0->ipython->-r requirements.txt (line 34)) (0.2.5)\n",
            "Requirement already satisfied: ptyprocess>=0.5 in /usr/local/lib/python3.7/dist-packages (from pexpect->ipython->-r requirements.txt (line 34)) (0.7.0)\n",
            "Installing collected packages: jedi, thop\n",
            "Successfully installed jedi-0.18.1 thop-0.1.1.post2207130030\n"
          ]
        }
      ]
    },
    {
      "cell_type": "code",
      "source": [
        "%cd /content/drive/MyDrive/YOLOv7/yolov7/data\n",
        "!unzip /content/drive/MyDrive/YOLOv7/yolov7/data/green.zip\n",
        "!unzip /content/drive/MyDrive/YOLOv7/yolov7/data/labels-20220821T221930Z-001.zip"
      ],
      "metadata": {
        "colab": {
          "base_uri": "https://localhost:8080/"
        },
        "id": "r1pdsFIcfzJ7",
        "outputId": "34c6c8e4-cb59-444b-e82d-e8eb084d49b2"
      },
      "execution_count": 8,
      "outputs": [
        {
          "output_type": "stream",
          "name": "stdout",
          "text": [
            "/content/drive/MyDrive/YOLOv7/yolov7/data\n",
            "Archive:  /content/drive/MyDrive/YOLOv7/yolov7/data/green.zip\n",
            "   creating: green/test/\n",
            "  inflating: green/test/20220616_131603329_iOS.jpg  \n",
            "  inflating: green/test/20220616_131606681_iOS.jpg  \n",
            "  inflating: green/test/20220616_131645556_iOS.jpg  \n",
            "  inflating: green/test/20220616_131654028_iOS.jpg  \n",
            "  inflating: green/test/20220616_131656079_iOS.jpg  \n",
            "  inflating: green/test/20220616_131709047_iOS.jpg  \n",
            "  inflating: green/test/20220616_131742632_iOS.jpg  \n",
            "  inflating: green/test/20220616_131754007_iOS.jpg  \n",
            "  inflating: green/test/20220616_131800940_iOS.jpg  \n",
            "  inflating: green/test/20220616_131808521_iOS.jpg  \n",
            "  inflating: green/test/20220616_131818873_iOS.jpg  \n",
            "  inflating: green/test/20220616_131959666_iOS.jpg  \n",
            "  inflating: green/test/20220616_132007620_iOS.jpg  \n",
            "  inflating: green/test/20220616_132026209_iOS.jpg  \n",
            "  inflating: green/test/20220616_132029884_iOS.jpg  \n",
            "  inflating: green/test/20220616_132046962_iOS.jpg  \n",
            "  inflating: green/test/20220616_132051878_iOS.jpg  \n",
            "  inflating: green/test/20220616_132356675_iOS.jpg  \n",
            "  inflating: green/test/20220616_132406893_iOS.jpg  \n",
            "  inflating: green/test/20220616_132409540_iOS.jpg  \n",
            "  inflating: green/test/20220616_132420035_iOS.jpg  \n",
            "  inflating: green/test/20220616_132424615_iOS.jpg  \n",
            "  inflating: green/test/20220616_132435187_iOS.jpg  \n",
            "  inflating: green/test/20220616_133653954_iOS.jpg  \n",
            "  inflating: green/test/20220616_133709353_iOS.jpg  \n",
            "  inflating: green/test/20220616_133713504_iOS.jpg  \n",
            "  inflating: green/test/20220616_133722320_iOS.jpg  \n",
            "  inflating: green/test/20220616_133753823_iOS.jpg  \n",
            "  inflating: green/test/20220616_133800108_iOS.jpg  \n",
            "  inflating: green/test/20220616_133807150_iOS.jpg  \n",
            "  inflating: green/test/20220616_133813375_iOS.jpg  \n",
            "  inflating: green/test/20220616_133819949_iOS.jpg  \n",
            "  inflating: green/test/20220616_133911103_iOS.jpg  \n",
            "  inflating: green/test/20220616_133915697_iOS.jpg  \n",
            "  inflating: green/test/20220616_133920337_iOS.jpg  \n",
            "   creating: green/train/\n",
            "  inflating: green/train/20220616_131458522_iOS.jpg  \n",
            "  inflating: green/train/20220616_131502275_iOS.jpg  \n",
            "  inflating: green/train/20220616_131503692_iOS.jpg  \n",
            "  inflating: green/train/20220616_131507925_iOS.jpg  \n",
            "  inflating: green/train/20220616_131513746_iOS.jpg  \n",
            "  inflating: green/train/20220616_131519812_iOS.jpg  \n",
            "  inflating: green/train/20220616_131524505_iOS.jpg  \n",
            "  inflating: green/train/20220616_131540654_iOS.jpg  \n",
            "  inflating: green/train/20220616_131554674_iOS.jpg  \n",
            "  inflating: green/train/20220616_131557092_iOS.jpg  \n",
            "  inflating: green/train/20220616_131558877_iOS.jpg  \n",
            "  inflating: green/train/20220616_131559927_iOS.jpg  \n",
            "  inflating: green/train/20220616_131602178_iOS.jpg  \n",
            "  inflating: green/train/20220616_131640802_iOS.jpg  \n",
            "  inflating: green/train/20220616_131651443_iOS.jpg  \n",
            "  inflating: green/train/20220616_131657597_iOS.jpg  \n",
            "  inflating: green/train/20220616_131658413_iOS.jpg  \n",
            "  inflating: green/train/20220616_131711299_iOS.jpg  \n",
            "  inflating: green/train/20220616_131745116_iOS.jpg  \n",
            "  inflating: green/train/20220616_131756358_iOS.jpg  \n",
            "  inflating: green/train/20220616_131806270_iOS.jpg  \n",
            "  inflating: green/train/20220616_131812218_iOS.jpg  \n",
            "  inflating: green/train/20220616_131846867_iOS.jpg  \n",
            "  inflating: green/train/20220616_131848719_iOS.jpg  \n",
            "  inflating: green/train/20220616_131853606_iOS.jpg  \n",
            "  inflating: green/train/20220616_131900895_iOS.jpg  \n",
            "  inflating: green/train/20220616_131907167_iOS.jpg  \n",
            "  inflating: green/train/20220616_131910519_iOS.jpg  \n",
            "  inflating: green/train/20220616_131949235_iOS.jpg  \n",
            "  inflating: green/train/20220616_131952136_iOS.jpg  \n",
            "  inflating: green/train/20220616_131954119_iOS.jpg  \n",
            "  inflating: green/train/20220616_131956060_iOS.jpg  \n",
            "  inflating: green/train/20220616_132001014_iOS.jpg  \n",
            "  inflating: green/train/20220616_132027833_iOS.jpg  \n",
            "  inflating: green/train/20220616_132042484_iOS.jpg  \n",
            "  inflating: green/train/20220616_132101037_iOS.jpg  \n",
            "  inflating: green/train/20220616_132122341_iOS.jpg  \n",
            "  inflating: green/train/20220616_132127168_iOS.jpg  \n",
            "  inflating: green/train/20220616_132132120_iOS.jpg  \n",
            "  inflating: green/train/20220616_132134953_iOS.jpg  \n",
            "  inflating: green/train/20220616_132138198_iOS.jpg  \n",
            "  inflating: green/train/20220616_132144587_iOS.jpg  \n",
            "  inflating: green/train/20220616_132149373_iOS.jpg  \n",
            "  inflating: green/train/20220616_132157226_iOS.jpg  \n",
            "  inflating: green/train/20220616_132206308_iOS.jpg  \n",
            "  inflating: green/train/20220616_132254765_iOS.jpg  \n",
            "  inflating: green/train/20220616_132256913_iOS.jpg  \n",
            "  inflating: green/train/20220616_132302513_iOS.jpg  \n",
            "  inflating: green/train/20220616_132304232_iOS.jpg  \n",
            "  inflating: green/train/20220616_132308353_iOS.jpg  \n",
            "  inflating: green/train/20220616_132310241_iOS.jpg  \n",
            "  inflating: green/train/20220616_132312528_iOS.jpg  \n",
            "  inflating: green/train/20220616_132317816_iOS.jpg  \n",
            "  inflating: green/train/20220616_132328016_iOS.jpg  \n",
            "  inflating: green/train/20220616_132330113_iOS.jpg  \n",
            "  inflating: green/train/20220616_132332799_iOS.jpg  \n",
            "  inflating: green/train/20220616_132335283_iOS.jpg  \n",
            "  inflating: green/train/20220616_132343100_iOS.jpg  \n",
            "  inflating: green/train/20220616_132347620_iOS.jpg  \n",
            "  inflating: green/train/20220616_132354584_iOS.jpg  \n",
            "  inflating: green/train/20220616_132357000_iOS.jpg  \n",
            "  inflating: green/train/20220616_132407181_iOS.jpg  \n",
            "  inflating: green/train/20220616_132411907_iOS.jpg  \n",
            "  inflating: green/train/20220616_132431600_iOS.jpg  \n",
            "  inflating: green/train/20220616_133649084_iOS.jpg  \n",
            "  inflating: green/train/20220616_133707376_iOS.jpg  \n",
            "  inflating: green/train/20220616_133715481_iOS.jpg  \n",
            "  inflating: green/train/20220616_133716987_iOS.jpg  \n",
            "  inflating: green/train/20220616_133751241_iOS.jpg  \n",
            "  inflating: green/train/20220616_133755975_iOS.jpg  \n",
            "  inflating: green/train/20220616_133804645_iOS.jpg  \n",
            "  inflating: green/train/20220616_133811114_iOS.jpg  \n",
            "  inflating: green/train/20220616_133815345_iOS.jpg  \n",
            "  inflating: green/train/20220616_133821626_iOS.jpg  \n",
            "  inflating: green/train/20220616_133823307_iOS.jpg  \n",
            "  inflating: green/train/20220616_133827008_iOS.jpg  \n",
            "  inflating: green/train/20220616_133828885_iOS.jpg  \n",
            "  inflating: green/train/20220616_133831544_iOS.jpg  \n",
            "  inflating: green/train/20220616_133835476_iOS.jpg  \n",
            "  inflating: green/train/20220616_133900632_iOS.jpg  \n",
            "  inflating: green/train/20220616_133902531_iOS.jpg  \n",
            "  inflating: green/train/20220616_133905335_iOS.jpg  \n",
            "  inflating: green/train/20220616_133907596_iOS.jpg  \n",
            "  inflating: green/train/20220616_133909059_iOS.jpg  \n",
            "  inflating: green/train/20220616_133913798_iOS.jpg  \n",
            "  inflating: green/train/20220616_133918356_iOS.jpg  \n",
            "  inflating: green/train/20220616_133922680_iOS.jpg  \n",
            "Archive:  /content/drive/MyDrive/YOLOv7/yolov7/data/labels-20220821T221930Z-001.zip\n",
            "  inflating: labels/test-20220821T182551Z-001.zip  \n",
            "  inflating: labels/train-20220821T182550Z-001.zip  \n",
            "  inflating: labels/train/20220616_133815345_iOS.txt  \n",
            "  inflating: labels/train/20220616_131640802_iOS.txt  \n",
            "  inflating: labels/train/20220616_131540654_iOS.txt  \n",
            "  inflating: labels/train/20220616_132132120_iOS.txt  \n",
            "  inflating: labels/train/20220616_131658413_iOS.txt  \n",
            "  inflating: labels/train/20220616_132122341_iOS.txt  \n",
            "  inflating: labels/train/20220616_131524505_iOS.txt  \n",
            "  inflating: labels/train/20220616_132001014_iOS.txt  \n",
            "  inflating: labels/train/20220616_133900632_iOS.txt  \n",
            "  inflating: labels/train/20220616_133922680_iOS.txt  \n",
            "  inflating: labels/train/20220616_132407181_iOS.txt  \n",
            "  inflating: labels/train/20220616_133821626_iOS.txt  \n",
            "  inflating: labels/train/20220616_133715481_iOS.txt  \n",
            "  inflating: labels/train/20220616_132332799_iOS.txt  \n",
            "  inflating: labels/train/20220616_131554674_iOS.txt  \n",
            "  inflating: labels/train/20220616_132312528_iOS.txt  \n",
            "  inflating: labels/train/20220616_132310241_iOS.txt  \n",
            "  inflating: labels/train/20220616_132411907_iOS.txt  \n",
            "  inflating: labels/train/20220616_132343100_iOS.txt  \n",
            "  inflating: labels/train/20220616_133716987_iOS.txt  \n",
            "  inflating: labels/train/20220616_131907167_iOS.txt  \n",
            "  inflating: labels/train/20220616_132042484_iOS.txt  \n",
            "  inflating: labels/train/20220616_131513746_iOS.txt  \n",
            "  inflating: labels/train/20220616_132254765_iOS.txt  \n",
            "  inflating: labels/train/20220616_131956060_iOS.txt  \n",
            "  inflating: labels/train/20220616_133905335_iOS.txt  \n",
            "  inflating: labels/train/20220616_131711299_iOS.txt  \n",
            "  inflating: labels/train/20220616_131559927_iOS.txt  \n",
            "  inflating: labels/train/20220616_132101037_iOS.txt  \n",
            "  inflating: labels/train/20220616_133823307_iOS.txt  \n",
            "  inflating: labels/train/20220616_131900895_iOS.txt  \n",
            "  inflating: labels/train/20220616_133755975_iOS.txt  \n",
            "  inflating: labels/train/20220616_131507925_iOS.txt  \n",
            "  inflating: labels/train/20220616_131745116_iOS.txt  \n",
            "  inflating: labels/train/20220616_133907596_iOS.txt  \n",
            "  inflating: labels/train/20220616_131602178_iOS.txt  \n",
            "  inflating: labels/train/20220616_131458522_iOS.txt  \n",
            "  inflating: labels/train/20220616_132138198_iOS.txt  \n",
            "  inflating: labels/train/20220616_131812218_iOS.txt  \n",
            "  inflating: labels/train/20220616_133751241_iOS.txt  \n",
            "  inflating: labels/train/20220616_133913798_iOS.txt  \n",
            "  inflating: labels/train/20220616_131853606_iOS.txt  \n",
            "  inflating: labels/train/20220616_132354584_iOS.txt  \n",
            "  inflating: labels/train/20220616_131952136_iOS.txt  \n",
            "  inflating: labels/train/20220616_133811114_iOS.txt  \n",
            "  inflating: labels/train/20220616_133902531_iOS.txt  \n",
            "  inflating: labels/train/20220616_132157226_iOS.txt  \n",
            "  inflating: labels/train/20220616_132317816_iOS.txt  \n",
            "  inflating: labels/train/20220616_132302513_iOS.txt  \n",
            "  inflating: labels/train/20220616_131651443_iOS.txt  \n",
            "  inflating: labels/train/20220616_132127168_iOS.txt  \n",
            "  inflating: labels/train/20220616_132347620_iOS.txt  \n",
            "  inflating: labels/train/20220616_133909059_iOS.txt  \n",
            "  inflating: labels/train/20220616_133835476_iOS.txt  \n",
            "  inflating: labels/train/20220616_133649084_iOS.txt  \n",
            "  inflating: labels/train/20220616_133827008_iOS.txt  \n",
            "  inflating: labels/train/20220616_133831544_iOS.txt  \n",
            "  inflating: labels/train/20220616_131557092_iOS.txt  \n",
            "  inflating: labels/train/20220616_132027833_iOS.txt  \n",
            "  inflating: labels/train/20220616_133707376_iOS.txt  \n",
            "  inflating: labels/train/20220616_131558877_iOS.txt  \n",
            "  inflating: labels/train/20220616_133804645_iOS.txt  \n",
            "  inflating: labels/train/20220616_132134953_iOS.txt  \n",
            "  inflating: labels/train/20220616_131949235_iOS.txt  \n",
            "  inflating: labels/train/20220616_131519812_iOS.txt  \n",
            "  inflating: labels/train/20220616_131806270_iOS.txt  \n",
            "  inflating: labels/train/20220616_133918356_iOS.txt  \n",
            "  inflating: labels/train/20220616_131954119_iOS.txt  \n",
            "  inflating: labels/train/20220616_131657597_iOS.txt  \n",
            "  inflating: labels/train/20220616_131756358_iOS.txt  \n",
            "  inflating: labels/train/20220616_132206308_iOS.txt  \n",
            "  inflating: labels/train/20220616_132328016_iOS.txt  \n",
            "  inflating: labels/train/20220616_131502275_iOS.txt  \n",
            "  inflating: labels/train/20220616_132357000_iOS.txt  \n",
            "  inflating: labels/train/20220616_132431600_iOS.txt  \n",
            "  inflating: labels/train/20220616_132149373_iOS.txt  \n",
            "  inflating: labels/train/20220616_131846867_iOS.txt  \n",
            "  inflating: labels/train/20220616_133828885_iOS.txt  \n",
            "  inflating: labels/train/20220616_132330113_iOS.txt  \n",
            "  inflating: labels/train/20220616_132335283_iOS.txt  \n",
            "  inflating: labels/train/20220616_132308353_iOS.txt  \n",
            "  inflating: labels/test/20220616_133800108_iOS.txt  \n",
            "  inflating: labels/test/20220616_132424615_iOS.txt  \n",
            "  inflating: labels/train/20220616_132256913_iOS.txt  \n",
            "  inflating: labels/test/20220616_132406893_iOS.txt  \n",
            "  inflating: labels/train/20220616_131910519_iOS.txt  \n",
            "  inflating: labels/test/20220616_131606681_iOS.txt  \n",
            "  inflating: labels/train/20220616_132304232_iOS.txt  \n",
            "  inflating: labels/test/20220616_131818873_iOS.txt  \n",
            "  inflating: labels/train/20220616_131848719_iOS.txt  \n",
            "  inflating: labels/test/20220616_131709047_iOS.txt  \n",
            "  inflating: labels/train/20220616_131503692_iOS.txt  \n",
            "  inflating: labels/test/20220616_131654028_iOS.txt  \n",
            "  inflating: labels/test/20220616_132007620_iOS.txt  \n",
            "  inflating: labels/test/20220616_133920337_iOS.txt  \n",
            "  inflating: labels/test/20220616_133709353_iOS.txt  \n",
            "  inflating: labels/test/20220616_131800940_iOS.txt  \n",
            "  inflating: labels/train/20220616_132144587_iOS.txt  \n",
            "  inflating: labels/test/20220616_133819949_iOS.txt  \n",
            "  inflating: labels/test/20220616_133753823_iOS.txt  \n",
            "  inflating: labels/test/20220616_132029884_iOS.txt  \n",
            "  inflating: labels/test/20220616_132046962_iOS.txt  \n",
            "  inflating: labels/test/20220616_133813375_iOS.txt  \n",
            "  inflating: labels/test/20220616_132409540_iOS.txt  \n",
            "  inflating: labels/test/20220616_133653954_iOS.txt  \n",
            "  inflating: labels/test/20220616_133915697_iOS.txt  \n",
            "  inflating: labels/test/20220616_132356675_iOS.txt  \n",
            "  inflating: labels/test/20220616_133722320_iOS.txt  \n",
            "  inflating: labels/test/20220616_133911103_iOS.txt  \n",
            "  inflating: labels/test/20220616_131959666_iOS.txt  \n",
            "  inflating: labels/test/20220616_131645556_iOS.txt  \n",
            "  inflating: labels/test/20220616_131742632_iOS.txt  \n",
            "  inflating: labels/test/20220616_131656079_iOS.txt  \n",
            "  inflating: labels/test/20220616_132051878_iOS.txt  \n",
            "  inflating: labels/test/20220616_133713504_iOS.txt  \n",
            "  inflating: labels/test/20220616_131603329_iOS.txt  \n",
            "  inflating: labels/test/20220616_131754007_iOS.txt  \n",
            "  inflating: labels/test/20220616_131808521_iOS.txt  \n",
            "  inflating: labels/test/20220616_132420035_iOS.txt  \n",
            "  inflating: labels/test/20220616_133807150_iOS.txt  \n",
            "  inflating: labels/test/20220616_132435187_iOS.txt  \n",
            "  inflating: labels/test/20220616_132026209_iOS.txt  \n"
          ]
        }
      ]
    },
    {
      "cell_type": "markdown",
      "source": [
        "## Training"
      ],
      "metadata": {
        "id": "R-Wt-Ph8hjls"
      }
    },
    {
      "cell_type": "code",
      "source": [
        "%cd /content/drive/MyDrive/YOLOv7/yolov7"
      ],
      "metadata": {
        "colab": {
          "base_uri": "https://localhost:8080/"
        },
        "id": "2KgHGcJ2htPA",
        "outputId": "ec40e99d-41e5-47f2-faf8-457d61ee4bd7"
      },
      "execution_count": 1,
      "outputs": [
        {
          "output_type": "stream",
          "name": "stdout",
          "text": [
            "/content/drive/MyDrive/YOLOv7/yolov7\n"
          ]
        }
      ]
    },
    {
      "cell_type": "code",
      "source": [
        "!python train.py --workers 8 --device 0 --batch-size 16 --data data/custom.yaml --img 640 640 --cfg cfg/training/yolov7.yaml --weights yolov7.pt --name yolov7 --hyp data/hyp.scratch.p5.yaml --epoch 100"
      ],
      "metadata": {
        "id": "CWdNXH9KD8fS",
        "colab": {
          "base_uri": "https://localhost:8080/"
        },
        "outputId": "5440268f-4c88-4491-e61d-0b63dc9aba1c"
      },
      "execution_count": null,
      "outputs": [
        {
          "output_type": "stream",
          "name": "stdout",
          "text": [
            "YOLOR 🚀 v0.1-105-g064c71e torch 1.12.1+cu113 CUDA:0 (Tesla T4, 15109.75MB)\n",
            "\n",
            "Namespace(adam=False, artifact_alias='latest', batch_size=16, bbox_interval=-1, bucket='', cache_images=False, cfg='cfg/training/yolov7.yaml', data='data/custom.yaml', device='0', entity=None, epochs=100, evolve=False, exist_ok=False, freeze=[0], global_rank=-1, hyp='data/hyp.scratch.p5.yaml', image_weights=False, img_size=[640, 640], label_smoothing=0.0, linear_lr=False, local_rank=-1, multi_scale=False, name='yolov7', noautoanchor=False, nosave=False, notest=False, project='runs/train', quad=False, rect=False, resume=False, save_dir='runs/train/yolov7', save_period=-1, single_cls=False, sync_bn=False, total_batch_size=16, upload_dataset=False, weights='yolov7.pt', workers=8, world_size=1)\n",
            "\u001b[34m\u001b[1mtensorboard: \u001b[0mStart with 'tensorboard --logdir runs/train', view at http://localhost:6006/\n",
            "\u001b[34m\u001b[1mhyperparameters: \u001b[0mlr0=0.01, lrf=0.1, momentum=0.937, weight_decay=0.0005, warmup_epochs=3.0, warmup_momentum=0.8, warmup_bias_lr=0.1, box=0.05, cls=0.3, cls_pw=1.0, obj=0.7, obj_pw=1.0, iou_t=0.2, anchor_t=4.0, fl_gamma=0.0, hsv_h=0.015, hsv_s=0.7, hsv_v=0.4, degrees=0.0, translate=0.2, scale=0.9, shear=0.0, perspective=0.0, flipud=0.0, fliplr=0.5, mosaic=1.0, mixup=0.15, copy_paste=0.0, paste_in=0.15, loss_ota=1\n",
            "\u001b[34m\u001b[1mwandb: \u001b[0mInstall Weights & Biases for YOLOR logging with 'pip install wandb' (recommended)\n",
            "Downloading https://github.com/WongKinYiu/yolov7/releases/download/v0.1/yolov7.pt to yolov7.pt...\n",
            "100% 72.1M/72.1M [00:07<00:00, 10.1MB/s]\n",
            "\n",
            "Overriding model.yaml nc=80 with nc=3\n",
            "\n",
            "                 from  n    params  module                                  arguments                     \n",
            "  0                -1  1       928  models.common.Conv                      [3, 32, 3, 1]                 \n",
            "  1                -1  1     18560  models.common.Conv                      [32, 64, 3, 2]                \n",
            "  2                -1  1     36992  models.common.Conv                      [64, 64, 3, 1]                \n",
            "  3                -1  1     73984  models.common.Conv                      [64, 128, 3, 2]               \n",
            "  4                -1  1      8320  models.common.Conv                      [128, 64, 1, 1]               \n",
            "  5                -2  1      8320  models.common.Conv                      [128, 64, 1, 1]               \n",
            "  6                -1  1     36992  models.common.Conv                      [64, 64, 3, 1]                \n",
            "  7                -1  1     36992  models.common.Conv                      [64, 64, 3, 1]                \n",
            "  8                -1  1     36992  models.common.Conv                      [64, 64, 3, 1]                \n",
            "  9                -1  1     36992  models.common.Conv                      [64, 64, 3, 1]                \n",
            " 10  [-1, -3, -5, -6]  1         0  models.common.Concat                    [1]                           \n",
            " 11                -1  1     66048  models.common.Conv                      [256, 256, 1, 1]              \n",
            " 12                -1  1         0  models.common.MP                        []                            \n",
            " 13                -1  1     33024  models.common.Conv                      [256, 128, 1, 1]              \n",
            " 14                -3  1     33024  models.common.Conv                      [256, 128, 1, 1]              \n",
            " 15                -1  1    147712  models.common.Conv                      [128, 128, 3, 2]              \n",
            " 16          [-1, -3]  1         0  models.common.Concat                    [1]                           \n",
            " 17                -1  1     33024  models.common.Conv                      [256, 128, 1, 1]              \n",
            " 18                -2  1     33024  models.common.Conv                      [256, 128, 1, 1]              \n",
            " 19                -1  1    147712  models.common.Conv                      [128, 128, 3, 1]              \n",
            " 20                -1  1    147712  models.common.Conv                      [128, 128, 3, 1]              \n",
            " 21                -1  1    147712  models.common.Conv                      [128, 128, 3, 1]              \n",
            " 22                -1  1    147712  models.common.Conv                      [128, 128, 3, 1]              \n",
            " 23  [-1, -3, -5, -6]  1         0  models.common.Concat                    [1]                           \n",
            " 24                -1  1    263168  models.common.Conv                      [512, 512, 1, 1]              \n",
            " 25                -1  1         0  models.common.MP                        []                            \n",
            " 26                -1  1    131584  models.common.Conv                      [512, 256, 1, 1]              \n",
            " 27                -3  1    131584  models.common.Conv                      [512, 256, 1, 1]              \n",
            " 28                -1  1    590336  models.common.Conv                      [256, 256, 3, 2]              \n",
            " 29          [-1, -3]  1         0  models.common.Concat                    [1]                           \n",
            " 30                -1  1    131584  models.common.Conv                      [512, 256, 1, 1]              \n",
            " 31                -2  1    131584  models.common.Conv                      [512, 256, 1, 1]              \n",
            " 32                -1  1    590336  models.common.Conv                      [256, 256, 3, 1]              \n",
            " 33                -1  1    590336  models.common.Conv                      [256, 256, 3, 1]              \n",
            " 34                -1  1    590336  models.common.Conv                      [256, 256, 3, 1]              \n",
            " 35                -1  1    590336  models.common.Conv                      [256, 256, 3, 1]              \n",
            " 36  [-1, -3, -5, -6]  1         0  models.common.Concat                    [1]                           \n",
            " 37                -1  1   1050624  models.common.Conv                      [1024, 1024, 1, 1]            \n",
            " 38                -1  1         0  models.common.MP                        []                            \n",
            " 39                -1  1    525312  models.common.Conv                      [1024, 512, 1, 1]             \n",
            " 40                -3  1    525312  models.common.Conv                      [1024, 512, 1, 1]             \n",
            " 41                -1  1   2360320  models.common.Conv                      [512, 512, 3, 2]              \n",
            " 42          [-1, -3]  1         0  models.common.Concat                    [1]                           \n",
            " 43                -1  1    262656  models.common.Conv                      [1024, 256, 1, 1]             \n",
            " 44                -2  1    262656  models.common.Conv                      [1024, 256, 1, 1]             \n",
            " 45                -1  1    590336  models.common.Conv                      [256, 256, 3, 1]              \n",
            " 46                -1  1    590336  models.common.Conv                      [256, 256, 3, 1]              \n",
            " 47                -1  1    590336  models.common.Conv                      [256, 256, 3, 1]              \n",
            " 48                -1  1    590336  models.common.Conv                      [256, 256, 3, 1]              \n",
            " 49  [-1, -3, -5, -6]  1         0  models.common.Concat                    [1]                           \n",
            " 50                -1  1   1050624  models.common.Conv                      [1024, 1024, 1, 1]            \n",
            " 51                -1  1   7609344  models.common.SPPCSPC                   [1024, 512, 1]                \n",
            " 52                -1  1    131584  models.common.Conv                      [512, 256, 1, 1]              \n",
            " 53                -1  1         0  torch.nn.modules.upsampling.Upsample    [None, 2, 'nearest']          \n",
            " 54                37  1    262656  models.common.Conv                      [1024, 256, 1, 1]             \n",
            " 55          [-1, -2]  1         0  models.common.Concat                    [1]                           \n",
            " 56                -1  1    131584  models.common.Conv                      [512, 256, 1, 1]              \n",
            " 57                -2  1    131584  models.common.Conv                      [512, 256, 1, 1]              \n",
            " 58                -1  1    295168  models.common.Conv                      [256, 128, 3, 1]              \n",
            " 59                -1  1    147712  models.common.Conv                      [128, 128, 3, 1]              \n",
            " 60                -1  1    147712  models.common.Conv                      [128, 128, 3, 1]              \n",
            " 61                -1  1    147712  models.common.Conv                      [128, 128, 3, 1]              \n",
            " 62[-1, -2, -3, -4, -5, -6]  1         0  models.common.Concat                    [1]                           \n",
            " 63                -1  1    262656  models.common.Conv                      [1024, 256, 1, 1]             \n",
            " 64                -1  1     33024  models.common.Conv                      [256, 128, 1, 1]              \n",
            " 65                -1  1         0  torch.nn.modules.upsampling.Upsample    [None, 2, 'nearest']          \n",
            " 66                24  1     65792  models.common.Conv                      [512, 128, 1, 1]              \n",
            " 67          [-1, -2]  1         0  models.common.Concat                    [1]                           \n",
            " 68                -1  1     33024  models.common.Conv                      [256, 128, 1, 1]              \n",
            " 69                -2  1     33024  models.common.Conv                      [256, 128, 1, 1]              \n",
            " 70                -1  1     73856  models.common.Conv                      [128, 64, 3, 1]               \n",
            " 71                -1  1     36992  models.common.Conv                      [64, 64, 3, 1]                \n",
            " 72                -1  1     36992  models.common.Conv                      [64, 64, 3, 1]                \n",
            " 73                -1  1     36992  models.common.Conv                      [64, 64, 3, 1]                \n",
            " 74[-1, -2, -3, -4, -5, -6]  1         0  models.common.Concat                    [1]                           \n",
            " 75                -1  1     65792  models.common.Conv                      [512, 128, 1, 1]              \n",
            " 76                -1  1         0  models.common.MP                        []                            \n",
            " 77                -1  1     16640  models.common.Conv                      [128, 128, 1, 1]              \n",
            " 78                -3  1     16640  models.common.Conv                      [128, 128, 1, 1]              \n",
            " 79                -1  1    147712  models.common.Conv                      [128, 128, 3, 2]              \n",
            " 80      [-1, -3, 63]  1         0  models.common.Concat                    [1]                           \n",
            " 81                -1  1    131584  models.common.Conv                      [512, 256, 1, 1]              \n",
            " 82                -2  1    131584  models.common.Conv                      [512, 256, 1, 1]              \n",
            " 83                -1  1    295168  models.common.Conv                      [256, 128, 3, 1]              \n",
            " 84                -1  1    147712  models.common.Conv                      [128, 128, 3, 1]              \n",
            " 85                -1  1    147712  models.common.Conv                      [128, 128, 3, 1]              \n",
            " 86                -1  1    147712  models.common.Conv                      [128, 128, 3, 1]              \n",
            " 87[-1, -2, -3, -4, -5, -6]  1         0  models.common.Concat                    [1]                           \n",
            " 88                -1  1    262656  models.common.Conv                      [1024, 256, 1, 1]             \n",
            " 89                -1  1         0  models.common.MP                        []                            \n",
            " 90                -1  1     66048  models.common.Conv                      [256, 256, 1, 1]              \n",
            " 91                -3  1     66048  models.common.Conv                      [256, 256, 1, 1]              \n",
            " 92                -1  1    590336  models.common.Conv                      [256, 256, 3, 2]              \n",
            " 93      [-1, -3, 51]  1         0  models.common.Concat                    [1]                           \n",
            " 94                -1  1    525312  models.common.Conv                      [1024, 512, 1, 1]             \n",
            " 95                -2  1    525312  models.common.Conv                      [1024, 512, 1, 1]             \n",
            " 96                -1  1   1180160  models.common.Conv                      [512, 256, 3, 1]              \n",
            " 97                -1  1    590336  models.common.Conv                      [256, 256, 3, 1]              \n",
            " 98                -1  1    590336  models.common.Conv                      [256, 256, 3, 1]              \n",
            " 99                -1  1    590336  models.common.Conv                      [256, 256, 3, 1]              \n",
            "100[-1, -2, -3, -4, -5, -6]  1         0  models.common.Concat                    [1]                           \n",
            "101                -1  1   1049600  models.common.Conv                      [2048, 512, 1, 1]             \n",
            "102                75  1    328704  models.common.RepConv                   [128, 256, 3, 1]              \n",
            "103                88  1   1312768  models.common.RepConv                   [256, 512, 3, 1]              \n",
            "104               101  1   5246976  models.common.RepConv                   [512, 1024, 3, 1]             \n",
            "105   [102, 103, 104]  1     44944  models.yolo.IDetect                     [3, [[12, 16, 19, 36, 40, 28], [36, 75, 76, 55, 72, 146], [142, 110, 192, 243, 459, 401]], [256, 512, 1024]]\n",
            "/usr/local/lib/python3.7/dist-packages/torch/functional.py:478: UserWarning: torch.meshgrid: in an upcoming release, it will be required to pass the indexing argument. (Triggered internally at  ../aten/src/ATen/native/TensorShape.cpp:2894.)\n",
            "  return _VF.meshgrid(tensors, **kwargs)  # type: ignore[attr-defined]\n",
            "Model Summary: 415 layers, 37207344 parameters, 37207344 gradients, 105.1 GFLOPS\n",
            "\n",
            "Transferred 552/566 items from yolov7.pt\n",
            "Scaled weight_decay = 0.0005\n",
            "Optimizer groups: 95 .bias, 95 conv.weight, 98 other\n",
            "\u001b[34m\u001b[1mtrain: \u001b[0mScanning '/content/drive/MyDrive/YOLOv7/yolov7/data/labels/train' images and labels... 87 found, 0 missing, 0 empty, 0 corrupted: 100% 87/87 [00:00<00:00, 370.18it/s]\n",
            "\u001b[34m\u001b[1mtrain: \u001b[0mNew cache created: /content/drive/MyDrive/YOLOv7/yolov7/data/labels/train.cache\n",
            "\u001b[34m\u001b[1mval: \u001b[0mScanning '/content/drive/MyDrive/YOLOv7/yolov7/data/labels/test' images and labels... 35 found, 0 missing, 0 empty, 0 corrupted: 100% 35/35 [00:00<00:00, 238.13it/s]\n",
            "\u001b[34m\u001b[1mval: \u001b[0mNew cache created: /content/drive/MyDrive/YOLOv7/yolov7/data/labels/test.cache\n",
            "\n",
            "\u001b[34m\u001b[1mautoanchor: \u001b[0mAnalyzing anchors... anchors/target = 5.63, Best Possible Recall (BPR) = 1.0000\n",
            "Image sizes 640 train, 640 test\n",
            "Using 2 dataloader workers\n",
            "Logging results to runs/train/yolov7\n",
            "Starting training for 100 epochs...\n",
            "\n",
            "     Epoch   gpu_mem       box       obj       cls     total    labels  img_size\n",
            "      0/99     10.6G     0.068     2.648   0.02333      2.74       147       640:  67% 4/6 [01:05<00:20, 10.32s/it]"
          ]
        }
      ]
    },
    {
      "cell_type": "code",
      "source": [
        "!python train.py --workers 8 --device 0 --batch-size 16 --data data/custom.yaml --img 640 640 --cfg cfg/training/yolov7.yaml --weights runs/train/yolov7/weights/last.pt --name yolov7 --hyp data/hyp.scratch.p5.yaml --epoch 100"
      ],
      "metadata": {
        "id": "YKOdEugc6EHP"
      },
      "execution_count": null,
      "outputs": []
    }
  ]
}