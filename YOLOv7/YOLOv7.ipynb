{
  "cells": [
    {
      "cell_type": "markdown",
      "metadata": {
        "id": "Yz2nCYssf1CG"
      },
      "source": [
        "### YOLOv7"
      ]
    },
    {
      "cell_type": "code",
      "execution_count": null,
      "metadata": {
        "colab": {
          "base_uri": "https://localhost:8080/"
        },
        "id": "fwO8-EYrC775",
        "outputId": "3aa99775-1171-4275-8a1d-fe7cbdd0e096"
      },
      "outputs": [],
      "source": [
        "%cd /content/drive/MyDrive/YOLOv7"
      ]
    },
    {
      "cell_type": "code",
      "execution_count": null,
      "metadata": {
        "colab": {
          "base_uri": "https://localhost:8080/"
        },
        "id": "5nTLgeFICoAf",
        "outputId": "cb565b7d-0f82-4cd9-b1d4-000b51834466"
      },
      "outputs": [],
      "source": [
        "!git clone https://github.com/WongKinYiu/yolov7.git"
      ]
    },
    {
      "cell_type": "code",
      "execution_count": null,
      "metadata": {
        "colab": {
          "base_uri": "https://localhost:8080/"
        },
        "id": "mgU4adQOPTEV",
        "outputId": "b8df5e84-f39a-4d27-bbdc-f44cd8165362"
      },
      "outputs": [],
      "source": [
        "%cd /content/drive/MyDrive/YOLOv7/yolov7"
      ]
    },
    {
      "cell_type": "code",
      "execution_count": null,
      "metadata": {
        "colab": {
          "base_uri": "https://localhost:8080/"
        },
        "id": "aIt_3JiDDKfY",
        "outputId": "224ceab4-da27-44e8-90da-f62cbe4d64ff"
      },
      "outputs": [],
      "source": [
        "!pip install -r requirements.txt"
      ]
    },
    {
      "cell_type": "markdown",
      "metadata": {
        "id": "R-Wt-Ph8hjls"
      },
      "source": [
        "## Training"
      ]
    },
    {
      "cell_type": "code",
      "execution_count": null,
      "metadata": {
        "colab": {
          "base_uri": "https://localhost:8080/"
        },
        "id": "2KgHGcJ2htPA",
        "outputId": "ec40e99d-41e5-47f2-faf8-457d61ee4bd7"
      },
      "outputs": [],
      "source": [
        "%cd /content/drive/MyDrive/YOLOv7/yolov7"
      ]
    },
    {
      "cell_type": "code",
      "execution_count": null,
      "metadata": {
        "colab": {
          "base_uri": "https://localhost:8080/"
        },
        "id": "CWdNXH9KD8fS",
        "outputId": "5440268f-4c88-4491-e61d-0b63dc9aba1c"
      },
      "outputs": [],
      "source": [
        "!python train.py --workers 8 --device 0 --batch-size 4 --data data/custom.yaml --img 640 640 --cfg cfg/training/yolov7.yaml --weights yolov7.pt --name yolov7 --hyp data/hyp.scratch.p5.yaml --epoch 100"
      ]
    }
  ],
  "metadata": {
    "accelerator": "GPU",
    "colab": {
      "collapsed_sections": [],
      "name": "YOLOv7.ipynb",
      "provenance": []
    },
    "gpuClass": "standard",
    "kernelspec": {
      "display_name": "Python 3",
      "name": "python3"
    },
    "language_info": {
      "name": "python"
    }
  },
  "nbformat": 4,
  "nbformat_minor": 0
}
